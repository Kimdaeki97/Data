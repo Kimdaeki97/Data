{
 "cells": [
  {
   "cell_type": "markdown",
   "source": [
    "## 0. 데이터 준비"
   ],
   "metadata": {
    "collapsed": false,
    "pycharm": {
     "name": "#%% md\n"
    }
   }
  },
  {
   "cell_type": "code",
   "execution_count": 3,
   "outputs": [
    {
     "data": {
      "text/plain": "    법정동.주소  freq\n0      가동리     1\n1      가산리     6\n2       강동     1\n3      고모리    20\n4      관동동   191\n..     ...   ...\n102    하계리     2\n103    한림면    29\n104    화목동    23\n105    활천동     3\n106     흥동    67\n\n[107 rows x 2 columns]",
      "text/html": "<div>\n<style scoped>\n    .dataframe tbody tr th:only-of-type {\n        vertical-align: middle;\n    }\n\n    .dataframe tbody tr th {\n        vertical-align: top;\n    }\n\n    .dataframe thead th {\n        text-align: right;\n    }\n</style>\n<table border=\"1\" class=\"dataframe\">\n  <thead>\n    <tr style=\"text-align: right;\">\n      <th></th>\n      <th>법정동.주소</th>\n      <th>freq</th>\n    </tr>\n  </thead>\n  <tbody>\n    <tr>\n      <th>0</th>\n      <td>가동리</td>\n      <td>1</td>\n    </tr>\n    <tr>\n      <th>1</th>\n      <td>가산리</td>\n      <td>6</td>\n    </tr>\n    <tr>\n      <th>2</th>\n      <td>강동</td>\n      <td>1</td>\n    </tr>\n    <tr>\n      <th>3</th>\n      <td>고모리</td>\n      <td>20</td>\n    </tr>\n    <tr>\n      <th>4</th>\n      <td>관동동</td>\n      <td>191</td>\n    </tr>\n    <tr>\n      <th>...</th>\n      <td>...</td>\n      <td>...</td>\n    </tr>\n    <tr>\n      <th>102</th>\n      <td>하계리</td>\n      <td>2</td>\n    </tr>\n    <tr>\n      <th>103</th>\n      <td>한림면</td>\n      <td>29</td>\n    </tr>\n    <tr>\n      <th>104</th>\n      <td>화목동</td>\n      <td>23</td>\n    </tr>\n    <tr>\n      <th>105</th>\n      <td>활천동</td>\n      <td>3</td>\n    </tr>\n    <tr>\n      <th>106</th>\n      <td>흥동</td>\n      <td>67</td>\n    </tr>\n  </tbody>\n</table>\n<p>107 rows × 2 columns</p>\n</div>"
     },
     "execution_count": 3,
     "metadata": {},
     "output_type": "execute_result"
    }
   ],
   "source": [
    "# ‘주소현황.csv’ pandas로 불러오기\n",
    "import pandas as pd\n",
    "dt = pd.read_csv('주소현황.csv',encoding='cp949')\n",
    "dt"
   ],
   "metadata": {
    "collapsed": false,
    "pycharm": {
     "name": "#%%\n"
    }
   }
  },
  {
   "cell_type": "code",
   "execution_count": 5,
   "outputs": [
    {
     "data": {
      "text/plain": "                민원접수번호      민원등록일자               민원등록일시  \\\n0  '201601010019445046  2016-01-01  2016-01-01 00:25:00   \n1  '201601010021535047  2016-01-01  2016-01-01 00:28:00   \n2  '201601010022585048  2016-01-01  2016-01-01 00:29:00   \n3  '201601010024225049  2016-01-01  2016-01-01 00:30:00   \n4  '201601011148125050  2016-01-01  2016-01-01 11:54:00   \n\n                                          민원제목  \\\n0  [생활불편스마트폰신고]장애인 전용주차 구역 불법주차[G000001131486]   \n1  [생활불편스마트폰신고]장애인 전용주차 구역 불법주차[G000001131487]   \n2  [생활불편스마트폰신고]장애인 전용주차 구역 불법주차[G000001131488]   \n3  [생활불편스마트폰신고]장애인 전용주차 구역 불법주차[G000001131489]   \n4  [생활불편스마트폰신고]장애인 전용주차 구역 불법주차[G000001131825]   \n\n                                                민원내용               처리기한일시  \\\n0  불법 주정차 신고  불법주차[ 상세위치설명 : 삼계동  푸르지오1차 ]\\r\\n경상남...  2016-01-09 18:00:00   \n1  불법 주정차 신고  장애전용불법주차[ 상세위치설명 : 푸르지오1차 ]\\r\\n경상남도...  2016-01-09 18:00:00   \n2  불법 주정차 신고  불법주차[ 상세위치설명 : 푸르지오1차 ]\\r\\n경상남도 김해시...  2016-01-09 18:00:00   \n3  불법 주정차 신고  불법주차[ 상세위치설명 :  ]\\r\\n경상남도 김해시 삼계동 1...  2016-01-09 18:00:00   \n4  불법 주정차 신고  아파트 계시판을 통한\\r\\n계도를  하였으나 습관적으로\\r\\n상...  2016-01-09 18:00:00   \n\n               담당자지정일시       부서코드         처리부서 처리담당자  ... 실처리일수 민원할당기간  \\\n0  2016-01-04 09:24:00  5350229.0  시민복지국 시민복지과   홍종하  ...   NaN    3.0   \n1  2016-01-04 09:24:00  5350229.0  시민복지국 시민복지과   홍종하  ...   NaN    3.0   \n2  2016-01-04 09:24:00  5350229.0  시민복지국 시민복지과   홍종하  ...   NaN    3.0   \n3  2016-01-04 09:24:00  5350229.0  시민복지국 시민복지과   홍종하  ...   NaN    3.0   \n4  2016-01-04 09:25:00  5350229.0  시민복지국 시민복지과   홍종하  ...   NaN    2.0   \n\n   민원처리기간  총처리기간             최종민원처리기한  민원인주소_시도  민원인주소_시군구  민원인주소_법정동  \\\n0     0.0    3.0  2016-01-09 18:00:00      경상남도        김해시        삼계동   \n1     0.0    3.0  2016-01-09 18:00:00      경상남도        김해시        삼계동   \n2     0.0    3.0  2016-01-09 18:00:00      경상남도        김해시        삼계동   \n3     0.0    3.0  2016-01-09 18:00:00      경상남도        김해시        삼계동   \n4     0.0    3.0  2016-01-09 18:00:00      경상남도        김해시         안동   \n\n   민원내용주소_법정동 최종민원주소  \n0         삼계동    삼계동  \n1         삼계동    삼계동  \n2         삼계동    삼계동  \n3         삼계동    삼계동  \n4          안동     안동  \n\n[5 rows x 25 columns]",
      "text/html": "<div>\n<style scoped>\n    .dataframe tbody tr th:only-of-type {\n        vertical-align: middle;\n    }\n\n    .dataframe tbody tr th {\n        vertical-align: top;\n    }\n\n    .dataframe thead th {\n        text-align: right;\n    }\n</style>\n<table border=\"1\" class=\"dataframe\">\n  <thead>\n    <tr style=\"text-align: right;\">\n      <th></th>\n      <th>민원접수번호</th>\n      <th>민원등록일자</th>\n      <th>민원등록일시</th>\n      <th>민원제목</th>\n      <th>민원내용</th>\n      <th>처리기한일시</th>\n      <th>담당자지정일시</th>\n      <th>부서코드</th>\n      <th>처리부서</th>\n      <th>처리담당자</th>\n      <th>...</th>\n      <th>실처리일수</th>\n      <th>민원할당기간</th>\n      <th>민원처리기간</th>\n      <th>총처리기간</th>\n      <th>최종민원처리기한</th>\n      <th>민원인주소_시도</th>\n      <th>민원인주소_시군구</th>\n      <th>민원인주소_법정동</th>\n      <th>민원내용주소_법정동</th>\n      <th>최종민원주소</th>\n    </tr>\n  </thead>\n  <tbody>\n    <tr>\n      <th>0</th>\n      <td>'201601010019445046</td>\n      <td>2016-01-01</td>\n      <td>2016-01-01 00:25:00</td>\n      <td>[생활불편스마트폰신고]장애인 전용주차 구역 불법주차[G000001131486]</td>\n      <td>불법 주정차 신고  불법주차[ 상세위치설명 : 삼계동  푸르지오1차 ]\\r\\n경상남...</td>\n      <td>2016-01-09 18:00:00</td>\n      <td>2016-01-04 09:24:00</td>\n      <td>5350229.0</td>\n      <td>시민복지국 시민복지과</td>\n      <td>홍종하</td>\n      <td>...</td>\n      <td>NaN</td>\n      <td>3.0</td>\n      <td>0.0</td>\n      <td>3.0</td>\n      <td>2016-01-09 18:00:00</td>\n      <td>경상남도</td>\n      <td>김해시</td>\n      <td>삼계동</td>\n      <td>삼계동</td>\n      <td>삼계동</td>\n    </tr>\n    <tr>\n      <th>1</th>\n      <td>'201601010021535047</td>\n      <td>2016-01-01</td>\n      <td>2016-01-01 00:28:00</td>\n      <td>[생활불편스마트폰신고]장애인 전용주차 구역 불법주차[G000001131487]</td>\n      <td>불법 주정차 신고  장애전용불법주차[ 상세위치설명 : 푸르지오1차 ]\\r\\n경상남도...</td>\n      <td>2016-01-09 18:00:00</td>\n      <td>2016-01-04 09:24:00</td>\n      <td>5350229.0</td>\n      <td>시민복지국 시민복지과</td>\n      <td>홍종하</td>\n      <td>...</td>\n      <td>NaN</td>\n      <td>3.0</td>\n      <td>0.0</td>\n      <td>3.0</td>\n      <td>2016-01-09 18:00:00</td>\n      <td>경상남도</td>\n      <td>김해시</td>\n      <td>삼계동</td>\n      <td>삼계동</td>\n      <td>삼계동</td>\n    </tr>\n    <tr>\n      <th>2</th>\n      <td>'201601010022585048</td>\n      <td>2016-01-01</td>\n      <td>2016-01-01 00:29:00</td>\n      <td>[생활불편스마트폰신고]장애인 전용주차 구역 불법주차[G000001131488]</td>\n      <td>불법 주정차 신고  불법주차[ 상세위치설명 : 푸르지오1차 ]\\r\\n경상남도 김해시...</td>\n      <td>2016-01-09 18:00:00</td>\n      <td>2016-01-04 09:24:00</td>\n      <td>5350229.0</td>\n      <td>시민복지국 시민복지과</td>\n      <td>홍종하</td>\n      <td>...</td>\n      <td>NaN</td>\n      <td>3.0</td>\n      <td>0.0</td>\n      <td>3.0</td>\n      <td>2016-01-09 18:00:00</td>\n      <td>경상남도</td>\n      <td>김해시</td>\n      <td>삼계동</td>\n      <td>삼계동</td>\n      <td>삼계동</td>\n    </tr>\n    <tr>\n      <th>3</th>\n      <td>'201601010024225049</td>\n      <td>2016-01-01</td>\n      <td>2016-01-01 00:30:00</td>\n      <td>[생활불편스마트폰신고]장애인 전용주차 구역 불법주차[G000001131489]</td>\n      <td>불법 주정차 신고  불법주차[ 상세위치설명 :  ]\\r\\n경상남도 김해시 삼계동 1...</td>\n      <td>2016-01-09 18:00:00</td>\n      <td>2016-01-04 09:24:00</td>\n      <td>5350229.0</td>\n      <td>시민복지국 시민복지과</td>\n      <td>홍종하</td>\n      <td>...</td>\n      <td>NaN</td>\n      <td>3.0</td>\n      <td>0.0</td>\n      <td>3.0</td>\n      <td>2016-01-09 18:00:00</td>\n      <td>경상남도</td>\n      <td>김해시</td>\n      <td>삼계동</td>\n      <td>삼계동</td>\n      <td>삼계동</td>\n    </tr>\n    <tr>\n      <th>4</th>\n      <td>'201601011148125050</td>\n      <td>2016-01-01</td>\n      <td>2016-01-01 11:54:00</td>\n      <td>[생활불편스마트폰신고]장애인 전용주차 구역 불법주차[G000001131825]</td>\n      <td>불법 주정차 신고  아파트 계시판을 통한\\r\\n계도를  하였으나 습관적으로\\r\\n상...</td>\n      <td>2016-01-09 18:00:00</td>\n      <td>2016-01-04 09:25:00</td>\n      <td>5350229.0</td>\n      <td>시민복지국 시민복지과</td>\n      <td>홍종하</td>\n      <td>...</td>\n      <td>NaN</td>\n      <td>2.0</td>\n      <td>0.0</td>\n      <td>3.0</td>\n      <td>2016-01-09 18:00:00</td>\n      <td>경상남도</td>\n      <td>김해시</td>\n      <td>안동</td>\n      <td>안동</td>\n      <td>안동</td>\n    </tr>\n  </tbody>\n</table>\n<p>5 rows × 25 columns</p>\n</div>"
     },
     "execution_count": 5,
     "metadata": {},
     "output_type": "execute_result"
    }
   ],
   "source": [
    "# 'final_file.csv’ pandas로 불러오기\n",
    "final = pd.read_csv('final_file.csv',encoding='cp949')\n",
    "final.head()"
   ],
   "metadata": {
    "collapsed": false,
    "pycharm": {
     "name": "#%%\n"
    }
   }
  },
  {
   "cell_type": "markdown",
   "source": [
    "## 1. 기간별 데이터 분류"
   ],
   "metadata": {
    "collapsed": false,
    "pycharm": {
     "name": "#%% md\n"
    }
   }
  },
  {
   "cell_type": "code",
   "execution_count": 6,
   "outputs": [],
   "source": [
    "# 민원등록일시 datetime으로 변환\n",
    "final['민원등록일시'] = pd.to_datetime(final['민원등록일시'],format='%Y-%m-%d %H:%M',errors='ignore')"
   ],
   "metadata": {
    "collapsed": false,
    "pycharm": {
     "name": "#%%\n"
    }
   }
  },
  {
   "cell_type": "code",
   "execution_count": 7,
   "outputs": [
    {
     "data": {
      "text/plain": "0       2016\n1       2016\n2       2016\n3       2016\n4       2016\n        ... \n7614    2016\n7615    2016\n7616    2016\n7617    2016\n7618    2016\nName: 민원등록일시, Length: 7619, dtype: int64"
     },
     "execution_count": 7,
     "metadata": {},
     "output_type": "execute_result"
    }
   ],
   "source": [
    "# 민원등록일시 년도 추출\n",
    "pyear = final['민원등록일시'].dt.year\n",
    "pyear"
   ],
   "metadata": {
    "collapsed": false,
    "pycharm": {
     "name": "#%%\n"
    }
   }
  },
  {
   "cell_type": "code",
   "execution_count": 8,
   "outputs": [
    {
     "data": {
      "text/plain": "0       1\n1       1\n2       1\n3       1\n4       1\n       ..\n7614    6\n7615    6\n7616    6\n7617    6\n7618    6\nName: 민원등록일시, Length: 7619, dtype: int64"
     },
     "execution_count": 8,
     "metadata": {},
     "output_type": "execute_result"
    }
   ],
   "source": [
    "# 민원등록일시 월 추출\n",
    "pmonth = final['민원등록일시'].dt.month\n",
    "pmonth"
   ],
   "metadata": {
    "collapsed": false,
    "pycharm": {
     "name": "#%%\n"
    }
   }
  },
  {
   "cell_type": "code",
   "execution_count": 11,
   "outputs": [
    {
     "data": {
      "text/plain": "0       금요일\n1       금요일\n2       금요일\n3       금요일\n4       금요일\n       ... \n7614    목요일\n7615    목요일\n7616    목요일\n7617    목요일\n7618    목요일\nName: 민원등록일시, Length: 7619, dtype: object"
     },
     "execution_count": 11,
     "metadata": {},
     "output_type": "execute_result"
    }
   ],
   "source": [
    "# 민원등록일시 요일 추출\n",
    "pday = final['민원등록일시'].dt.dayofweek.copy()\n",
    "for i in range(len(pday)):\n",
    "    if pday[i] == 0:\n",
    "        pday[i] = '월요일'\n",
    "    elif pday[i] == 1:\n",
    "        pday[i] = '화요일'\n",
    "    elif pday[i] == 2:\n",
    "        pday[i] = '수요일'\n",
    "    elif pday[i] == 3:\n",
    "        pday[i] = '목요일'\n",
    "    elif pday[i] == 4:\n",
    "        pday[i] = '금요일'\n",
    "    elif pday[i] == 5:\n",
    "        pday[i] = '토요일'\n",
    "    else:\n",
    "        pday[i] = '일요일'\n",
    "pday"
   ],
   "metadata": {
    "collapsed": false,
    "pycharm": {
     "name": "#%%\n"
    }
   }
  },
  {
   "cell_type": "code",
   "execution_count": 12,
   "outputs": [
    {
     "data": {
      "text/plain": "                민원접수번호      민원등록일자              민원등록일시  \\\n0  '201601010019445046  2016-01-01 2016-01-01 00:25:00   \n1  '201601010021535047  2016-01-01 2016-01-01 00:28:00   \n2  '201601010022585048  2016-01-01 2016-01-01 00:29:00   \n3  '201601010024225049  2016-01-01 2016-01-01 00:30:00   \n4  '201601011148125050  2016-01-01 2016-01-01 11:54:00   \n\n                                          민원제목  \\\n0  [생활불편스마트폰신고]장애인 전용주차 구역 불법주차[G000001131486]   \n1  [생활불편스마트폰신고]장애인 전용주차 구역 불법주차[G000001131487]   \n2  [생활불편스마트폰신고]장애인 전용주차 구역 불법주차[G000001131488]   \n3  [생활불편스마트폰신고]장애인 전용주차 구역 불법주차[G000001131489]   \n4  [생활불편스마트폰신고]장애인 전용주차 구역 불법주차[G000001131825]   \n\n                                                민원내용               처리기한일시  \\\n0  불법 주정차 신고  불법주차[ 상세위치설명 : 삼계동  푸르지오1차 ]\\r\\n경상남...  2016-01-09 18:00:00   \n1  불법 주정차 신고  장애전용불법주차[ 상세위치설명 : 푸르지오1차 ]\\r\\n경상남도...  2016-01-09 18:00:00   \n2  불법 주정차 신고  불법주차[ 상세위치설명 : 푸르지오1차 ]\\r\\n경상남도 김해시...  2016-01-09 18:00:00   \n3  불법 주정차 신고  불법주차[ 상세위치설명 :  ]\\r\\n경상남도 김해시 삼계동 1...  2016-01-09 18:00:00   \n4  불법 주정차 신고  아파트 계시판을 통한\\r\\n계도를  하였으나 습관적으로\\r\\n상...  2016-01-09 18:00:00   \n\n               담당자지정일시       부서코드         처리부서 처리담당자  ... 총처리기간  \\\n0  2016-01-04 09:24:00  5350229.0  시민복지국 시민복지과   홍종하  ...   3.0   \n1  2016-01-04 09:24:00  5350229.0  시민복지국 시민복지과   홍종하  ...   3.0   \n2  2016-01-04 09:24:00  5350229.0  시민복지국 시민복지과   홍종하  ...   3.0   \n3  2016-01-04 09:24:00  5350229.0  시민복지국 시민복지과   홍종하  ...   3.0   \n4  2016-01-04 09:25:00  5350229.0  시민복지국 시민복지과   홍종하  ...   3.0   \n\n              최종민원처리기한  민원인주소_시도  민원인주소_시군구 민원인주소_법정동  민원내용주소_법정동  최종민원주소  \\\n0  2016-01-09 18:00:00      경상남도        김해시       삼계동         삼계동     삼계동   \n1  2016-01-09 18:00:00      경상남도        김해시       삼계동         삼계동     삼계동   \n2  2016-01-09 18:00:00      경상남도        김해시       삼계동         삼계동     삼계동   \n3  2016-01-09 18:00:00      경상남도        김해시       삼계동         삼계동     삼계동   \n4  2016-01-09 18:00:00      경상남도        김해시        안동          안동      안동   \n\n   민원등록년도  민원등록월 민원등록요일  \n0    2016      1    금요일  \n1    2016      1    금요일  \n2    2016      1    금요일  \n3    2016      1    금요일  \n4    2016      1    금요일  \n\n[5 rows x 28 columns]",
      "text/html": "<div>\n<style scoped>\n    .dataframe tbody tr th:only-of-type {\n        vertical-align: middle;\n    }\n\n    .dataframe tbody tr th {\n        vertical-align: top;\n    }\n\n    .dataframe thead th {\n        text-align: right;\n    }\n</style>\n<table border=\"1\" class=\"dataframe\">\n  <thead>\n    <tr style=\"text-align: right;\">\n      <th></th>\n      <th>민원접수번호</th>\n      <th>민원등록일자</th>\n      <th>민원등록일시</th>\n      <th>민원제목</th>\n      <th>민원내용</th>\n      <th>처리기한일시</th>\n      <th>담당자지정일시</th>\n      <th>부서코드</th>\n      <th>처리부서</th>\n      <th>처리담당자</th>\n      <th>...</th>\n      <th>총처리기간</th>\n      <th>최종민원처리기한</th>\n      <th>민원인주소_시도</th>\n      <th>민원인주소_시군구</th>\n      <th>민원인주소_법정동</th>\n      <th>민원내용주소_법정동</th>\n      <th>최종민원주소</th>\n      <th>민원등록년도</th>\n      <th>민원등록월</th>\n      <th>민원등록요일</th>\n    </tr>\n  </thead>\n  <tbody>\n    <tr>\n      <th>0</th>\n      <td>'201601010019445046</td>\n      <td>2016-01-01</td>\n      <td>2016-01-01 00:25:00</td>\n      <td>[생활불편스마트폰신고]장애인 전용주차 구역 불법주차[G000001131486]</td>\n      <td>불법 주정차 신고  불법주차[ 상세위치설명 : 삼계동  푸르지오1차 ]\\r\\n경상남...</td>\n      <td>2016-01-09 18:00:00</td>\n      <td>2016-01-04 09:24:00</td>\n      <td>5350229.0</td>\n      <td>시민복지국 시민복지과</td>\n      <td>홍종하</td>\n      <td>...</td>\n      <td>3.0</td>\n      <td>2016-01-09 18:00:00</td>\n      <td>경상남도</td>\n      <td>김해시</td>\n      <td>삼계동</td>\n      <td>삼계동</td>\n      <td>삼계동</td>\n      <td>2016</td>\n      <td>1</td>\n      <td>금요일</td>\n    </tr>\n    <tr>\n      <th>1</th>\n      <td>'201601010021535047</td>\n      <td>2016-01-01</td>\n      <td>2016-01-01 00:28:00</td>\n      <td>[생활불편스마트폰신고]장애인 전용주차 구역 불법주차[G000001131487]</td>\n      <td>불법 주정차 신고  장애전용불법주차[ 상세위치설명 : 푸르지오1차 ]\\r\\n경상남도...</td>\n      <td>2016-01-09 18:00:00</td>\n      <td>2016-01-04 09:24:00</td>\n      <td>5350229.0</td>\n      <td>시민복지국 시민복지과</td>\n      <td>홍종하</td>\n      <td>...</td>\n      <td>3.0</td>\n      <td>2016-01-09 18:00:00</td>\n      <td>경상남도</td>\n      <td>김해시</td>\n      <td>삼계동</td>\n      <td>삼계동</td>\n      <td>삼계동</td>\n      <td>2016</td>\n      <td>1</td>\n      <td>금요일</td>\n    </tr>\n    <tr>\n      <th>2</th>\n      <td>'201601010022585048</td>\n      <td>2016-01-01</td>\n      <td>2016-01-01 00:29:00</td>\n      <td>[생활불편스마트폰신고]장애인 전용주차 구역 불법주차[G000001131488]</td>\n      <td>불법 주정차 신고  불법주차[ 상세위치설명 : 푸르지오1차 ]\\r\\n경상남도 김해시...</td>\n      <td>2016-01-09 18:00:00</td>\n      <td>2016-01-04 09:24:00</td>\n      <td>5350229.0</td>\n      <td>시민복지국 시민복지과</td>\n      <td>홍종하</td>\n      <td>...</td>\n      <td>3.0</td>\n      <td>2016-01-09 18:00:00</td>\n      <td>경상남도</td>\n      <td>김해시</td>\n      <td>삼계동</td>\n      <td>삼계동</td>\n      <td>삼계동</td>\n      <td>2016</td>\n      <td>1</td>\n      <td>금요일</td>\n    </tr>\n    <tr>\n      <th>3</th>\n      <td>'201601010024225049</td>\n      <td>2016-01-01</td>\n      <td>2016-01-01 00:30:00</td>\n      <td>[생활불편스마트폰신고]장애인 전용주차 구역 불법주차[G000001131489]</td>\n      <td>불법 주정차 신고  불법주차[ 상세위치설명 :  ]\\r\\n경상남도 김해시 삼계동 1...</td>\n      <td>2016-01-09 18:00:00</td>\n      <td>2016-01-04 09:24:00</td>\n      <td>5350229.0</td>\n      <td>시민복지국 시민복지과</td>\n      <td>홍종하</td>\n      <td>...</td>\n      <td>3.0</td>\n      <td>2016-01-09 18:00:00</td>\n      <td>경상남도</td>\n      <td>김해시</td>\n      <td>삼계동</td>\n      <td>삼계동</td>\n      <td>삼계동</td>\n      <td>2016</td>\n      <td>1</td>\n      <td>금요일</td>\n    </tr>\n    <tr>\n      <th>4</th>\n      <td>'201601011148125050</td>\n      <td>2016-01-01</td>\n      <td>2016-01-01 11:54:00</td>\n      <td>[생활불편스마트폰신고]장애인 전용주차 구역 불법주차[G000001131825]</td>\n      <td>불법 주정차 신고  아파트 계시판을 통한\\r\\n계도를  하였으나 습관적으로\\r\\n상...</td>\n      <td>2016-01-09 18:00:00</td>\n      <td>2016-01-04 09:25:00</td>\n      <td>5350229.0</td>\n      <td>시민복지국 시민복지과</td>\n      <td>홍종하</td>\n      <td>...</td>\n      <td>3.0</td>\n      <td>2016-01-09 18:00:00</td>\n      <td>경상남도</td>\n      <td>김해시</td>\n      <td>안동</td>\n      <td>안동</td>\n      <td>안동</td>\n      <td>2016</td>\n      <td>1</td>\n      <td>금요일</td>\n    </tr>\n  </tbody>\n</table>\n<p>5 rows × 28 columns</p>\n</div>"
     },
     "execution_count": 12,
     "metadata": {},
     "output_type": "execute_result"
    }
   ],
   "source": [
    "# 파일에 민원등록 년도, 월, 요일 추가\n",
    "final['민원등록년도'] = pyear\n",
    "final['민원등록월'] = pmonth\n",
    "final['민원등록요일'] = pday\n",
    "final.head()"
   ],
   "metadata": {
    "collapsed": false,
    "pycharm": {
     "name": "#%%\n"
    }
   }
  },
  {
   "cell_type": "markdown",
   "source": [
    "## 2. 월별 김해시 민원 수 구하기"
   ],
   "metadata": {
    "collapsed": false,
    "pycharm": {
     "name": "#%% md\n"
    }
   }
  },
  {
   "cell_type": "code",
   "execution_count": 13,
   "outputs": [
    {
     "name": "stdout",
     "output_type": "stream",
     "text": [
      "1 월  953 건\n",
      "2 월  1093 건\n",
      "3 월  1453 건\n",
      "4 월  1304 건\n",
      "5 월  1431 건\n",
      "6 월  1385 건\n"
     ]
    },
    {
     "data": {
      "text/plain": "0     953\n1    1093\n2    1453\n3    1304\n4    1431\n5    1385\nName: 민원등록월, dtype: int64"
     },
     "execution_count": 13,
     "metadata": {},
     "output_type": "execute_result"
    }
   ],
   "source": [
    "# 월별 김해시 민원 수\n",
    "minwon_months = final.groupby('민원등록월')['민원등록월'].count()\n",
    "for i in range(1,len(minwon_months)+1):\n",
    "    print(i,'월 ',minwon_months[i],'건')\n",
    "# 행번호 재세팅\n",
    "minwon_months.set_axis([i for i in range(len(minwon_months))],inplace=True)\n",
    "minwon_months"
   ],
   "metadata": {
    "collapsed": false,
    "pycharm": {
     "name": "#%%\n"
    }
   }
  },
  {
   "cell_type": "markdown",
   "source": [
    "## 3. 월별 김해시 민원 수 시각화"
   ],
   "metadata": {
    "collapsed": false,
    "pycharm": {
     "name": "#%% md\n"
    }
   }
  },
  {
   "cell_type": "code",
   "execution_count": 19,
   "outputs": [
    {
     "name": "stdout",
     "output_type": "stream",
     "text": [
      "Malgun Gothic\n"
     ]
    }
   ],
   "source": [
    "import matplotlib.pyplot as plt\n",
    "import seaborn as sns\n",
    "from matplotlib import font_manager,rc\n",
    "\n",
    "# 한글 폰트 설정\n",
    "font_location = 'C:/Windows/Fonts/MALGUNSL.TTF' #맑은고딕\n",
    "font_name = font_manager.FontProperties(fname=font_location).get_name()\n",
    "rc('font',family=font_name)\n",
    "print(font_name)"
   ],
   "metadata": {
    "collapsed": false,
    "pycharm": {
     "name": "#%%\n"
    }
   }
  },
  {
   "cell_type": "code",
   "execution_count": 16,
   "outputs": [],
   "source": [
    "# 데이터 라벨 추가를 위한 함수\n",
    "def add_value_label(x_list,y_list):\n",
    "    for i in range(0, len(x_list)):\n",
    "        plt.text(i,y_list[i]/2,y_list[i], ha=\"center\")"
   ],
   "metadata": {
    "collapsed": false,
    "pycharm": {
     "name": "#%%\n"
    }
   }
  },
  {
   "cell_type": "code",
   "execution_count": null,
   "outputs": [],
   "source": [
    "# 월별 민원 시각화\n",
    "month_ax = plt.subplots()\n",
    "# month_ax =\n",
    "plt.bar(['1월','2월','3월','4월','5월','6월'],minwon_months,color=['#e35f62','skyblue','orange','C2','yellow','orange'])\n",
    "add_value_label(['1월','2월','3월','4월','5월','6월'],minwon_months)\n",
    "plt.title('월별민원건수')\n",
    "plt.xlabel('월')\n",
    "plt.ylabel('민원건수')\n",
    "plt.show()"
   ],
   "metadata": {
    "collapsed": false,
    "pycharm": {
     "name": "#%%\n"
    }
   }
  },
  {
   "cell_type": "markdown",
   "source": [
    "## 4.요일별 김해시 민원 수 구하기"
   ],
   "metadata": {
    "collapsed": false,
    "pycharm": {
     "name": "#%% md\n"
    }
   }
  },
  {
   "cell_type": "code",
   "execution_count": 20,
   "outputs": [
    {
     "data": {
      "text/plain": "민원등록요일\n월요일    1453\n화요일    1089\n수요일    1214\n목요일    1123\n금요일    1089\n토요일     823\n일요일     828\nName: 민원등록요일, dtype: int64"
     },
     "execution_count": 20,
     "metadata": {},
     "output_type": "execute_result"
    }
   ],
   "source": [
    "minwon_day = final.groupby('민원등록요일')['민원등록요일'].count()\n",
    "minwon_day=minwon_day[['월요일','화요일','수요일','목요일','금요일','토요일','일요일']]\n",
    "minwon_day"
   ],
   "metadata": {
    "collapsed": false,
    "pycharm": {
     "name": "#%%\n"
    }
   }
  },
  {
   "cell_type": "code",
   "execution_count": 23,
   "outputs": [
    {
     "data": {
      "text/plain": "<Figure size 432x288 with 1 Axes>",
      "image/png": "[encoded data removed]"
     },
     "metadata": {
      "needs_background": "light"
     },
     "output_type": "display_data"
    }
   ],
   "source": [
    "# 요일별 민원 시각화\n",
    "days_ax = plt.subplots()\n",
    "# days_ax =\n",
    "plt.bar(['월요일','화요일','수요일','목요일','금요일','토요일','일요일'],\n",
    "        minwon_day,\n",
    "        color=['#e35f62','skyblue','orange','C2','yellow'])\n",
    "add_value_label(['월요일','화요일','수요일','목요일','금요일','토요일','일요일'],minwon_day)\n",
    "plt.title('요일별민원건수')\n",
    "plt.xlabel('요일')\n",
    "plt.ylabel('민원건수')\n",
    "plt.show()"
   ],
   "metadata": {
    "collapsed": false,
    "pycharm": {
     "name": "#%%\n"
    }
   }
  },
  {
   "cell_type": "markdown",
   "source": [
    "# 지역분석"
   ],
   "metadata": {
    "collapsed": false,
    "pycharm": {
     "name": "#%% md\n"
    }
   }
  },
  {
   "cell_type": "markdown",
   "source": [
    "### 1. 민원 건수 top3 지역 추출하기"
   ],
   "metadata": {
    "collapsed": false,
    "pycharm": {
     "name": "#%% md\n"
    }
   }
  },
  {
   "cell_type": "code",
   "execution_count": 24,
   "outputs": [
    {
     "data": {
      "text/plain": "    법정동.주소  freq\n0      가동리     1\n1      가산리     6\n2       강동     1\n3      고모리    20\n4      관동동   191\n..     ...   ...\n102    하계리     2\n103    한림면    29\n104    화목동    23\n105    활천동     3\n106     흥동    67\n\n[107 rows x 2 columns]",
      "text/html": "<div>\n<style scoped>\n    .dataframe tbody tr th:only-of-type {\n        vertical-align: middle;\n    }\n\n    .dataframe tbody tr th {\n        vertical-align: top;\n    }\n\n    .dataframe thead th {\n        text-align: right;\n    }\n</style>\n<table border=\"1\" class=\"dataframe\">\n  <thead>\n    <tr style=\"text-align: right;\">\n      <th></th>\n      <th>법정동.주소</th>\n      <th>freq</th>\n    </tr>\n  </thead>\n  <tbody>\n    <tr>\n      <th>0</th>\n      <td>가동리</td>\n      <td>1</td>\n    </tr>\n    <tr>\n      <th>1</th>\n      <td>가산리</td>\n      <td>6</td>\n    </tr>\n    <tr>\n      <th>2</th>\n      <td>강동</td>\n      <td>1</td>\n    </tr>\n    <tr>\n      <th>3</th>\n      <td>고모리</td>\n      <td>20</td>\n    </tr>\n    <tr>\n      <th>4</th>\n      <td>관동동</td>\n      <td>191</td>\n    </tr>\n    <tr>\n      <th>...</th>\n      <td>...</td>\n      <td>...</td>\n    </tr>\n    <tr>\n      <th>102</th>\n      <td>하계리</td>\n      <td>2</td>\n    </tr>\n    <tr>\n      <th>103</th>\n      <td>한림면</td>\n      <td>29</td>\n    </tr>\n    <tr>\n      <th>104</th>\n      <td>화목동</td>\n      <td>23</td>\n    </tr>\n    <tr>\n      <th>105</th>\n      <td>활천동</td>\n      <td>3</td>\n    </tr>\n    <tr>\n      <th>106</th>\n      <td>흥동</td>\n      <td>67</td>\n    </tr>\n  </tbody>\n</table>\n<p>107 rows × 2 columns</p>\n</div>"
     },
     "execution_count": 24,
     "metadata": {},
     "output_type": "execute_result"
    }
   ],
   "source": [
    "freq_address_df = pd.read_csv('주소현황.csv',encoding='cp949')\n",
    "freq_address_df"
   ],
   "metadata": {
    "collapsed": false,
    "pycharm": {
     "name": "#%%\n"
    }
   }
  },
  {
   "cell_type": "code",
   "execution_count": 26,
   "outputs": [
    {
     "data": {
      "text/plain": "    법정동.주소  freq     순위\n0      장유면   704    1.0\n1      삼계동   661    2.0\n2       내동   642    3.0\n3      부원동   551    4.0\n4      진영리   428    5.0\n..     ...   ...    ...\n102    신안리     1  107.0\n103    시산리     1  107.0\n104    시례리     1  107.0\n105    농소리     1  107.0\n106    가동리     1  107.0\n\n[107 rows x 3 columns]",
      "text/html": "<div>\n<style scoped>\n    .dataframe tbody tr th:only-of-type {\n        vertical-align: middle;\n    }\n\n    .dataframe tbody tr th {\n        vertical-align: top;\n    }\n\n    .dataframe thead th {\n        text-align: right;\n    }\n</style>\n<table border=\"1\" class=\"dataframe\">\n  <thead>\n    <tr style=\"text-align: right;\">\n      <th></th>\n      <th>법정동.주소</th>\n      <th>freq</th>\n      <th>순위</th>\n    </tr>\n  </thead>\n  <tbody>\n    <tr>\n      <th>0</th>\n      <td>장유면</td>\n      <td>704</td>\n      <td>1.0</td>\n    </tr>\n    <tr>\n      <th>1</th>\n      <td>삼계동</td>\n      <td>661</td>\n      <td>2.0</td>\n    </tr>\n    <tr>\n      <th>2</th>\n      <td>내동</td>\n      <td>642</td>\n      <td>3.0</td>\n    </tr>\n    <tr>\n      <th>3</th>\n      <td>부원동</td>\n      <td>551</td>\n      <td>4.0</td>\n    </tr>\n    <tr>\n      <th>4</th>\n      <td>진영리</td>\n      <td>428</td>\n      <td>5.0</td>\n    </tr>\n    <tr>\n      <th>...</th>\n      <td>...</td>\n      <td>...</td>\n      <td>...</td>\n    </tr>\n    <tr>\n      <th>102</th>\n      <td>신안리</td>\n      <td>1</td>\n      <td>107.0</td>\n    </tr>\n    <tr>\n      <th>103</th>\n      <td>시산리</td>\n      <td>1</td>\n      <td>107.0</td>\n    </tr>\n    <tr>\n      <th>104</th>\n      <td>시례리</td>\n      <td>1</td>\n      <td>107.0</td>\n    </tr>\n    <tr>\n      <th>105</th>\n      <td>농소리</td>\n      <td>1</td>\n      <td>107.0</td>\n    </tr>\n    <tr>\n      <th>106</th>\n      <td>가동리</td>\n      <td>1</td>\n      <td>107.0</td>\n    </tr>\n  </tbody>\n</table>\n<p>107 rows × 3 columns</p>\n</div>"
     },
     "execution_count": 26,
     "metadata": {},
     "output_type": "execute_result"
    }
   ],
   "source": [
    "freq_address_df['순위'] = freq_address_df['freq'].rank(method='max',ascending=False)\n",
    "# 정렬\n",
    "freq_address_df = freq_address_df.sort_values('순위')\n",
    "# 전체순위확인\n",
    "freq_address_df\n",
    "# 행번호 재세팅\n",
    "freq_address_df.set_axis([i for i in range(len(freq_address_df))],inplace=True)\n",
    "freq_address_df"
   ],
   "metadata": {
    "collapsed": false,
    "pycharm": {
     "name": "#%%\n"
    }
   }
  },
  {
   "cell_type": "code",
   "execution_count": 27,
   "outputs": [
    {
     "name": "stdout",
     "output_type": "stream",
     "text": [
      "1순위 지역: 장유면\n",
      "2순위 지역: 삼계동\n",
      "3순위 지역: 내동\n"
     ]
    }
   ],
   "source": [
    "# 1순위\n",
    "top1 = freq_address_df['법정동.주소'][0]\n",
    "# 2순위\n",
    "top2 = freq_address_df['법정동.주소'][1]\n",
    "# 3순위\n",
    "top3 = freq_address_df['법정동.주소'][2]\n",
    "# 순위확인\n",
    "print('1순위 지역:',top1)\n",
    "print('2순위 지역:',top2)\n",
    "print('3순위 지역:',top3)"
   ],
   "metadata": {
    "collapsed": false,
    "pycharm": {
     "name": "#%%\n"
    }
   }
  },
  {
   "cell_type": "markdown",
   "source": [
    "### 2. 동별 민원 건수 top5 지역 시각화"
   ],
   "metadata": {
    "collapsed": false,
    "pycharm": {
     "name": "#%% md\n"
    }
   }
  },
  {
   "cell_type": "code",
   "execution_count": 29,
   "outputs": [
    {
     "data": {
      "text/plain": "<Figure size 432x288 with 1 Axes>",
      "image/png": "[encoded data removed]"
     },
     "metadata": {
      "needs_background": "light"
     },
     "output_type": "display_data"
    }
   ],
   "source": [
    "# 민원 top5 지역 그래프 시각화\n",
    "local_ax = plt.subplots()\n",
    "# local_ax =\n",
    "plt.bar(freq_address_df['법정동.주소'][:5],freq_address_df['freq'][:5],color=['#e35f62','skyblue','orange','C2','yellow'])\n",
    "add_value_label(freq_address_df['법정동.주소'][:5],freq_address_df['freq'][:5])\n",
    "plt.title('동별민원건수')\n",
    "plt.xlabel('법정동')\n",
    "plt.ylabel('민원건수')\n",
    "plt.show()"
   ],
   "metadata": {
    "collapsed": false,
    "pycharm": {
     "name": "#%%\n"
    }
   }
  },
  {
   "cell_type": "markdown",
   "source": [
    "### 3. 동별 민원 건수 상위 3개 지역 월 민원건수 확인"
   ],
   "metadata": {
    "collapsed": false,
    "pycharm": {
     "name": "#%% md\n"
    }
   }
  },
  {
   "cell_type": "code",
   "execution_count": 33,
   "outputs": [
    {
     "name": "stdout",
     "output_type": "stream",
     "text": [
      "장유면 월별 민원 건수\n",
      "1 월  92 건\n",
      "2 월  156 건\n",
      "3 월  164 건\n",
      "4 월  210 건\n",
      "5 월  79 건\n",
      "6 월  3 건\n"
     ]
    }
   ],
   "source": [
    "# top1 지역 월별 민원 건수\n",
    "top1_month = final[final['최종민원주소']==top1]\n",
    "top1_months = top1_month.groupby('민원등록월')['민원등록월'].count()\n",
    "print(top1,'월별 민원 건수')\n",
    "for i in range(1,len(top1_months)+1):\n",
    "    print(i,'월 ',top1_months[i],'건')"
   ],
   "metadata": {
    "collapsed": false,
    "pycharm": {
     "name": "#%%\n"
    }
   }
  },
  {
   "cell_type": "code",
   "execution_count": 31,
   "outputs": [
    {
     "name": "stdout",
     "output_type": "stream",
     "text": [
      "삼계동 월별 민원 건수\n",
      "1 월  130 건\n",
      "2 월  84 건\n",
      "3 월  124 건\n",
      "4 월  100 건\n",
      "5 월  102 건\n",
      "6 월  121 건\n"
     ]
    }
   ],
   "source": [
    "# top2 지역 월별 민원 건수\n",
    "top2_month = final[final['최종민원주소']==top2]\n",
    "top2_months = top2_month.groupby('민원등록월')['민원등록월'].count()\n",
    "print(top2,'월별 민원 건수')\n",
    "for i in range(1,len(top2_months)+1):\n",
    "    print(i,'월 ',top2_months[i],'건')"
   ],
   "metadata": {
    "collapsed": false,
    "pycharm": {
     "name": "#%%\n"
    }
   }
  },
  {
   "cell_type": "code",
   "execution_count": 32,
   "outputs": [
    {
     "name": "stdout",
     "output_type": "stream",
     "text": [
      "내동 월별 민원 건수\n",
      "1 월  71 건\n",
      "2 월  79 건\n",
      "3 월  116 건\n",
      "4 월  113 건\n",
      "5 월  148 건\n",
      "6 월  115 건\n"
     ]
    }
   ],
   "source": [
    "# top3 지역 월별 민원 건수\n",
    "top3_month = final[final['최종민원주소']==top3]\n",
    "top3_months = top3_month.groupby('민원등록월')['민원등록월'].count()\n",
    "print(top3,'월별 민원 건수')\n",
    "for i in range(1,len(top3_months)+1):\n",
    "    print(i,'월 ',top3_months[i],'건')"
   ],
   "metadata": {
    "collapsed": false,
    "pycharm": {
     "name": "#%%\n"
    }
   }
  },
  {
   "cell_type": "markdown",
   "source": [
    "# 민원 처리기간 분석"
   ],
   "metadata": {
    "collapsed": false,
    "pycharm": {
     "name": "#%% md\n"
    }
   }
  },
  {
   "cell_type": "markdown",
   "source": [
    "### 1. 민원 처리시간 통계 구하기"
   ],
   "metadata": {
    "collapsed": false,
    "pycharm": {
     "name": "#%% md\n"
    }
   }
  },
  {
   "cell_type": "code",
   "execution_count": 35,
   "outputs": [
    {
     "data": {
      "text/plain": "민원접수번호           0\n민원등록일자           0\n민원등록일시           0\n민원제목             0\n민원내용             0\n처리기한일시           0\n담당자지정일시        622\n부서코드           622\n처리부서           622\n처리담당자          622\n답변일시           172\n민원인주소            0\n연장처리일수        7578\n연장처리횟수        7578\n연장처리기한        7578\n실처리일수         7578\n민원할당기간         622\n민원처리기간         622\n총처리기간          172\n최종민원처리기한         0\n민원인주소_시도         0\n민원인주소_시군구        0\n민원인주소_법정동        0\n민원내용주소_법정동    3133\n최종민원주소           0\n민원등록년도           0\n민원등록월            0\n민원등록요일           0\ndtype: int64"
     },
     "execution_count": 35,
     "metadata": {},
     "output_type": "execute_result"
    }
   ],
   "source": [
    "# 누락값 개수 구하기\n",
    "num_rows = final.shape[0]# 전체 행 개수\n",
    "num_missing = num_rows - final.count()\n",
    "num_missing"
   ],
   "metadata": {
    "collapsed": false,
    "pycharm": {
     "name": "#%%\n"
    }
   }
  },
  {
   "cell_type": "code",
   "execution_count": 36,
   "outputs": [
    {
     "data": {
      "text/plain": "        민원할당기간    민원처리기간     총처리기간\n0     3.000000  0.000000  3.000000\n1     3.000000  0.000000  3.000000\n2     3.000000  0.000000  3.000000\n3     3.000000  0.000000  3.000000\n4     2.000000  0.000000  3.000000\n...        ...       ...       ...\n7614  0.480206  3.854223  4.278367\n7615  0.000000  6.000000  7.000000\n7616  0.480206  3.854223  4.278367\n7617  0.000000  4.000000  4.000000\n7618  0.000000  7.000000  7.000000\n\n[7619 rows x 3 columns]",
      "text/html": "<div>\n<style scoped>\n    .dataframe tbody tr th:only-of-type {\n        vertical-align: middle;\n    }\n\n    .dataframe tbody tr th {\n        vertical-align: top;\n    }\n\n    .dataframe thead th {\n        text-align: right;\n    }\n</style>\n<table border=\"1\" class=\"dataframe\">\n  <thead>\n    <tr style=\"text-align: right;\">\n      <th></th>\n      <th>민원할당기간</th>\n      <th>민원처리기간</th>\n      <th>총처리기간</th>\n    </tr>\n  </thead>\n  <tbody>\n    <tr>\n      <th>0</th>\n      <td>3.000000</td>\n      <td>0.000000</td>\n      <td>3.000000</td>\n    </tr>\n    <tr>\n      <th>1</th>\n      <td>3.000000</td>\n      <td>0.000000</td>\n      <td>3.000000</td>\n    </tr>\n    <tr>\n      <th>2</th>\n      <td>3.000000</td>\n      <td>0.000000</td>\n      <td>3.000000</td>\n    </tr>\n    <tr>\n      <th>3</th>\n      <td>3.000000</td>\n      <td>0.000000</td>\n      <td>3.000000</td>\n    </tr>\n    <tr>\n      <th>4</th>\n      <td>2.000000</td>\n      <td>0.000000</td>\n      <td>3.000000</td>\n    </tr>\n    <tr>\n      <th>...</th>\n      <td>...</td>\n      <td>...</td>\n      <td>...</td>\n    </tr>\n    <tr>\n      <th>7614</th>\n      <td>0.480206</td>\n      <td>3.854223</td>\n      <td>4.278367</td>\n    </tr>\n    <tr>\n      <th>7615</th>\n      <td>0.000000</td>\n      <td>6.000000</td>\n      <td>7.000000</td>\n    </tr>\n    <tr>\n      <th>7616</th>\n      <td>0.480206</td>\n      <td>3.854223</td>\n      <td>4.278367</td>\n    </tr>\n    <tr>\n      <th>7617</th>\n      <td>0.000000</td>\n      <td>4.000000</td>\n      <td>4.000000</td>\n    </tr>\n    <tr>\n      <th>7618</th>\n      <td>0.000000</td>\n      <td>7.000000</td>\n      <td>7.000000</td>\n    </tr>\n  </tbody>\n</table>\n<p>7619 rows × 3 columns</p>\n</div>"
     },
     "execution_count": 36,
     "metadata": {},
     "output_type": "execute_result"
    }
   ],
   "source": [
    "# 결측치를 각 열의 평균으로 채워넣기\n",
    "final['민원할당기간'] = final['민원할당기간'].fillna(final['민원할당기간'].mean())\n",
    "final['민원처리기간'] = final['민원처리기간'].fillna(final['민원처리기간'].mean())\n",
    "final['총처리기간'] = final['총처리기간'].fillna(final['총처리기간'].mean())\n",
    "final[['민원할당기간','민원처리기간','총처리기간']]"
   ],
   "metadata": {
    "collapsed": false,
    "pycharm": {
     "name": "#%%\n"
    }
   }
  },
  {
   "cell_type": "code",
   "execution_count": 37,
   "outputs": [
    {
     "name": "stdout",
     "output_type": "stream",
     "text": [
      "민원할당기간 평균:  0.48020580248677486 일\n",
      "민원처리기간 평균:  3.8542232385307815 일\n",
      "총처리기간 평균:  4.278367127702439 일\n"
     ]
    }
   ],
   "source": [
    "# 민원할당기간, 민원처리기간, 총 처리기간 평균 구하기\n",
    "minwon_assign = final['민원할당기간'].mean()\n",
    "minwon_process = final['민원처리기간'].mean()\n",
    "minwon_total = final['총처리기간'].mean()\n",
    "print('민원할당기간 평균: ',minwon_assign,'일')\n",
    "print('민원처리기간 평균: ',minwon_process,'일')\n",
    "print('총처리기간 평균: ',minwon_total,'일')"
   ],
   "metadata": {
    "collapsed": false,
    "pycharm": {
     "name": "#%%\n"
    }
   }
  },
  {
   "cell_type": "code",
   "execution_count": 38,
   "outputs": [
    {
     "data": {
      "text/plain": "            민원할당기간       민원처리기간        총처리기간\ncount  7619.000000  7619.000000  7619.000000\nmean      0.480206     3.854223     4.278367\nstd       1.124707     2.801223     3.033461\nmin       0.000000     0.000000     0.000000\n25%       0.000000     1.000000     2.000000\n50%       0.000000     3.854223     4.000000\n75%       0.480206     6.000000     7.000000\nmax      12.000000    29.000000    29.000000",
      "text/html": "<div>\n<style scoped>\n    .dataframe tbody tr th:only-of-type {\n        vertical-align: middle;\n    }\n\n    .dataframe tbody tr th {\n        vertical-align: top;\n    }\n\n    .dataframe thead th {\n        text-align: right;\n    }\n</style>\n<table border=\"1\" class=\"dataframe\">\n  <thead>\n    <tr style=\"text-align: right;\">\n      <th></th>\n      <th>민원할당기간</th>\n      <th>민원처리기간</th>\n      <th>총처리기간</th>\n    </tr>\n  </thead>\n  <tbody>\n    <tr>\n      <th>count</th>\n      <td>7619.000000</td>\n      <td>7619.000000</td>\n      <td>7619.000000</td>\n    </tr>\n    <tr>\n      <th>mean</th>\n      <td>0.480206</td>\n      <td>3.854223</td>\n      <td>4.278367</td>\n    </tr>\n    <tr>\n      <th>std</th>\n      <td>1.124707</td>\n      <td>2.801223</td>\n      <td>3.033461</td>\n    </tr>\n    <tr>\n      <th>min</th>\n      <td>0.000000</td>\n      <td>0.000000</td>\n      <td>0.000000</td>\n    </tr>\n    <tr>\n      <th>25%</th>\n      <td>0.000000</td>\n      <td>1.000000</td>\n      <td>2.000000</td>\n    </tr>\n    <tr>\n      <th>50%</th>\n      <td>0.000000</td>\n      <td>3.854223</td>\n      <td>4.000000</td>\n    </tr>\n    <tr>\n      <th>75%</th>\n      <td>0.480206</td>\n      <td>6.000000</td>\n      <td>7.000000</td>\n    </tr>\n    <tr>\n      <th>max</th>\n      <td>12.000000</td>\n      <td>29.000000</td>\n      <td>29.000000</td>\n    </tr>\n  </tbody>\n</table>\n</div>"
     },
     "execution_count": 38,
     "metadata": {},
     "output_type": "execute_result"
    }
   ],
   "source": [
    "# 기타 통계\n",
    "# count=갯수\n",
    "# mean=평균\n",
    "# std=표준편차\n",
    "# min,max=최솟값,최댓값\n",
    "# 25%,50%,75% = 25,50,75백분위수\n",
    "final[['민원할당기간','민원처리기간','총처리기간']].describe()"
   ],
   "metadata": {
    "collapsed": false,
    "pycharm": {
     "name": "#%%\n"
    }
   }
  },
  {
   "cell_type": "code",
   "execution_count": 39,
   "outputs": [
    {
     "data": {
      "text/plain": "<Figure size 504x360 with 2 Axes>",
      "image/png": "[encoded data removed]"
     },
     "metadata": {
      "needs_background": "light"
     },
     "output_type": "display_data"
    }
   ],
   "source": [
    "plt.figure(figsize=(7,5))\n",
    "plt.title(\"민원처리시간 산점도(z: 총처리기간)\", fontsize=15)\n",
    "plt.scatter(final[\"민원할당기간\"], final[\"민원처리기간\"], c=final[\"총처리기간\"], cmap='Paired', alpha=.6)\n",
    "plt.xlabel(\"민원할당기간\", fontsize=13)\n",
    "plt.ylabel(\"민원처리기간\", fontsize=13)\n",
    "plt.grid()\n",
    "plt.colorbar()\n",
    "plt.show()"
   ],
   "metadata": {
    "collapsed": false,
    "pycharm": {
     "name": "#%%\n"
    }
   }
  },
  {
   "cell_type": "code",
   "execution_count": 40,
   "outputs": [
    {
     "data": {
      "text/plain": "<Figure size 504x360 with 2 Axes>",
      "image/png": "[encoded data removed]"
     },
     "metadata": {
      "needs_background": "light"
     },
     "output_type": "display_data"
    }
   ],
   "source": [
    "plt.figure(figsize=(7,5))\n",
    "plt.title(\"민원처리시간 산점도(z: 민원처리기간)\", fontsize=15)\n",
    "plt.scatter(final[\"민원할당기간\"], final[\"총처리기간\"], c=final[\"민원처리기간\"], cmap='Accent', alpha=.6)\n",
    "plt.xlabel(\"민원할당기간\", fontsize=13)\n",
    "plt.ylabel(\"총처리기간\", fontsize=13)\n",
    "plt.grid()\n",
    "plt.colorbar()\n",
    "plt.show()"
   ],
   "metadata": {
    "collapsed": false,
    "pycharm": {
     "name": "#%%\n"
    }
   }
  },
  {
   "cell_type": "code",
   "execution_count": 41,
   "outputs": [
    {
     "data": {
      "text/plain": "<Figure size 504x360 with 2 Axes>",
      "image/png": "[encoded data removed]"
     },
     "metadata": {
      "needs_background": "light"
     },
     "output_type": "display_data"
    }
   ],
   "source": [
    "plt.figure(figsize=(7,5))\n",
    "plt.title(\"민원처리시간 산점도(z: 민원할당기간)\", fontsize=15)\n",
    "plt.scatter(final[\"민원처리기간\"], final[\"총처리기간\"], c=final[\"민원할당기간\"], cmap='spring', alpha=.6)\n",
    "plt.xlabel(\"민원처리기간\", fontsize=13)\n",
    "plt.ylabel(\"총처리기간\", fontsize=13)\n",
    "plt.grid()\n",
    "plt.colorbar()\n",
    "plt.show()"
   ],
   "metadata": {
    "collapsed": false,
    "pycharm": {
     "name": "#%%\n"
    }
   }
  },
  {
   "cell_type": "code",
   "execution_count": null,
   "outputs": [],
   "source": [],
   "metadata": {
    "collapsed": false,
    "pycharm": {
     "name": "#%%\n"
    }
   }
  }
 ],
 "metadata": {
  "kernelspec": {
   "display_name": "Python 3",
   "language": "python",
   "name": "python3"
  },
  "language_info": {
   "codemirror_mode": {
    "name": "ipython",
    "version": 2
   },
   "file_extension": ".py",
   "mimetype": "text/x-python",
   "name": "python",
   "nbconvert_exporter": "python",
   "pygments_lexer": "ipython2",
   "version": "2.7.6"
  }
 },
 "nbformat": 4,
 "nbformat_minor": 0
}