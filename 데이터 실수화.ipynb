{
 "cells": [
  {
   "cell_type": "markdown",
   "id": "d6158a66",
   "metadata": {},
   "source": [
    "# ◆범주형 데이터 실수화"
   ]
  },
  {
   "cell_type": "markdown",
   "id": "c9271489",
   "metadata": {},
   "source": [
    "## 1. 범주형 데이터의 실수화"
   ]
  },
  {
   "cell_type": "markdown",
   "id": "8f464945",
   "metadata": {},
   "source": [
    "1) 필요 라이브러리 import"
   ]
  },
  {
   "cell_type": "code",
   "execution_count": 6,
   "id": "07cbc9ad",
   "metadata": {},
   "outputs": [],
   "source": [
    "import pandas as pd # pandas package 임포트\n",
    "from sklearn.preprocessing import LabelEncoder # 범주형 데이터의 실수화 함수 임포트\n",
    "from sklearn.preprocessing import OneHotEncoder # 더미변수 생성, 가변환 함수 임포트"
   ]
  },
  {
   "cell_type": "markdown",
   "id": "74170da0",
   "metadata": {},
   "source": [
    "2) 데이터 set 생성 및 확인"
   ]
  },
  {
   "cell_type": "code",
   "execution_count": 10,
   "id": "a0a2f9be",
   "metadata": {},
   "outputs": [
    {
     "data": {
      "text/html": [
       "<div>\n",
       "<style scoped>\n",
       "    .dataframe tbody tr th:only-of-type {\n",
       "        vertical-align: middle;\n",
       "    }\n",
       "\n",
       "    .dataframe tbody tr th {\n",
       "        vertical-align: top;\n",
       "    }\n",
       "\n",
       "    .dataframe thead th {\n",
       "        text-align: right;\n",
       "    }\n",
       "</style>\n",
       "<table border=\"1\" class=\"dataframe\">\n",
       "  <thead>\n",
       "    <tr style=\"text-align: right;\">\n",
       "      <th></th>\n",
       "      <th>성별</th>\n",
       "    </tr>\n",
       "  </thead>\n",
       "  <tbody>\n",
       "    <tr>\n",
       "      <th>0</th>\n",
       "      <td>남성</td>\n",
       "    </tr>\n",
       "    <tr>\n",
       "      <th>1</th>\n",
       "      <td>여성</td>\n",
       "    </tr>\n",
       "    <tr>\n",
       "      <th>2</th>\n",
       "      <td>남성</td>\n",
       "    </tr>\n",
       "  </tbody>\n",
       "</table>\n",
       "</div>"
      ],
      "text/plain": [
       "   성별\n",
       "0  남성\n",
       "1  여성\n",
       "2  남성"
      ]
     },
     "execution_count": 10,
     "metadata": {},
     "output_type": "execute_result"
    }
   ],
   "source": [
    "# 데이터 set 생성\n",
    "x_train = pd.DataFrame([\"남성\", \"여성\", \"남성\", \"여성\", \"남성\", \"여성\"], columns=[\"성별\"])\n",
    "\n",
    "# 데이터 확인\n",
    "x_train.head(3)"
   ]
  },
  {
   "cell_type": "code",
   "execution_count": 11,
   "id": "694987b3",
   "metadata": {},
   "outputs": [
    {
     "name": "stdout",
     "output_type": "stream",
     "text": [
      "<class 'pandas.core.frame.DataFrame'>\n",
      "RangeIndex: 6 entries, 0 to 5\n",
      "Data columns (total 1 columns):\n",
      " #   Column  Non-Null Count  Dtype \n",
      "---  ------  --------------  ----- \n",
      " 0   성별      6 non-null      object\n",
      "dtypes: object(1)\n",
      "memory usage: 176.0+ bytes\n"
     ]
    }
   ],
   "source": [
    "x_train.info() # 데이터 프레임의 정보 확인 : object 타입 '성별' 변수"
   ]
  },
  {
   "cell_type": "code",
   "execution_count": 12,
   "id": "88b1ccfe",
   "metadata": {},
   "outputs": [
    {
     "data": {
      "text/plain": [
       "남성    3\n",
       "여성    3\n",
       "Name: 성별, dtype: int64"
      ]
     },
     "execution_count": 12,
     "metadata": {},
     "output_type": "execute_result"
    }
   ],
   "source": [
    "x_train['성별'].value_counts() # 범주형 데이터의 갯수 확인"
   ]
  },
  {
   "cell_type": "markdown",
   "id": "b079532e",
   "metadata": {},
   "source": [
    "3) 레이블 인코딩: 문자를 0부터 시작하는 정수형 숫자로 변환"
   ]
  },
  {
   "cell_type": "code",
   "execution_count": 14,
   "id": "550d6b62",
   "metadata": {},
   "outputs": [],
   "source": [
    "# 레이블 인코더 생성\n",
    "encoding = LabelEncoder()\n",
    "# X_train 데이터를 이용하여 피팅하고 레이블 숫자로 변환\n",
    "encoding.fit(x_train[\"성별\"])\n",
    "x_train[\"성별_인코딩\"] = encoding.transform(x_train[\"성별\"])"
   ]
  },
  {
   "cell_type": "markdown",
   "id": "a299134c",
   "metadata": {},
   "source": [
    "4) 인코딩 결과 확인"
   ]
  },
  {
   "cell_type": "code",
   "execution_count": 15,
   "id": "b6e79c8d",
   "metadata": {},
   "outputs": [
    {
     "data": {
      "text/html": [
       "<div>\n",
       "<style scoped>\n",
       "    .dataframe tbody tr th:only-of-type {\n",
       "        vertical-align: middle;\n",
       "    }\n",
       "\n",
       "    .dataframe tbody tr th {\n",
       "        vertical-align: top;\n",
       "    }\n",
       "\n",
       "    .dataframe thead th {\n",
       "        text-align: right;\n",
       "    }\n",
       "</style>\n",
       "<table border=\"1\" class=\"dataframe\">\n",
       "  <thead>\n",
       "    <tr style=\"text-align: right;\">\n",
       "      <th></th>\n",
       "      <th>성별</th>\n",
       "      <th>성별_인코딩</th>\n",
       "    </tr>\n",
       "  </thead>\n",
       "  <tbody>\n",
       "    <tr>\n",
       "      <th>0</th>\n",
       "      <td>남성</td>\n",
       "      <td>0</td>\n",
       "    </tr>\n",
       "    <tr>\n",
       "      <th>1</th>\n",
       "      <td>여성</td>\n",
       "      <td>1</td>\n",
       "    </tr>\n",
       "    <tr>\n",
       "      <th>2</th>\n",
       "      <td>남성</td>\n",
       "      <td>0</td>\n",
       "    </tr>\n",
       "    <tr>\n",
       "      <th>3</th>\n",
       "      <td>여성</td>\n",
       "      <td>1</td>\n",
       "    </tr>\n",
       "    <tr>\n",
       "      <th>4</th>\n",
       "      <td>남성</td>\n",
       "      <td>0</td>\n",
       "    </tr>\n",
       "    <tr>\n",
       "      <th>5</th>\n",
       "      <td>여성</td>\n",
       "      <td>1</td>\n",
       "    </tr>\n",
       "  </tbody>\n",
       "</table>\n",
       "</div>"
      ],
      "text/plain": [
       "   성별  성별_인코딩\n",
       "0  남성       0\n",
       "1  여성       1\n",
       "2  남성       0\n",
       "3  여성       1\n",
       "4  남성       0\n",
       "5  여성       1"
      ]
     },
     "execution_count": 15,
     "metadata": {},
     "output_type": "execute_result"
    }
   ],
   "source": [
    "x_train"
   ]
  },
  {
   "cell_type": "code",
   "execution_count": 16,
   "id": "009ff161",
   "metadata": {},
   "outputs": [
    {
     "name": "stdout",
     "output_type": "stream",
     "text": [
      "['남성', '여성']\n",
      "['여성', '남성']\n"
     ]
    }
   ],
   "source": [
    "print(list(encoding.classes_)) # 클래스 확인\n",
    "print(list(encoding.inverse_transform([1,0]))) # 인코딩 값으로 문자값 확인"
   ]
  },
  {
   "cell_type": "markdown",
   "id": "796b509f",
   "metadata": {},
   "source": [
    "## 2. One-Hot Encoding: 더미변수 생성, 가변환"
   ]
  },
  {
   "cell_type": "markdown",
   "id": "477d6792",
   "metadata": {},
   "source": [
    "1) 데이터 확인(실수화한 데이터 사용)"
   ]
  },
  {
   "cell_type": "code",
   "execution_count": 17,
   "id": "93f598d6",
   "metadata": {},
   "outputs": [
    {
     "data": {
      "text/html": [
       "<div>\n",
       "<style scoped>\n",
       "    .dataframe tbody tr th:only-of-type {\n",
       "        vertical-align: middle;\n",
       "    }\n",
       "\n",
       "    .dataframe tbody tr th {\n",
       "        vertical-align: top;\n",
       "    }\n",
       "\n",
       "    .dataframe thead th {\n",
       "        text-align: right;\n",
       "    }\n",
       "</style>\n",
       "<table border=\"1\" class=\"dataframe\">\n",
       "  <thead>\n",
       "    <tr style=\"text-align: right;\">\n",
       "      <th></th>\n",
       "      <th>성별</th>\n",
       "      <th>성별_인코딩</th>\n",
       "    </tr>\n",
       "  </thead>\n",
       "  <tbody>\n",
       "    <tr>\n",
       "      <th>0</th>\n",
       "      <td>남성</td>\n",
       "      <td>0</td>\n",
       "    </tr>\n",
       "    <tr>\n",
       "      <th>1</th>\n",
       "      <td>여성</td>\n",
       "      <td>1</td>\n",
       "    </tr>\n",
       "  </tbody>\n",
       "</table>\n",
       "</div>"
      ],
      "text/plain": [
       "   성별  성별_인코딩\n",
       "0  남성       0\n",
       "1  여성       1"
      ]
     },
     "execution_count": 17,
     "metadata": {},
     "output_type": "execute_result"
    }
   ],
   "source": [
    " x_train.head(2)"
   ]
  },
  {
   "cell_type": "markdown",
   "id": "934f0d91",
   "metadata": {},
   "source": [
    "2) One-Hot Encoding"
   ]
  },
  {
   "cell_type": "code",
   "execution_count": 19,
   "id": "083bb054",
   "metadata": {},
   "outputs": [
    {
     "data": {
      "text/plain": [
       "array([[1., 0.],\n",
       "       [0., 1.],\n",
       "       [1., 0.],\n",
       "       [0., 1.],\n",
       "       [1., 0.],\n",
       "       [0., 1.]])"
      ]
     },
     "execution_count": 19,
     "metadata": {},
     "output_type": "execute_result"
    }
   ],
   "source": [
    "# 원핫인코더 생성\n",
    "# sparse를 True로 할 경우 \"(행, 열) 1\"의 좌표리스트의 형식, False로 할 경우 넘파이 배열로 반환\n",
    "one_encoding = OneHotEncoder(sparse=False)\n",
    "\n",
    "# X_train 데이터를 이용하여 피팅\n",
    "one_encoding.fit(x_train[[\"성별\"]])\n",
    "\n",
    "# 가변환값 변환\n",
    "one_encoding.transform(x_train[[\"성별\"]])\n",
    "\n",
    "# one_encoding.fit_transform(x_train[[\"성별\"]])"
   ]
  },
  {
   "cell_type": "code",
   "execution_count": 22,
   "id": "13ad81e8",
   "metadata": {},
   "outputs": [
    {
     "name": "stdout",
     "output_type": "stream",
     "text": [
      "['x0_남성' 'x0_여성']\n"
     ]
    }
   ],
   "source": [
    "# 가변환된 피쳐 확인\n",
    "print(one_encoding.get_feature_names())"
   ]
  },
  {
   "cell_type": "markdown",
   "id": "8ad54534",
   "metadata": {},
   "source": [
    "3) 인코딩 결과 확인"
   ]
  },
  {
   "cell_type": "code",
   "execution_count": 23,
   "id": "5d119a18",
   "metadata": {},
   "outputs": [],
   "source": [
    "# 가변환된 값을 x_train_one 데이터 프레임으로 저장\n",
    "x_train_one = pd.DataFrame(one_encoding.transform(x_train[[\"성별\"]]), columns=['성별0', '성별1'])"
   ]
  },
  {
   "cell_type": "code",
   "execution_count": 24,
   "id": "adb4f73c",
   "metadata": {},
   "outputs": [],
   "source": [
    "# x_train 데이터와 x_train_one의 가변환된 속성 합침\n",
    "x_train = pd.concat([x_train, x_train_one], axis=1)"
   ]
  },
  {
   "cell_type": "code",
   "execution_count": 25,
   "id": "514b72f0",
   "metadata": {},
   "outputs": [
    {
     "data": {
      "text/html": [
       "<div>\n",
       "<style scoped>\n",
       "    .dataframe tbody tr th:only-of-type {\n",
       "        vertical-align: middle;\n",
       "    }\n",
       "\n",
       "    .dataframe tbody tr th {\n",
       "        vertical-align: top;\n",
       "    }\n",
       "\n",
       "    .dataframe thead th {\n",
       "        text-align: right;\n",
       "    }\n",
       "</style>\n",
       "<table border=\"1\" class=\"dataframe\">\n",
       "  <thead>\n",
       "    <tr style=\"text-align: right;\">\n",
       "      <th></th>\n",
       "      <th>성별</th>\n",
       "      <th>성별_인코딩</th>\n",
       "      <th>성별0</th>\n",
       "      <th>성별1</th>\n",
       "    </tr>\n",
       "  </thead>\n",
       "  <tbody>\n",
       "    <tr>\n",
       "      <th>0</th>\n",
       "      <td>남성</td>\n",
       "      <td>0</td>\n",
       "      <td>1.0</td>\n",
       "      <td>0.0</td>\n",
       "    </tr>\n",
       "    <tr>\n",
       "      <th>1</th>\n",
       "      <td>여성</td>\n",
       "      <td>1</td>\n",
       "      <td>0.0</td>\n",
       "      <td>1.0</td>\n",
       "    </tr>\n",
       "    <tr>\n",
       "      <th>2</th>\n",
       "      <td>남성</td>\n",
       "      <td>0</td>\n",
       "      <td>1.0</td>\n",
       "      <td>0.0</td>\n",
       "    </tr>\n",
       "  </tbody>\n",
       "</table>\n",
       "</div>"
      ],
      "text/plain": [
       "   성별  성별_인코딩  성별0  성별1\n",
       "0  남성       0  1.0  0.0\n",
       "1  여성       1  0.0  1.0\n",
       "2  남성       0  1.0  0.0"
      ]
     },
     "execution_count": 25,
     "metadata": {},
     "output_type": "execute_result"
    }
   ],
   "source": [
    "# 결과 확인\n",
    "x_train.head(3)"
   ]
  },
  {
   "cell_type": "markdown",
   "id": "bef6b9f1",
   "metadata": {},
   "source": [
    "# ◆텍스트 데이터 실수화\n",
    "## 1. 단어의 빈도수를 카운트(count)하여 단어를 수치화하는 방법\n",
    "### - CountVectorizer 함수: 문서 집합에서 단어 토큰을 생성하고 각 단어의 수를 세어 Bag Of Words로 인코딩하는 함수"
   ]
  },
  {
   "cell_type": "markdown",
   "id": "f051ff92",
   "metadata": {},
   "source": [
    "1) 필요 라이브러리 import"
   ]
  },
  {
   "cell_type": "code",
   "execution_count": 26,
   "id": "f57dafa2",
   "metadata": {},
   "outputs": [],
   "source": [
    "from sklearn.feature_extraction.text import CountVectorizer"
   ]
  },
  {
   "cell_type": "markdown",
   "id": "b5156ec7",
   "metadata": {},
   "source": [
    "2) 데이터셋 생성 및 확인"
   ]
  },
  {
   "cell_type": "code",
   "execution_count": 28,
   "id": "68836eaa",
   "metadata": {},
   "outputs": [
    {
     "data": {
      "text/plain": [
       "['청년 인재 개발 양성 과정', '인공지능 청년 양성', '미래 안공지능 데이터 대한민국', '데이터 원유 기술사 청년 개발']"
      ]
     },
     "execution_count": 28,
     "metadata": {},
     "output_type": "execute_result"
    }
   ],
   "source": [
    "corpus = [\n",
    "    '청년 인재 개발 양성 과정',\n",
    "    '인공지능 청년 양성',\n",
    "    '미래 안공지능 데이터 대한민국',\n",
    "    '데이터 원유 기술사 청년 개발'\n",
    "]\n",
    "corpus"
   ]
  },
  {
   "cell_type": "code",
   "execution_count": 29,
   "id": "e2dc04fe",
   "metadata": {},
   "outputs": [
    {
     "data": {
      "text/plain": [
       "list"
      ]
     },
     "execution_count": 29,
     "metadata": {},
     "output_type": "execute_result"
    }
   ],
   "source": [
    "type(corpus)"
   ]
  },
  {
   "cell_type": "markdown",
   "id": "4bf51bff",
   "metadata": {},
   "source": [
    "3) 텍스트 실수화: 단어의 빈도수를 카운트(Count)"
   ]
  },
  {
   "cell_type": "code",
   "execution_count": 35,
   "id": "92a63c1d",
   "metadata": {},
   "outputs": [
    {
     "data": {
      "text/plain": [
       "{'청년': 11,\n",
       " '인재': 10,\n",
       " '개발': 0,\n",
       " '양성': 7,\n",
       " '과정': 1,\n",
       " '인공지능': 9,\n",
       " '미래': 5,\n",
       " '안공지능': 6,\n",
       " '데이터': 4,\n",
       " '대한민국': 3,\n",
       " '원유': 8,\n",
       " '기술사': 2}"
      ]
     },
     "execution_count": 35,
     "metadata": {},
     "output_type": "execute_result"
    }
   ],
   "source": [
    "# 카운트 벡터라이저 생성\n",
    "count_vect = CountVectorizer()\n",
    "\n",
    "# 단어 카운트\n",
    "count_vect.fit(corpus)\n",
    "\n",
    "# 단어 확인\n",
    "count_vect.vocabulary_"
   ]
  },
  {
   "cell_type": "code",
   "execution_count": 31,
   "id": "b527d3ee",
   "metadata": {},
   "outputs": [
    {
     "data": {
      "text/plain": [
       "array([[1, 1, 0, 0, 0, 0, 0, 1, 0, 0, 1, 1],\n",
       "       [0, 0, 0, 0, 0, 0, 0, 1, 0, 1, 0, 1],\n",
       "       [0, 0, 0, 1, 1, 1, 1, 0, 0, 0, 0, 0],\n",
       "       [1, 0, 1, 0, 1, 0, 0, 0, 1, 0, 0, 1]], dtype=int64)"
      ]
     },
     "execution_count": 31,
     "metadata": {},
     "output_type": "execute_result"
    }
   ],
   "source": [
    "# 단어 벡터화한 값을 array로 변환하여 확인\n",
    "count_vect.transform(corpus).toarray()"
   ]
  },
  {
   "cell_type": "code",
   "execution_count": 39,
   "id": "168e667f",
   "metadata": {},
   "outputs": [],
   "source": [
    "# 단어 벡터화\n",
    "features = count_vect.transform(corpus)"
   ]
  },
  {
   "cell_type": "code",
   "execution_count": 40,
   "id": "a09897cd",
   "metadata": {},
   "outputs": [
    {
     "data": {
      "text/plain": [
       "<4x12 sparse matrix of type '<class 'numpy.int64'>'\n",
       "\twith 17 stored elements in Compressed Sparse Row format>"
      ]
     },
     "execution_count": 40,
     "metadata": {},
     "output_type": "execute_result"
    }
   ],
   "source": [
    "features"
   ]
  },
  {
   "cell_type": "markdown",
   "id": "3b608451",
   "metadata": {},
   "source": [
    "4) 문서단어행렬로 변환"
   ]
  },
  {
   "cell_type": "code",
   "execution_count": 46,
   "id": "729aa4d3",
   "metadata": {},
   "outputs": [],
   "source": [
    "# 속성 이름만 반환\n",
    "vocab = count_vect.get_feature_names()"
   ]
  },
  {
   "cell_type": "code",
   "execution_count": 47,
   "id": "95eb577e",
   "metadata": {},
   "outputs": [
    {
     "data": {
      "text/plain": [
       "['개발',\n",
       " '과정',\n",
       " '기술사',\n",
       " '대한민국',\n",
       " '데이터',\n",
       " '미래',\n",
       " '안공지능',\n",
       " '양성',\n",
       " '원유',\n",
       " '인공지능',\n",
       " '인재',\n",
       " '청년']"
      ]
     },
     "execution_count": 47,
     "metadata": {},
     "output_type": "execute_result"
    }
   ],
   "source": [
    "vocab"
   ]
  },
  {
   "cell_type": "code",
   "execution_count": 50,
   "id": "e328cfb6",
   "metadata": {},
   "outputs": [],
   "source": [
    "# 문서단어행렬(DTM)을 데이터 프레임으로 변환\n",
    "DTM = pd.DataFrame(features.toarray(), columns = vocab).head()"
   ]
  },
  {
   "cell_type": "code",
   "execution_count": 51,
   "id": "937ff2a1",
   "metadata": {},
   "outputs": [
    {
     "data": {
      "text/html": [
       "<div>\n",
       "<style scoped>\n",
       "    .dataframe tbody tr th:only-of-type {\n",
       "        vertical-align: middle;\n",
       "    }\n",
       "\n",
       "    .dataframe tbody tr th {\n",
       "        vertical-align: top;\n",
       "    }\n",
       "\n",
       "    .dataframe thead th {\n",
       "        text-align: right;\n",
       "    }\n",
       "</style>\n",
       "<table border=\"1\" class=\"dataframe\">\n",
       "  <thead>\n",
       "    <tr style=\"text-align: right;\">\n",
       "      <th></th>\n",
       "      <th>개발</th>\n",
       "      <th>과정</th>\n",
       "      <th>기술사</th>\n",
       "      <th>대한민국</th>\n",
       "      <th>데이터</th>\n",
       "      <th>미래</th>\n",
       "      <th>안공지능</th>\n",
       "      <th>양성</th>\n",
       "      <th>원유</th>\n",
       "      <th>인공지능</th>\n",
       "      <th>인재</th>\n",
       "      <th>청년</th>\n",
       "    </tr>\n",
       "  </thead>\n",
       "  <tbody>\n",
       "    <tr>\n",
       "      <th>0</th>\n",
       "      <td>1</td>\n",
       "      <td>1</td>\n",
       "      <td>0</td>\n",
       "      <td>0</td>\n",
       "      <td>0</td>\n",
       "      <td>0</td>\n",
       "      <td>0</td>\n",
       "      <td>1</td>\n",
       "      <td>0</td>\n",
       "      <td>0</td>\n",
       "      <td>1</td>\n",
       "      <td>1</td>\n",
       "    </tr>\n",
       "    <tr>\n",
       "      <th>1</th>\n",
       "      <td>0</td>\n",
       "      <td>0</td>\n",
       "      <td>0</td>\n",
       "      <td>0</td>\n",
       "      <td>0</td>\n",
       "      <td>0</td>\n",
       "      <td>0</td>\n",
       "      <td>1</td>\n",
       "      <td>0</td>\n",
       "      <td>1</td>\n",
       "      <td>0</td>\n",
       "      <td>1</td>\n",
       "    </tr>\n",
       "    <tr>\n",
       "      <th>2</th>\n",
       "      <td>0</td>\n",
       "      <td>0</td>\n",
       "      <td>0</td>\n",
       "      <td>1</td>\n",
       "      <td>1</td>\n",
       "      <td>1</td>\n",
       "      <td>1</td>\n",
       "      <td>0</td>\n",
       "      <td>0</td>\n",
       "      <td>0</td>\n",
       "      <td>0</td>\n",
       "      <td>0</td>\n",
       "    </tr>\n",
       "    <tr>\n",
       "      <th>3</th>\n",
       "      <td>1</td>\n",
       "      <td>0</td>\n",
       "      <td>1</td>\n",
       "      <td>0</td>\n",
       "      <td>1</td>\n",
       "      <td>0</td>\n",
       "      <td>0</td>\n",
       "      <td>0</td>\n",
       "      <td>1</td>\n",
       "      <td>0</td>\n",
       "      <td>0</td>\n",
       "      <td>1</td>\n",
       "    </tr>\n",
       "  </tbody>\n",
       "</table>\n",
       "</div>"
      ],
      "text/plain": [
       "   개발  과정  기술사  대한민국  데이터  미래  안공지능  양성  원유  인공지능  인재  청년\n",
       "0   1   1    0     0    0   0     0   1   0     0   1   1\n",
       "1   0   0    0     0    0   0     0   1   0     1   0   1\n",
       "2   0   0    0     1    1   1     1   0   0     0   0   0\n",
       "3   1   0    1     0    1   0     0   0   1     0   0   1"
      ]
     },
     "execution_count": 51,
     "metadata": {},
     "output_type": "execute_result"
    }
   ],
   "source": [
    "DTM"
   ]
  },
  {
   "cell_type": "code",
   "execution_count": 52,
   "id": "bf3fc3d9",
   "metadata": {},
   "outputs": [
    {
     "data": {
      "text/plain": [
       "array([[0, 0, 1, 1, 0, 0, 0, 0, 0, 0, 1, 0]], dtype=int64)"
      ]
     },
     "execution_count": 52,
     "metadata": {},
     "output_type": "execute_result"
    }
   ],
   "source": [
    "# 문서단어행렬에 일치하는 단어 확인\n",
    "count_vect.transform(['기술사 대한민국 인재 만세']).toarray()"
   ]
  },
  {
   "cell_type": "markdown",
   "id": "711b65d4",
   "metadata": {},
   "source": [
    "## 2. 단어의 빈도수를 단어들마다 중요한 정도를 가중치로 주어 수치화하는 방법\n",
    "### -TfidVectorizer 함수: TF-IDF 방식으로 단어의 가중치를 조정한 BOW로 인코딩 하는 함수"
   ]
  },
  {
   "cell_type": "markdown",
   "id": "0c2e8b97",
   "metadata": {},
   "source": [
    "1) 필요 라이브러리 import"
   ]
  },
  {
   "cell_type": "code",
   "execution_count": 54,
   "id": "eaf23bb9",
   "metadata": {},
   "outputs": [],
   "source": [
    "from sklearn.feature_extraction.text import TfidfVectorizer"
   ]
  },
  {
   "cell_type": "markdown",
   "id": "e39e44f1",
   "metadata": {},
   "source": [
    "2) 데이터 set 생성 및 확인"
   ]
  },
  {
   "cell_type": "markdown",
   "id": "ae86edb1",
   "metadata": {},
   "source": [
    "-단어의 빈도수 수치화에서 활용한 corpus 데이터셋 사용"
   ]
  },
  {
   "cell_type": "code",
   "execution_count": 55,
   "id": "7653595b",
   "metadata": {},
   "outputs": [
    {
     "data": {
      "text/plain": [
       "['청년 인재 개발 양성 과정', '인공지능 청년 양성', '미래 안공지능 데이터 대한민국', '데이터 원유 기술사 청년 개발']"
      ]
     },
     "execution_count": 55,
     "metadata": {},
     "output_type": "execute_result"
    }
   ],
   "source": [
    "corpus"
   ]
  },
  {
   "cell_type": "markdown",
   "id": "78d63f2b",
   "metadata": {},
   "source": [
    "3) 텍스트 실수화: TF-IDF 방식"
   ]
  },
  {
   "cell_type": "code",
   "execution_count": 56,
   "id": "e6fca5ae",
   "metadata": {},
   "outputs": [
    {
     "data": {
      "text/plain": [
       "{'청년': 11,\n",
       " '인재': 10,\n",
       " '개발': 0,\n",
       " '양성': 7,\n",
       " '과정': 1,\n",
       " '인공지능': 9,\n",
       " '미래': 5,\n",
       " '안공지능': 6,\n",
       " '데이터': 4,\n",
       " '대한민국': 3,\n",
       " '원유': 8,\n",
       " '기술사': 2}"
      ]
     },
     "execution_count": 56,
     "metadata": {},
     "output_type": "execute_result"
    }
   ],
   "source": [
    "# TF-IDF 벡터라이저 생성\n",
    "tfid = TfidfVectorizer()\n",
    "\n",
    "# 단어 카운트\n",
    "tfid.fit(corpus)\n",
    "\n",
    "# 단어사전 확인\n",
    "tfid.vocabulary_"
   ]
  },
  {
   "cell_type": "code",
   "execution_count": 57,
   "id": "163cefd9",
   "metadata": {},
   "outputs": [
    {
     "data": {
      "text/plain": [
       "array([[0.41263976, 0.52338122, 0.        , 0.        , 0.        ,\n",
       "        0.        , 0.        , 0.41263976, 0.        , 0.        ,\n",
       "        0.52338122, 0.33406745],\n",
       "       [0.        , 0.        , 0.        , 0.        , 0.        ,\n",
       "        0.        , 0.        , 0.55349232, 0.        , 0.70203482,\n",
       "        0.        , 0.44809973],\n",
       "       [0.        , 0.        , 0.        , 0.52547275, 0.41428875,\n",
       "        0.52547275, 0.52547275, 0.        , 0.        , 0.        ,\n",
       "        0.        , 0.        ],\n",
       "       [0.41263976, 0.        , 0.52338122, 0.        , 0.41263976,\n",
       "        0.        , 0.        , 0.        , 0.52338122, 0.        ,\n",
       "        0.        , 0.33406745]])"
      ]
     },
     "execution_count": 57,
     "metadata": {},
     "output_type": "execute_result"
    }
   ],
   "source": [
    "# 단어 벡터화한 값을 array로 변환하여 확인\n",
    "tfid.transform(corpus).toarray()"
   ]
  },
  {
   "cell_type": "code",
   "execution_count": 58,
   "id": "9e288afc",
   "metadata": {},
   "outputs": [],
   "source": [
    "# 단어 벡터화\n",
    "features_idf = tfid.transform(corpus)"
   ]
  },
  {
   "cell_type": "code",
   "execution_count": 60,
   "id": "3d66238b",
   "metadata": {
    "scrolled": true
   },
   "outputs": [
    {
     "data": {
      "text/plain": [
       "<4x12 sparse matrix of type '<class 'numpy.float64'>'\n",
       "\twith 17 stored elements in Compressed Sparse Row format>"
      ]
     },
     "execution_count": 60,
     "metadata": {},
     "output_type": "execute_result"
    }
   ],
   "source": [
    "features_idf"
   ]
  },
  {
   "cell_type": "markdown",
   "id": "e159bbcd",
   "metadata": {},
   "source": [
    "4) 문서단어행렬로 변환"
   ]
  },
  {
   "cell_type": "code",
   "execution_count": 62,
   "id": "7cd83228",
   "metadata": {},
   "outputs": [],
   "source": [
    "# 속성 이름만 반환\n",
    "vocab_idf = count_vect.get_feature_names()"
   ]
  },
  {
   "cell_type": "code",
   "execution_count": 63,
   "id": "b90470b4",
   "metadata": {},
   "outputs": [
    {
     "data": {
      "text/plain": [
       "['개발',\n",
       " '과정',\n",
       " '기술사',\n",
       " '대한민국',\n",
       " '데이터',\n",
       " '미래',\n",
       " '안공지능',\n",
       " '양성',\n",
       " '원유',\n",
       " '인공지능',\n",
       " '인재',\n",
       " '청년']"
      ]
     },
     "execution_count": 63,
     "metadata": {},
     "output_type": "execute_result"
    }
   ],
   "source": [
    "vocab_idf"
   ]
  },
  {
   "cell_type": "code",
   "execution_count": 64,
   "id": "ac5af94d",
   "metadata": {},
   "outputs": [],
   "source": [
    "# 문서단어행렬(DTM)을 데이터 프레임으로 변환\n",
    "DTM_idf = pd.DataFrame(features_idf.toarray(), columns=vocab_idf).head()"
   ]
  },
  {
   "cell_type": "code",
   "execution_count": 65,
   "id": "9cff9f72",
   "metadata": {},
   "outputs": [
    {
     "data": {
      "text/html": [
       "<div>\n",
       "<style scoped>\n",
       "    .dataframe tbody tr th:only-of-type {\n",
       "        vertical-align: middle;\n",
       "    }\n",
       "\n",
       "    .dataframe tbody tr th {\n",
       "        vertical-align: top;\n",
       "    }\n",
       "\n",
       "    .dataframe thead th {\n",
       "        text-align: right;\n",
       "    }\n",
       "</style>\n",
       "<table border=\"1\" class=\"dataframe\">\n",
       "  <thead>\n",
       "    <tr style=\"text-align: right;\">\n",
       "      <th></th>\n",
       "      <th>개발</th>\n",
       "      <th>과정</th>\n",
       "      <th>기술사</th>\n",
       "      <th>대한민국</th>\n",
       "      <th>데이터</th>\n",
       "      <th>미래</th>\n",
       "      <th>안공지능</th>\n",
       "      <th>양성</th>\n",
       "      <th>원유</th>\n",
       "      <th>인공지능</th>\n",
       "      <th>인재</th>\n",
       "      <th>청년</th>\n",
       "    </tr>\n",
       "  </thead>\n",
       "  <tbody>\n",
       "    <tr>\n",
       "      <th>0</th>\n",
       "      <td>0.41264</td>\n",
       "      <td>0.523381</td>\n",
       "      <td>0.000000</td>\n",
       "      <td>0.000000</td>\n",
       "      <td>0.000000</td>\n",
       "      <td>0.000000</td>\n",
       "      <td>0.000000</td>\n",
       "      <td>0.412640</td>\n",
       "      <td>0.000000</td>\n",
       "      <td>0.000000</td>\n",
       "      <td>0.523381</td>\n",
       "      <td>0.334067</td>\n",
       "    </tr>\n",
       "    <tr>\n",
       "      <th>1</th>\n",
       "      <td>0.00000</td>\n",
       "      <td>0.000000</td>\n",
       "      <td>0.000000</td>\n",
       "      <td>0.000000</td>\n",
       "      <td>0.000000</td>\n",
       "      <td>0.000000</td>\n",
       "      <td>0.000000</td>\n",
       "      <td>0.553492</td>\n",
       "      <td>0.000000</td>\n",
       "      <td>0.702035</td>\n",
       "      <td>0.000000</td>\n",
       "      <td>0.448100</td>\n",
       "    </tr>\n",
       "    <tr>\n",
       "      <th>2</th>\n",
       "      <td>0.00000</td>\n",
       "      <td>0.000000</td>\n",
       "      <td>0.000000</td>\n",
       "      <td>0.525473</td>\n",
       "      <td>0.414289</td>\n",
       "      <td>0.525473</td>\n",
       "      <td>0.525473</td>\n",
       "      <td>0.000000</td>\n",
       "      <td>0.000000</td>\n",
       "      <td>0.000000</td>\n",
       "      <td>0.000000</td>\n",
       "      <td>0.000000</td>\n",
       "    </tr>\n",
       "    <tr>\n",
       "      <th>3</th>\n",
       "      <td>0.41264</td>\n",
       "      <td>0.000000</td>\n",
       "      <td>0.523381</td>\n",
       "      <td>0.000000</td>\n",
       "      <td>0.412640</td>\n",
       "      <td>0.000000</td>\n",
       "      <td>0.000000</td>\n",
       "      <td>0.000000</td>\n",
       "      <td>0.523381</td>\n",
       "      <td>0.000000</td>\n",
       "      <td>0.000000</td>\n",
       "      <td>0.334067</td>\n",
       "    </tr>\n",
       "  </tbody>\n",
       "</table>\n",
       "</div>"
      ],
      "text/plain": [
       "        개발        과정       기술사      대한민국       데이터        미래      안공지능  \\\n",
       "0  0.41264  0.523381  0.000000  0.000000  0.000000  0.000000  0.000000   \n",
       "1  0.00000  0.000000  0.000000  0.000000  0.000000  0.000000  0.000000   \n",
       "2  0.00000  0.000000  0.000000  0.525473  0.414289  0.525473  0.525473   \n",
       "3  0.41264  0.000000  0.523381  0.000000  0.412640  0.000000  0.000000   \n",
       "\n",
       "         양성        원유      인공지능        인재        청년  \n",
       "0  0.412640  0.000000  0.000000  0.523381  0.334067  \n",
       "1  0.553492  0.000000  0.702035  0.000000  0.448100  \n",
       "2  0.000000  0.000000  0.000000  0.000000  0.000000  \n",
       "3  0.000000  0.523381  0.000000  0.000000  0.334067  "
      ]
     },
     "execution_count": 65,
     "metadata": {},
     "output_type": "execute_result"
    }
   ],
   "source": [
    "DTM_idf"
   ]
  }
 ],
 "metadata": {
  "kernelspec": {
   "display_name": "Python 3 (ipykernel)",
   "language": "python",
   "name": "python3"
  },
  "language_info": {
   "codemirror_mode": {
    "name": "ipython",
    "version": 3
   },
   "file_extension": ".py",
   "mimetype": "text/x-python",
   "name": "python",
   "nbconvert_exporter": "python",
   "pygments_lexer": "ipython3",
   "version": "3.9.12"
  }
 },
 "nbformat": 4,
 "nbformat_minor": 5
}
