{
 "cells": [
  {
   "cell_type": "markdown",
   "source": [
    "# ◆ 통계적 검정 방법(t검정) 실습"
   ],
   "metadata": {
    "collapsed": false,
    "pycharm": {
     "name": "#%% md\n"
    }
   }
  },
  {
   "cell_type": "markdown",
   "source": [
    "## 패키지 Import"
   ],
   "metadata": {
    "collapsed": false,
    "pycharm": {
     "name": "#%% md\n"
    }
   }
  },
  {
   "cell_type": "code",
   "execution_count": 1,
   "outputs": [],
   "source": [
    "# 패키지 임포트\n",
    "import os\n",
    "import warnings\n",
    "warnings.simplefilter(action='ignore', category=FutureWarning) # FutureWarning 제거\n",
    "\n",
    "import pandas as pd # pandas package\n",
    "import numpy as np # numpy package\n",
    "import math\n",
    "from scipy import stats # Scipy Package\n",
    "\n",
    "# 시각화 패키지\n",
    "import matplotlib.pyplot as plt # matplotlib 시각화 패키지\n",
    "import seaborn as sns\n",
    "%matplotlib inline\n",
    "\n",
    "# os에 따른 Font 깨짐 제거를 위해 Font 지정\n",
    "import os\n",
    "if os.name == 'nt':\n",
    "    font_family = \"Malgun Gothic\"\n",
    "else:\n",
    "    font_family = \"AppleGothic\"\n",
    "\n",
    "# - 값이 깨지는 문제 해결을 위해 파라미터값 설정\n",
    "sns.set(font=font_family, rc={\"axes.unicode_minus\": False})"
   ],
   "metadata": {
    "collapsed": false,
    "pycharm": {
     "name": "#%%\n"
    }
   }
  },
  {
   "cell_type": "markdown",
   "source": [
    "## 1. 일표본 t-검정(one sample t-test)"
   ],
   "metadata": {
    "collapsed": false,
    "pycharm": {
     "name": "#%% md\n"
    }
   }
  },
  {
   "cell_type": "code",
   "execution_count": 3,
   "outputs": [],
   "source": [
    "# 모집단 데이터\n",
    "data = [177.3, 182.7, 169.6, 160, 180.3, 179.4, 178.5, 177.2, 181.8, 176.5, 190, 185, 167, 171]"
   ],
   "metadata": {
    "collapsed": false,
    "pycharm": {
     "name": "#%%\n"
    }
   }
  },
  {
   "cell_type": "code",
   "execution_count": 4,
   "outputs": [
    {
     "data": {
      "text/plain": "ShapiroResult(statistic=0.9641273021697998, pvalue=0.7900116443634033)"
     },
     "execution_count": 4,
     "metadata": {},
     "output_type": "execute_result"
    }
   ],
   "source": [
    "### 데이터의 정규성 검정: pvalue > 0.05이면 정규성을 따름\n",
    "stats.shapiro(data)"
   ],
   "metadata": {
    "collapsed": false,
    "pycharm": {
     "name": "#%%\n"
    }
   }
  },
  {
   "cell_type": "markdown",
   "source": [
    "stas.ttest_1samp로 검정 통계량 계산"
   ],
   "metadata": {
    "collapsed": false,
    "pycharm": {
     "name": "#%% md\n"
    }
   }
  },
  {
   "cell_type": "code",
   "execution_count": 5,
   "outputs": [
    {
     "name": "stdout",
     "output_type": "stream",
     "text": [
      "t검정 통계량 = 0.903, pvalue = 0.383\n"
     ]
    }
   ],
   "source": [
    "# 유의수준 0.05\n",
    "m_a = 0.05\n",
    "\n",
    "# 알려진 평균 확인\n",
    "s_mu = 175\n",
    "one_sample_result = stats.ttest_1samp(data, popmean = s_mu)\n",
    "\n",
    "print('t검정 통계량 = %.3f, pvalue = %.3f'%(one_sample_result))"
   ],
   "metadata": {
    "collapsed": false,
    "pycharm": {
     "name": "#%%\n"
    }
   }
  },
  {
   "cell_type": "code",
   "execution_count": 6,
   "outputs": [
    {
     "name": "stdout",
     "output_type": "stream",
     "text": [
      "14\n",
      "176.87857142857143\n",
      "7.782443611837389\n",
      "t검정 통계량 : 0.903\n",
      "p_value(유의확률): 0.383\n"
     ]
    }
   ],
   "source": [
    "# 검정통계량 직접 계산\n",
    "# 표본 수\n",
    "n = len(data)\n",
    "print(len(data))\n",
    "hysis_mu = np.mean(data)\n",
    "print(np.mean(data))\n",
    "\n",
    "# 알려진 평균\n",
    "s_mu = 175\n",
    "\n",
    "# 표본표준편차\n",
    "s_sigma = np.std(data, ddof=1)\n",
    "print(np.std(data, ddof=1))\n",
    "\n",
    "# 통계량 t값 계산\n",
    "t_value = (hysis_mu - s_mu) / (s_sigma / np.sqrt(n))\n",
    "\n",
    "print('t검정 통계량 :', round(t_value, 3))\n",
    "\n",
    "# p_value(유의확률) 계산\n",
    "print('p_value(유의확률):', round((1 - stats.t(df=13).cdf(t_value) )*2, 3 ))"
   ],
   "metadata": {
    "collapsed": false,
    "pycharm": {
     "name": "#%%\n"
    }
   }
  },
  {
   "cell_type": "code",
   "execution_count": 7,
   "outputs": [
    {
     "name": "stdout",
     "output_type": "stream",
     "text": [
      "유의수준:  0.05\n",
      "기각값:  2.1603686564610127\n"
     ]
    }
   ],
   "source": [
    "## 기각값\n",
    "# 유의수준 0.05\n",
    "print('유의수준: ', m_a)\n",
    "\n",
    "# 기각값\n",
    "t_95 = stats.t.ppf(1 - (1-0.95)/2, df=n-1)\n",
    "\n",
    "print('기각값: ', t_95)"
   ],
   "metadata": {
    "collapsed": false,
    "pycharm": {
     "name": "#%%\n"
    }
   }
  },
  {
   "cell_type": "markdown",
   "source": [
    "결론\n",
    "- 검정 통계량 검정: 0.903은 채택역에 속함(기각역 2.16)\n",
    "- P-value 검정: 0.05(유의수준) < 0.383(p-value), 귀무가설 채택\n",
    "- 아이리포 중학교 1학년의 평균 키는 175cm이다."
   ],
   "metadata": {
    "collapsed": false,
    "pycharm": {
     "name": "#%% md\n"
    }
   }
  },
  {
   "cell_type": "markdown",
   "source": [
    "## 2. 대응표본 t-검정 (paired sample t-test)\n",
    "- stats.ttest_rel(before_data, after_data)"
   ],
   "metadata": {
    "collapsed": false,
    "pycharm": {
     "name": "#%% md\n"
    }
   }
  },
  {
   "cell_type": "markdown",
   "source": [
    "증명하고자 하는 가설\n",
    "- 10명의 환자를 대상으로 비타민을 복용하기 전과 후의 수면시간을 측정하여 비타민의 효과가 있는지를 판단하고자 한다.\n",
    "- 표본이 정규성을 만족한다는 가정하에 수면시간의 차이가 줄어 들었는지 검정(유의수준: 005)\n",
    "- 귀무가설: 수면영양제를 복용하기 전과 후의 평균 수면시간에는 차이가 없다.(D=0)\n",
    "- 대립가설: 수면영양제를 복용하기 전과 후의 평균 수면시간 차이는 0보다 작다.(D<0)"
   ],
   "metadata": {
    "collapsed": false,
    "pycharm": {
     "name": "#%% md\n"
    }
   }
  },
  {
   "cell_type": "code",
   "execution_count": 12,
   "outputs": [],
   "source": [
    "# 검정 데이터 관측치\n",
    "before_data = [7,3,4,5,2,1,6,6,5,4]\n",
    "after_data = [8,4,5,6,2,3,6,8,6,5]\n",
    "\n",
    "check = ['before', 'after']\n",
    "# 데이터프레임 merge\n",
    "check = [check[j] for j in range(2) for i in range(10)]\n",
    "\n",
    "data = pd.DataFrame({'when':check, 'score': before_data + after_data})"
   ],
   "metadata": {
    "collapsed": false,
    "pycharm": {
     "name": "#%%\n"
    }
   }
  },
  {
   "cell_type": "code",
   "execution_count": 14,
   "outputs": [
    {
     "data": {
      "text/plain": "     when  score\n0  before      7\n1  before      3\n2  before      4\n3  before      5\n4  before      2",
      "text/html": "<div>\n<style scoped>\n    .dataframe tbody tr th:only-of-type {\n        vertical-align: middle;\n    }\n\n    .dataframe tbody tr th {\n        vertical-align: top;\n    }\n\n    .dataframe thead th {\n        text-align: right;\n    }\n</style>\n<table border=\"1\" class=\"dataframe\">\n  <thead>\n    <tr style=\"text-align: right;\">\n      <th></th>\n      <th>when</th>\n      <th>score</th>\n    </tr>\n  </thead>\n  <tbody>\n    <tr>\n      <th>0</th>\n      <td>before</td>\n      <td>7</td>\n    </tr>\n    <tr>\n      <th>1</th>\n      <td>before</td>\n      <td>3</td>\n    </tr>\n    <tr>\n      <th>2</th>\n      <td>before</td>\n      <td>4</td>\n    </tr>\n    <tr>\n      <th>3</th>\n      <td>before</td>\n      <td>5</td>\n    </tr>\n    <tr>\n      <th>4</th>\n      <td>before</td>\n      <td>2</td>\n    </tr>\n  </tbody>\n</table>\n</div>"
     },
     "execution_count": 14,
     "metadata": {},
     "output_type": "execute_result"
    }
   ],
   "source": [
    "data.head()"
   ],
   "metadata": {
    "collapsed": false,
    "pycharm": {
     "name": "#%%\n"
    }
   }
  },
  {
   "cell_type": "code",
   "execution_count": 15,
   "outputs": [
    {
     "name": "stdout",
     "output_type": "stream",
     "text": [
      "ShapiroResult(statistic=0.9644594192504883, pvalue=0.8352694511413574)\n",
      "ShapiroResult(statistic=0.9456835985183716, pvalue=0.6177982091903687)\n"
     ]
    }
   ],
   "source": [
    "# 정규성 검정: 자료의 모집단 분포는 정규분포를 따름\n",
    "from scipy.stats import shapiro\n",
    "\n",
    "normal_before = shapiro(before_data)\n",
    "normal_after = shapiro(after_data)\n",
    "\n",
    "print(normal_before)\n",
    "print(normal_after)\n",
    "\n",
    "# p-value 모두 0.05보다 크기 때문에 정규성 만족"
   ],
   "metadata": {
    "collapsed": false,
    "pycharm": {
     "name": "#%%\n"
    }
   }
  },
  {
   "cell_type": "code",
   "execution_count": 16,
   "outputs": [
    {
     "name": "stdout",
     "output_type": "stream",
     "text": [
      "LeveneResult(statistic=0.0, pvalue=1.0)\n",
      "BartlettResult(statistic=0.007785808167159078, pvalue=0.9296881301038368)\n"
     ]
    }
   ],
   "source": [
    "# 등분산성 검정: 모든 집단의 모분산은 동일함\n",
    "from scipy.stats import levene\n",
    "print(levene(before_data, after_data))\n",
    "\n",
    "from scipy.stats import bartlett\n",
    "print(bartlett(before_data, after_data))\n",
    "\n",
    "# p-value가 0.05보다 커서 등분산성 만족"
   ],
   "metadata": {
    "collapsed": false,
    "pycharm": {
     "name": "#%%\n"
    }
   }
  },
  {
   "cell_type": "code",
   "execution_count": 17,
   "outputs": [],
   "source": [
    "# 대응표본 t검정 수행\n",
    "paired_result = stats.ttest_rel(before_data, after_data)"
   ],
   "metadata": {
    "collapsed": false,
    "pycharm": {
     "name": "#%%\n"
    }
   }
  },
  {
   "cell_type": "code",
   "execution_count": 18,
   "outputs": [
    {
     "name": "stdout",
     "output_type": "stream",
     "text": [
      "t검정 통계량 = -4.743, pvalue = 0.001\n"
     ]
    }
   ],
   "source": [
    "print('t검정 통계량 = %.3f, pvalue = %.3f'%paired_result)"
   ],
   "metadata": {
    "collapsed": false,
    "pycharm": {
     "name": "#%%\n"
    }
   }
  },
  {
   "cell_type": "markdown",
   "source": [
    "## 3. 독립표본 t-검정 (Independent Sample t-Test)\n",
    "- 등분산성 만족: stats.ttest_ind(x,y, equal_var=True)\n",
    "- 등분산성 불만족: stats.ttest_ind(x,y,equal_var+False)"
   ],
   "metadata": {
    "collapsed": false,
    "pycharm": {
     "name": "#%% md\n"
    }
   }
  },
  {
   "cell_type": "markdown",
   "source": [
    "증명하고자 하는 가설\n",
    "- 서울과 구미, 두 지역의 겨울 낮 최고기온에 차이가 있는지를 알아보기 위해 12일 동안 두 지역의 낮 최고기온을 측정한 데이터로 독립표본 t검정을 수행해보자, (표본이 정규성을 만족한다는 가정, 양측검정 수행)\n",
    "- 귀무가설: a,b 두 지역에 따른 겨울 낮 최고 기온은 차이가 없다.\n",
    "- 대립가설: a,b 두 지역에 따른 겨울 낮 최고 기온은 차이가 있다."
   ],
   "metadata": {
    "collapsed": false,
    "pycharm": {
     "name": "#%% md\n"
    }
   }
  },
  {
   "cell_type": "code",
   "execution_count": 22,
   "outputs": [],
   "source": [
    "# 데이터 프레임\n",
    "seoul = [-1,0,3,4,1,3,3,1,1,3,2,4]\n",
    "daegu = [6,6,8,8,11,11,10,8,8,9,7,10]\n",
    "region = ['seoul']*12 + ['daegu']*12\n",
    "data = pd.DataFrame({'region': region, 'temp': seoul + daegu})"
   ],
   "metadata": {
    "collapsed": false,
    "pycharm": {
     "name": "#%%\n"
    }
   }
  },
  {
   "cell_type": "code",
   "execution_count": 23,
   "outputs": [
    {
     "data": {
      "text/plain": "  region  temp\n0  seoul    -1\n1  seoul     0\n2  seoul     3",
      "text/html": "<div>\n<style scoped>\n    .dataframe tbody tr th:only-of-type {\n        vertical-align: middle;\n    }\n\n    .dataframe tbody tr th {\n        vertical-align: top;\n    }\n\n    .dataframe thead th {\n        text-align: right;\n    }\n</style>\n<table border=\"1\" class=\"dataframe\">\n  <thead>\n    <tr style=\"text-align: right;\">\n      <th></th>\n      <th>region</th>\n      <th>temp</th>\n    </tr>\n  </thead>\n  <tbody>\n    <tr>\n      <th>0</th>\n      <td>seoul</td>\n      <td>-1</td>\n    </tr>\n    <tr>\n      <th>1</th>\n      <td>seoul</td>\n      <td>0</td>\n    </tr>\n    <tr>\n      <th>2</th>\n      <td>seoul</td>\n      <td>3</td>\n    </tr>\n  </tbody>\n</table>\n</div>"
     },
     "execution_count": 23,
     "metadata": {},
     "output_type": "execute_result"
    }
   ],
   "source": [
    "data.head(3)"
   ],
   "metadata": {
    "collapsed": false,
    "pycharm": {
     "name": "#%%\n"
    }
   }
  },
  {
   "cell_type": "code",
   "execution_count": 24,
   "outputs": [
    {
     "name": "stdout",
     "output_type": "stream",
     "text": [
      "ShapiroResult(statistic=0.9178412556648254, pvalue=0.2685365378856659)\n",
      "ShapiroResult(statistic=0.9212772846221924, pvalue=0.2966691553592682)\n"
     ]
    }
   ],
   "source": [
    "## 정규성 검정: 자료의 모집단 분포는 정규분포를 따름\n",
    "\n",
    "normal_seoul = shapiro(seoul)\n",
    "normal_daegu = shapiro(daegu)\n",
    "print(normal_seoul)\n",
    "print(normal_daegu)\n",
    "\n",
    "# 결과: p-value > 0.05, 정규성을 만족"
   ],
   "metadata": {
    "collapsed": false,
    "pycharm": {
     "name": "#%%\n"
    }
   }
  },
  {
   "cell_type": "code",
   "execution_count": 25,
   "outputs": [
    {
     "name": "stdout",
     "output_type": "stream",
     "text": [
      "LeveneResult(statistic=0.0, pvalue=1.0)\n",
      "BartlettResult(statistic=0.07093015354702552, pvalue=0.7899872613272646)\n"
     ]
    }
   ],
   "source": [
    "## 등분산성 검정: 모든 집단의 모분산은 동일함\n",
    "\n",
    "# levene 등분산성 검정\n",
    "print(levene(seoul, daegu))\n",
    "\n",
    "# bartlett 등분산성 검정\n",
    "print(bartlett(seoul, daegu))\n",
    "\n",
    "# 결과: p-value > 0.05, 등분산성 만족"
   ],
   "metadata": {
    "collapsed": false,
    "pycharm": {
     "name": "#%%\n"
    }
   }
  },
  {
   "cell_type": "code",
   "execution_count": 26,
   "outputs": [
    {
     "name": "stdout",
     "output_type": "stream",
     "text": [
      "t검정 통계량: -9.562, pvalue=0.000000002711180\n"
     ]
    }
   ],
   "source": [
    "# 독립표본 t검정\n",
    "ttest_result = stats.ttest_ind(seoul, daegu, equal_var=True) # 등분산성 만족\n",
    "# ttest_ind(a,b,equal_var=False) # 등분산성 불만족\n",
    "\n",
    "print(\"t검정 통계량: %.3f, pvalue=%.15f\"%(ttest_result))"
   ],
   "metadata": {
    "collapsed": false,
    "pycharm": {
     "name": "#%%\n"
    }
   }
  },
  {
   "cell_type": "markdown",
   "source": [
    "결론\n",
    "- 독립표본 t검정 수행결과, 검정 통계량 t값은 -9.562, 유의확률(p-value)은 0.0000000002711180\n",
    "- P-value 검정: 0.05(유의수준) > 0.0000000002711180(p-value), 귀무가설 기각\n",
    "- 서울과 구미, 두 지역의 겨울 낮 최고기온에는 통계적으로 유의한 차이가 존재한다는 결론을 내릴 수 있음"
   ],
   "metadata": {
    "collapsed": false,
    "pycharm": {
     "name": "#%% md\n"
    }
   }
  }
 ],
 "metadata": {
  "kernelspec": {
   "display_name": "Python 3",
   "language": "python",
   "name": "python3"
  },
  "language_info": {
   "codemirror_mode": {
    "name": "ipython",
    "version": 2
   },
   "file_extension": ".py",
   "mimetype": "text/x-python",
   "name": "python",
   "nbconvert_exporter": "python",
   "pygments_lexer": "ipython2",
   "version": "2.7.6"
  }
 },
 "nbformat": 4,
 "nbformat_minor": 0
}