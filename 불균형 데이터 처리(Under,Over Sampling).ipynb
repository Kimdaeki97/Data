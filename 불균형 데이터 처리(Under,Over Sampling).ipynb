{
 "cells": [
  {
   "cell_type": "markdown",
   "id": "9e27b380",
   "metadata": {},
   "source": [
    "# ◆ 불균형 데이터 처리"
   ]
  },
  {
   "cell_type": "markdown",
   "id": "a44201e6",
   "metadata": {},
   "source": [
    "## 1. 필요 라이브러리 import\n",
    "- imbalanced-learn 패키지\n",
    "- imbalanced data 문제를 해결하기 위한 다양한 샘플링 방법을 구현한 파이썬 패키지"
   ]
  },
  {
   "cell_type": "code",
   "execution_count": 7,
   "id": "bb3999f8",
   "metadata": {},
   "outputs": [
    {
     "name": "stdout",
     "output_type": "stream",
     "text": [
      "Collecting imbalanced-learn\n",
      "  Using cached imbalanced_learn-0.9.1-py3-none-any.whl (199 kB)\n",
      "Requirement already satisfied: scipy>=1.3.2 in c:\\users\\user\\anaconda3\\lib\\site-packages (from imbalanced-learn) (1.7.3)\n",
      "Requirement already satisfied: scikit-learn>=1.1.0 in c:\\users\\user\\anaconda3\\lib\\site-packages (from imbalanced-learn) (1.1.1)\n",
      "Requirement already satisfied: threadpoolctl>=2.0.0 in c:\\users\\user\\anaconda3\\lib\\site-packages (from imbalanced-learn) (2.2.0)\n",
      "Requirement already satisfied: numpy>=1.17.3 in c:\\users\\user\\anaconda3\\lib\\site-packages (from imbalanced-learn) (1.21.5)\n",
      "Requirement already satisfied: joblib>=1.0.0 in c:\\users\\user\\anaconda3\\lib\\site-packages (from imbalanced-learn) (1.1.0)\n",
      "Installing collected packages: imbalanced-learn\n",
      "Successfully installed imbalanced-learn-0.9.1\n"
     ]
    }
   ],
   "source": [
    "!pip install imbalanced-learn"
   ]
  },
  {
   "cell_type": "code",
   "execution_count": 8,
   "id": "c3313272",
   "metadata": {},
   "outputs": [],
   "source": [
    "import warnings\n",
    "warnings.simplefilter(action='ignore', category=FutureWarning) # FutureWarning 제거\n",
    "import pandas as pd # pandas package\n",
    "import numpy as np # numpy package : np.nan 이용 결측값 생성\n",
    "%matplotlib inline\n",
    "import matplotlib.pyplot as plt # matplotlib 시각화 패키지\n",
    "import seaborn as sns # seaborn 시각화 패키지\n",
    "from sklearn.datasets import make_classification # 데이터셋 생성 패키지\n",
    "\n",
    "# 불균형 데이터 처리-언더 샘플링\n",
    "from imblearn.under_sampling import OneSidedSelection\n",
    "from imblearn.under_sampling import RandomUnderSampler\n",
    "from imblearn.under_sampling import TomekLinks\n",
    "\n",
    "# 불균형 데이터 처리-오버 샘플링\n",
    "from imblearn.over_sampling import RandomOverSampler\n",
    "from imblearn.over_sampling import SMOTE\n",
    "from imblearn.over_sampling import ADASYN\n",
    "from imblearn.over_sampling import BorderlineSMOTE\n",
    "\n",
    "# 데이터 검증\n",
    "from sklearn.ensemble import RandomForestClassifier # 랜덤 포레스트\n",
    "from sklearn.model_selection import RepeatedStratifiedKFold # Cross-Validation\n",
    "from sklearn.model_selection import cross_validate # Cross-Validation"
   ]
  },
  {
   "cell_type": "code",
   "execution_count": 10,
   "id": "5418329c",
   "metadata": {},
   "outputs": [],
   "source": [
    "# os에 따른 Font 깨짐 제거를 위해 Font 지정\n",
    "import os\n",
    "if os.name == 'nt' : #Windows OS\n",
    "    font_family = \"Malgun Gothic\"\n",
    "else: # MAC OS\n",
    "    font_family = \"AppleGothic\"\n",
    "    \n",
    "# - 값이 깨지는 문제 해결을 위해 파라미터값 설정\n",
    "sns.set(font = font_family, rc = {\"axes.unicode_minus\" : False})\n",
    "\n",
    "# 불균형 데이터에 처리에 따른 랜덤포레스트 결과 확인 함수 생성\n",
    "def Randomforest_Result(x, y, title):\n",
    "    \n",
    "    rf = RandomForestClassifier(criterion='entropy')\n",
    "    cv_rf = RepeatedStratifiedKFold(n_splits=10, n_repeats=3, random_state=1)\n",
    "    # cv_rf = RepeatedStratifiedKFold(n_splits=3, n_repeats=1, random_state=1)\n",
    "    scores = cross_validate(rf, x, y, scoring='f1', cv=cv_rf, n_jobs=-1)\n",
    "    print(title, ':', '3-Fold CV f1 score: %.4f' % np.mean(scores['test_score']))\n",
    "    \n",
    "    return"
   ]
  },
  {
   "cell_type": "markdown",
   "id": "b74ce7b1",
   "metadata": {},
   "source": [
    "## 2.Under Sampling"
   ]
  },
  {
   "cell_type": "markdown",
   "id": "50f0d129",
   "metadata": {},
   "source": [
    "1) 데이터셋 준비 및 확인"
   ]
  },
  {
   "cell_type": "code",
   "execution_count": 11,
   "id": "6618a1bd",
   "metadata": {},
   "outputs": [
    {
     "name": "stdout",
     "output_type": "stream",
     "text": [
      "(10000, 20)\n"
     ]
    },
    {
     "data": {
      "text/plain": [
       "(10000,)"
      ]
     },
     "execution_count": 11,
     "metadata": {},
     "output_type": "execute_result"
    }
   ],
   "source": [
    "# 데이터셋 준비\n",
    "X_data, y_class = make_classification ( n_classes=2, class_sep=2, n_samples=10000,\n",
    "                                        n_features =20, weights=[0.9, 0.1], flip_y =0,\n",
    "                                        n_clusters_per_class =1, random_state=10)\n",
    "\n",
    "print( X_data.shape)\n",
    "y_class.shape"
   ]
  },
  {
   "cell_type": "code",
   "execution_count": 19,
   "id": "b0fb1562",
   "metadata": {},
   "outputs": [],
   "source": [
    "from collections import Counter\n",
    "from matplotlib import pyplot"
   ]
  },
  {
   "cell_type": "code",
   "execution_count": 27,
   "id": "35d8e801",
   "metadata": {},
   "outputs": [],
   "source": [
    "# count_and_plot 그리기 함수\n",
    "\n",
    "def count_and_plot(y):\n",
    "    counter = Counter(y)\n",
    "    for k,v in counter.items ():\n",
    "        print('Class=%d, n=%d (%.3f%%)' % (k, v, v / len (y) * 100))\n",
    "        pyplot.bar ( counter.keys (), counter.values ())\n",
    "        #pyplot.show()"
   ]
  },
  {
   "cell_type": "code",
   "execution_count": 28,
   "id": "fe3b41da",
   "metadata": {},
   "outputs": [
    {
     "name": "stdout",
     "output_type": "stream",
     "text": [
      "Class=0, n=9000 (90.000%)\n",
      "Class=1, n=1000 (10.000%)\n"
     ]
    },
    {
     "data": {
      "image/png": "[encoded data removed]",
      "text/plain": [
       "<Figure size 360x216 with 1 Axes>"
      ]
     },
     "metadata": {},
     "output_type": "display_data"
    }
   ],
   "source": [
    "# 데이터셋 가시화\n",
    "plt.figure(figsize=(5, 3))\n",
    "count_and_plot(y_class)"
   ]
  },
  {
   "cell_type": "code",
   "execution_count": 30,
   "id": "c361a56c",
   "metadata": {},
   "outputs": [
    {
     "name": "stdout",
     "output_type": "stream",
     "text": [
      "언더 샘플링_원본 데이터 결과 : 3-Fold CV f1 score: 0.9881\n"
     ]
    }
   ],
   "source": [
    "Randomforest_Result(X_data, y_class, \"언더 샘플링_원본 데이터 결과\")"
   ]
  },
  {
   "cell_type": "markdown",
   "id": "261715e1",
   "metadata": {},
   "source": [
    "2) Random Under Sampling"
   ]
  },
  {
   "cell_type": "code",
   "execution_count": 31,
   "id": "d9bd1834",
   "metadata": {},
   "outputs": [],
   "source": [
    "# sampling_strategy\n",
    "# - 'majority' (소수 집단과 동일하게 샘플링)\n",
    "# - 0과 1 사이의 숫자를 지정(소수 집단 데이터수 / 다수 집단 데이터수) 하여 샘플링\n",
    "under_random = RandomUnderSampler(sampling_strategy='majority')\n",
    "X_random, y_random = under_random.fit_resample(X_data, y_class)"
   ]
  },
  {
   "cell_type": "code",
   "execution_count": 32,
   "id": "35950fe6",
   "metadata": {},
   "outputs": [
    {
     "name": "stdout",
     "output_type": "stream",
     "text": [
      "Class=0, n=1000 (50.000%)\n",
      "Class=1, n=1000 (50.000%)\n"
     ]
    },
    {
     "data": {
      "image/png": "[encoded data removed]",
      "text/plain": [
       "<Figure size 360x216 with 1 Axes>"
      ]
     },
     "metadata": {},
     "output_type": "display_data"
    }
   ],
   "source": [
    "plt.figure(figsize=(5, 3))\n",
    "count_and_plot(y_random)"
   ]
  },
  {
   "cell_type": "code",
   "execution_count": 33,
   "id": "16dc5ffb",
   "metadata": {},
   "outputs": [
    {
     "name": "stdout",
     "output_type": "stream",
     "text": [
      "언더 샘플링_랜덤언더 샘플링_데이터 결과 : 3-Fold CV f1 score: 0.9941\n"
     ]
    }
   ],
   "source": [
    "Randomforest_Result(X_random, y_random, \"언더 샘플링_랜덤언더 샘플링_데이터 결과\")"
   ]
  },
  {
   "cell_type": "code",
   "execution_count": 34,
   "id": "e8659feb",
   "metadata": {},
   "outputs": [],
   "source": [
    "# sampling_startegy\n",
    "# 0과 1 사이의 숫자를 지정(소수 집단 데이터수 / 다수 집단 데이터 수)하여 샘플링\n",
    "under_random_05 = RandomUnderSampler(sampling_strategy= 0.5)\n",
    "X_random_05, y_random_05 = under_random_05.fit_resample(X_data, y_class)"
   ]
  },
  {
   "cell_type": "code",
   "execution_count": 35,
   "id": "bdcfce9e",
   "metadata": {},
   "outputs": [
    {
     "name": "stdout",
     "output_type": "stream",
     "text": [
      "Class=0, n=2000 (66.667%)\n",
      "Class=1, n=1000 (33.333%)\n"
     ]
    },
    {
     "data": {
      "image/png": "[encoded data removed]",
      "text/plain": [
       "<Figure size 360x216 with 1 Axes>"
      ]
     },
     "metadata": {},
     "output_type": "display_data"
    }
   ],
   "source": [
    "plt.figure(figsize=(5, 3))\n",
    "count_and_plot(y_random_05)"
   ]
  },
  {
   "cell_type": "code",
   "execution_count": 36,
   "id": "cef9aa85",
   "metadata": {},
   "outputs": [
    {
     "name": "stdout",
     "output_type": "stream",
     "text": [
      "언더 샘플링_랜덤언더 샘플링_비율:0.5_데이터 결과 : 3-Fold CV f1 score: 0.9940\n"
     ]
    }
   ],
   "source": [
    "Randomforest_Result(X_random_05, y_random_05, \"언더 샘플링_랜덤언더 샘플링_비율:0.5_데이터 결과\")"
   ]
  },
  {
   "cell_type": "markdown",
   "id": "8fa83802",
   "metadata": {},
   "source": [
    "3) TomeLinks "
   ]
  },
  {
   "cell_type": "code",
   "execution_count": 38,
   "id": "a807bcf6",
   "metadata": {},
   "outputs": [],
   "source": [
    "# 토멕링크\n",
    "tl = TomekLinks()\n",
    "X_tl, y_tl = tl.fit_resample(X_data, y_class)"
   ]
  },
  {
   "cell_type": "code",
   "execution_count": 39,
   "id": "10619ec2",
   "metadata": {},
   "outputs": [
    {
     "name": "stdout",
     "output_type": "stream",
     "text": [
      "Class=0, n=8993 (89.993%)\n",
      "Class=1, n=1000 (10.007%)\n"
     ]
    },
    {
     "data": {
      "image/png": "[encoded data removed]",
      "text/plain": [
       "<Figure size 360x216 with 1 Axes>"
      ]
     },
     "metadata": {},
     "output_type": "display_data"
    }
   ],
   "source": [
    "plt.figure(figsize=(5, 3))\n",
    "count_and_plot(y_tl)"
   ]
  },
  {
   "cell_type": "code",
   "execution_count": 40,
   "id": "dbd3dc30",
   "metadata": {},
   "outputs": [
    {
     "name": "stdout",
     "output_type": "stream",
     "text": [
      "언더 샘플링_토멕링크_데이터 결과 : 3-Fold CV f1 score: 0.9889\n"
     ]
    }
   ],
   "source": [
    "Randomforest_Result(X_tl, y_tl, \"언더 샘플링_토멕링크_데이터 결과\")"
   ]
  },
  {
   "cell_type": "markdown",
   "id": "f35e23c8",
   "metadata": {},
   "source": [
    "4) OSS(OneSidedSelection)"
   ]
  },
  {
   "cell_type": "code",
   "execution_count": 41,
   "id": "86846581",
   "metadata": {},
   "outputs": [],
   "source": [
    "# OSS(OneSidedSelection)\n",
    "oss = OneSidedSelection(random_state=42)\n",
    "X_oss, y_oss = oss.fit_resample(X_data, y_class)"
   ]
  },
  {
   "cell_type": "code",
   "execution_count": 42,
   "id": "b70d3c0a",
   "metadata": {},
   "outputs": [
    {
     "name": "stdout",
     "output_type": "stream",
     "text": [
      "Class=0, n=7666 (88.461%)\n",
      "Class=1, n=1000 (11.539%)\n"
     ]
    },
    {
     "data": {
      "image/png": "[encoded data removed]",
      "text/plain": [
       "<Figure size 360x144 with 1 Axes>"
      ]
     },
     "metadata": {},
     "output_type": "display_data"
    }
   ],
   "source": [
    "plt.figure(figsize=(5, 2))\n",
    "count_and_plot(y_oss)"
   ]
  },
  {
   "cell_type": "code",
   "execution_count": 43,
   "id": "c1c35108",
   "metadata": {},
   "outputs": [
    {
     "name": "stdout",
     "output_type": "stream",
     "text": [
      "언더 샘플링_OSS_데이터 결과 : 3-Fold CV f1 score: 0.9882\n"
     ]
    }
   ],
   "source": [
    "Randomforest_Result(X_oss, y_oss, \"언더 샘플링_OSS_데이터 결과\")"
   ]
  },
  {
   "cell_type": "markdown",
   "id": "0a1ad2c4",
   "metadata": {},
   "source": [
    "## 3. Oversampling"
   ]
  },
  {
   "cell_type": "markdown",
   "id": "3f8458a5",
   "metadata": {},
   "source": [
    "1) 데이터셋 준비 및 확인"
   ]
  },
  {
   "cell_type": "code",
   "execution_count": 45,
   "id": "b1aadf46",
   "metadata": {},
   "outputs": [
    {
     "name": "stdout",
     "output_type": "stream",
     "text": [
      "(10000, 20)\n",
      "Class=0, n=9000 (90.000%)\n",
      "Class=1, n=1000 (10.000%)\n"
     ]
    },
    {
     "data": {
      "image/png": "[encoded data removed]",
      "text/plain": [
       "<Figure size 360x288 with 1 Axes>"
      ]
     },
     "metadata": {},
     "output_type": "display_data"
    }
   ],
   "source": [
    "# 데이터셋 준비 및 확인\n",
    "X_data, y_class = make_classification(n_classes=2, class_sep=2, n_samples=10000,\n",
    "                                      n_features=20, weights=[0.9, 0.1], flip_y=0,\n",
    "                                      n_clusters_per_class=1, random_state=10)\n",
    "print(X_data.shape)\n",
    "y_class.shape\n",
    "\n",
    "plt.figure(figsize=(5, 4))\n",
    "count_and_plot(y_class)"
   ]
  },
  {
   "cell_type": "code",
   "execution_count": 46,
   "id": "0260117e",
   "metadata": {},
   "outputs": [
    {
     "name": "stdout",
     "output_type": "stream",
     "text": [
      "오버 샘플링_원본 데이터 결과 : 3-Fold CV f1 score: 0.9891\n"
     ]
    }
   ],
   "source": [
    "Randomforest_Result(X_data, y_class, \"오버 샘플링_원본 데이터 결과\")"
   ]
  },
  {
   "cell_type": "markdown",
   "id": "8bb036e3",
   "metadata": {},
   "source": [
    "2) Random over sampling"
   ]
  },
  {
   "cell_type": "code",
   "execution_count": 47,
   "id": "477469e6",
   "metadata": {},
   "outputs": [],
   "source": [
    "# 램던오버샘플링\n",
    "ros = RandomOverSampler(random_state=42)\n",
    "X_ros, y_ros = ros.fit_resample(X_data, y_class)"
   ]
  },
  {
   "cell_type": "code",
   "execution_count": 48,
   "id": "ecf4c6cd",
   "metadata": {},
   "outputs": [
    {
     "name": "stdout",
     "output_type": "stream",
     "text": [
      "Class=0, n=9000 (50.000%)\n",
      "Class=1, n=9000 (50.000%)\n"
     ]
    },
    {
     "data": {
      "image/png": "[encoded data removed]",
      "text/plain": [
       "<Figure size 360x216 with 1 Axes>"
      ]
     },
     "metadata": {},
     "output_type": "display_data"
    }
   ],
   "source": [
    "plt.figure(figsize=(5, 3))\n",
    "count_and_plot(y_ros)"
   ]
  },
  {
   "cell_type": "code",
   "execution_count": 49,
   "id": "90807eb6",
   "metadata": {},
   "outputs": [
    {
     "name": "stdout",
     "output_type": "stream",
     "text": [
      "오버 샘플링_랜덤오버샘플링 결과 : 3-Fold CV f1 score: 0.9889\n"
     ]
    }
   ],
   "source": [
    "Randomforest_Result(X_data, y_class, \"오버 샘플링_랜덤오버샘플링 결과\")"
   ]
  },
  {
   "cell_type": "markdown",
   "id": "7bb6615f",
   "metadata": {},
   "source": [
    "3) SMOTE"
   ]
  },
  {
   "cell_type": "code",
   "execution_count": 50,
   "id": "2a347e32",
   "metadata": {},
   "outputs": [],
   "source": [
    "# SMOTE\n",
    "smote = SMOTE()\n",
    "X_sm, y_sm = smote.fit_resample(X_data, y_class)"
   ]
  },
  {
   "cell_type": "code",
   "execution_count": 51,
   "id": "0519943a",
   "metadata": {},
   "outputs": [
    {
     "name": "stdout",
     "output_type": "stream",
     "text": [
      "Class=0, n=9000 (50.000%)\n",
      "Class=1, n=9000 (50.000%)\n"
     ]
    },
    {
     "data": {
      "image/png": "[encoded data removed]",
      "text/plain": [
       "<Figure size 360x216 with 1 Axes>"
      ]
     },
     "metadata": {},
     "output_type": "display_data"
    }
   ],
   "source": [
    "plt.figure(figsize=(5, 3))\n",
    "count_and_plot(y_sm)"
   ]
  },
  {
   "cell_type": "code",
   "execution_count": 54,
   "id": "b9ce2dfa",
   "metadata": {},
   "outputs": [
    {
     "name": "stdout",
     "output_type": "stream",
     "text": [
      "오버 샘플링_SMOTE 결과 : 3-Fold CV f1 score: 0.9983\n"
     ]
    }
   ],
   "source": [
    "Randomforest_Result(X_sm, y_sm, \"오버 샘플링_SMOTE 결과\")"
   ]
  },
  {
   "cell_type": "markdown",
   "id": "3fa9018f",
   "metadata": {},
   "source": [
    "4) ADASYN"
   ]
  },
  {
   "cell_type": "code",
   "execution_count": 55,
   "id": "9541613b",
   "metadata": {},
   "outputs": [],
   "source": [
    "# ADASYN\n",
    "ada = ADASYN(random_state=42)\n",
    "X_ada, y_ada = ada.fit_resample(X_data, y_class)"
   ]
  },
  {
   "cell_type": "code",
   "execution_count": 56,
   "id": "3458326b",
   "metadata": {},
   "outputs": [
    {
     "name": "stdout",
     "output_type": "stream",
     "text": [
      "Class=0, n=9000 (49.972%)\n",
      "Class=1, n=9010 (50.028%)\n"
     ]
    },
    {
     "data": {
      "image/png": "[encoded data removed]",
      "text/plain": [
       "<Figure size 360x216 with 1 Axes>"
      ]
     },
     "metadata": {},
     "output_type": "display_data"
    }
   ],
   "source": [
    "plt.figure(figsize=(5, 3))\n",
    "count_and_plot(y_ada)"
   ]
  },
  {
   "cell_type": "code",
   "execution_count": 57,
   "id": "4ff0732a",
   "metadata": {},
   "outputs": [
    {
     "name": "stdout",
     "output_type": "stream",
     "text": [
      "오버 샘플링_ADASYN 결과 : 3-Fold CV f1 score: 0.9986\n"
     ]
    }
   ],
   "source": [
    "Randomforest_Result(X_ada, y_ada, \"오버 샘플링_ADASYN 결과\")"
   ]
  },
  {
   "cell_type": "markdown",
   "id": "a49a5a45",
   "metadata": {},
   "source": [
    "5) Boderline SMOTE"
   ]
  },
  {
   "cell_type": "code",
   "execution_count": 58,
   "id": "6203f0a6",
   "metadata": {},
   "outputs": [],
   "source": [
    "# Borderline SMOTE\n",
    "bor_sm = BorderlineSMOTE(random_state=42)\n",
    "X_bor_sm, y_bor_sm = bor_sm.fit_resample(X_data, y_class)"
   ]
  },
  {
   "cell_type": "code",
   "execution_count": 59,
   "id": "6404c58a",
   "metadata": {},
   "outputs": [
    {
     "name": "stdout",
     "output_type": "stream",
     "text": [
      "Class=0, n=9000 (50.000%)\n",
      "Class=1, n=9000 (50.000%)\n"
     ]
    },
    {
     "data": {
      "image/png": "[encoded data removed]",
      "text/plain": [
       "<Figure size 360x216 with 1 Axes>"
      ]
     },
     "metadata": {},
     "output_type": "display_data"
    }
   ],
   "source": [
    "plt.figure(figsize=(5, 3))\n",
    "count_and_plot(y_bor_sm)"
   ]
  },
  {
   "cell_type": "code",
   "execution_count": 60,
   "id": "428b9976",
   "metadata": {},
   "outputs": [
    {
     "name": "stdout",
     "output_type": "stream",
     "text": [
      "오버 샘플링_Borderline SMOTE 결과 : 3-Fold CV f1 score: 0.9987\n"
     ]
    }
   ],
   "source": [
    "Randomforest_Result(X_bor_sm, y_bor_sm, \"오버 샘플링_Borderline SMOTE 결과\")"
   ]
  }
 ],
 "metadata": {
  "kernelspec": {
   "display_name": "Python 3 (ipykernel)",
   "language": "python",
   "name": "python3"
  },
  "language_info": {
   "codemirror_mode": {
    "name": "ipython",
    "version": 3
   },
   "file_extension": ".py",
   "mimetype": "text/x-python",
   "name": "python",
   "nbconvert_exporter": "python",
   "pygments_lexer": "ipython3",
   "version": "3.9.12"
  }
 },
 "nbformat": 4,
 "nbformat_minor": 5
}
