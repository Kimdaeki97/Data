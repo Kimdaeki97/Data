{
 "cells": [
  {
   "cell_type": "markdown",
   "source": [
    "# ◆ 점 추정 실습"
   ],
   "metadata": {
    "collapsed": false,
    "pycharm": {
     "name": "#%% md\n"
    }
   }
  },
  {
   "cell_type": "code",
   "execution_count": 25,
   "outputs": [],
   "source": [
    "# 패키지 임포트\n",
    "import math\n",
    "\n",
    "import os\n",
    "import warnings\n",
    "warnings.simplefilter(action='ignore', category=FutureWarning) # FutureWarning 제거\n",
    "\n",
    "import pandas as pd # pandas package\n",
    "import numpy as np # numpy package\n",
    "from scipy import stats # Scipy Packge\n",
    "\n",
    "# 시각화 패키지\n",
    "import matplotlib.pyplot as plt # matplotlib 시각화 패키지\n",
    "import seaborn as sns\n",
    "%matplotlib inline\n",
    "\n",
    "# os에 따른 Font 깨짐 제거를 위해 Font 지정\n",
    "import os\n",
    "if os.name == 'nt':\n",
    "    font_family = \"Malgun Gothic\"\n",
    "else:\n",
    "    font_family = \"AppleGothic\"\n",
    "\n",
    "# - 값이 깨지는 문제 해결을 위해 파라미터값 설정\n",
    "sns.set(font=font_family, rc={\"axes.unicode_minus\": False})"
   ],
   "metadata": {
    "collapsed": false,
    "pycharm": {
     "name": "#%%\n"
    }
   }
  },
  {
   "cell_type": "markdown",
   "source": [
    "## 1. 평균의 점 추정"
   ],
   "metadata": {
    "collapsed": false,
    "pycharm": {
     "name": "#%% md\n"
    }
   }
  },
  {
   "cell_type": "markdown",
   "source": [
    "1) 데이터 생성"
   ],
   "metadata": {
    "collapsed": false,
    "pycharm": {
     "name": "#%% md\n"
    }
   }
  },
  {
   "cell_type": "code",
   "execution_count": 2,
   "outputs": [],
   "source": [
    "# 데이터 생성\n",
    "np.random.seed(100)\n",
    "\n",
    "math_score = pd.DataFrame(np.random.randint(25, 101, size=500), columns=[\"점수\"])"
   ],
   "metadata": {
    "collapsed": false,
    "pycharm": {
     "name": "#%%\n"
    }
   }
  },
  {
   "cell_type": "markdown",
   "source": [
    "2) 데이터탐색"
   ],
   "metadata": {
    "collapsed": false,
    "pycharm": {
     "name": "#%% md\n"
    }
   }
  },
  {
   "cell_type": "code",
   "execution_count": 3,
   "outputs": [
    {
     "data": {
      "text/plain": "               점수\ncount  500.000000\nmean    61.580000\nstd     21.513374\nmin     25.000000\n25%     42.000000\n50%     62.500000\n75%     79.000000\nmax    100.000000",
      "text/html": "<div>\n<style scoped>\n    .dataframe tbody tr th:only-of-type {\n        vertical-align: middle;\n    }\n\n    .dataframe tbody tr th {\n        vertical-align: top;\n    }\n\n    .dataframe thead th {\n        text-align: right;\n    }\n</style>\n<table border=\"1\" class=\"dataframe\">\n  <thead>\n    <tr style=\"text-align: right;\">\n      <th></th>\n      <th>점수</th>\n    </tr>\n  </thead>\n  <tbody>\n    <tr>\n      <th>count</th>\n      <td>500.000000</td>\n    </tr>\n    <tr>\n      <th>mean</th>\n      <td>61.580000</td>\n    </tr>\n    <tr>\n      <th>std</th>\n      <td>21.513374</td>\n    </tr>\n    <tr>\n      <th>min</th>\n      <td>25.000000</td>\n    </tr>\n    <tr>\n      <th>25%</th>\n      <td>42.000000</td>\n    </tr>\n    <tr>\n      <th>50%</th>\n      <td>62.500000</td>\n    </tr>\n    <tr>\n      <th>75%</th>\n      <td>79.000000</td>\n    </tr>\n    <tr>\n      <th>max</th>\n      <td>100.000000</td>\n    </tr>\n  </tbody>\n</table>\n</div>"
     },
     "execution_count": 3,
     "metadata": {},
     "output_type": "execute_result"
    }
   ],
   "source": [
    "# 요약정보\n",
    "math_score.describe()"
   ],
   "metadata": {
    "collapsed": false,
    "pycharm": {
     "name": "#%%\n"
    }
   }
  },
  {
   "cell_type": "code",
   "execution_count": 4,
   "outputs": [
    {
     "data": {
      "text/plain": "array([33, 49, 92, 73, 35])"
     },
     "execution_count": 4,
     "metadata": {},
     "output_type": "execute_result"
    }
   ],
   "source": [
    "# 데이터 확인\n",
    "scores = np.array(math_score['점수'])\n",
    "scores[:5]"
   ],
   "metadata": {
    "collapsed": false,
    "pycharm": {
     "name": "#%%\n"
    }
   }
  },
  {
   "cell_type": "code",
   "execution_count": 5,
   "outputs": [
    {
     "name": "stdout",
     "output_type": "stream",
     "text": [
      "[85 91 85 81 64 96 83 68 53 52 61 80 89 32 95 64 81 72 94 92]\n",
      "75.9\n",
      "282.29\n",
      "16.801488029338355\n"
     ]
    }
   ],
   "source": [
    "# 20개 샘플 추출(복원추출)\n",
    "sample = np.random.choice(scores, 20)\n",
    "print(sample)\n",
    "print(sample.mean())\n",
    "print(sample.var())\n",
    "print(sample.std())   # np.std(sample) # 편향 표본표준편차"
   ],
   "metadata": {
    "collapsed": false,
    "pycharm": {
     "name": "#%%\n"
    }
   }
  },
  {
   "cell_type": "code",
   "execution_count": 7,
   "outputs": [
    {
     "name": "stdout",
     "output_type": "stream",
     "text": [
      "1 표본평균 60.85\n",
      "2 표본평균 63.5\n",
      "3 표본평균 59.9\n",
      "4 표본평균 71.6\n",
      "5 표본평균 53.65\n",
      "6 표본평균 62.9\n",
      "7 표본평균 63.25\n",
      "8 표본평균 68.85\n",
      "9 표본평균 60.45\n",
      "10 표본평균 69.95\n"
     ]
    }
   ],
   "source": [
    "# 표본에 따라 평균 오차 확인\n",
    "for i in range(10):\n",
    "    sample1 = np.random.choice(scores,20)\n",
    "    print(i+1, \"표본평균\", sample1.mean())"
   ],
   "metadata": {
    "collapsed": false,
    "pycharm": {
     "name": "#%%\n"
    }
   }
  },
  {
   "cell_type": "code",
   "execution_count": 8,
   "outputs": [
    {
     "data": {
      "text/plain": "<Figure size 432x288 with 1 Axes>",
      "image/png": "[encoded data removed]"
     },
     "metadata": {},
     "output_type": "display_data"
    }
   ],
   "source": [
    "# 모집단 데이터 분포 확인\n",
    "plt.xlabel('score')\n",
    "plt.ylabel('relative frequency')\n",
    "plt.hist(scores, bins=100, range=(0,100), density=True)  # density=True면 상대도수\n",
    "plt.xlim(20,100)\n",
    "plt.show()"
   ],
   "metadata": {
    "collapsed": false,
    "pycharm": {
     "name": "#%%\n"
    }
   }
  },
  {
   "cell_type": "code",
   "execution_count": 9,
   "outputs": [],
   "source": [
    "# 샘플2 10000개 생성하여 분포 확인\n",
    "sample_score = np.random.choice(scores, 10000)"
   ],
   "metadata": {
    "collapsed": false,
    "pycharm": {
     "name": "#%%\n"
    }
   }
  },
  {
   "cell_type": "code",
   "execution_count": 10,
   "outputs": [
    {
     "data": {
      "text/plain": "<Figure size 432x288 with 1 Axes>",
      "image/png": "[encoded data removed]"
     },
     "metadata": {},
     "output_type": "display_data"
    }
   ],
   "source": [
    "plt.hist(sample_score, bins=100, range=(0,100), density=True)\n",
    "plt.xlim(20,100)\n",
    "plt.show()"
   ],
   "metadata": {
    "collapsed": false,
    "pycharm": {
     "name": "#%%\n"
    }
   }
  },
  {
   "cell_type": "markdown",
   "source": [
    "3) 모평균 점 추정"
   ],
   "metadata": {
    "collapsed": false,
    "pycharm": {
     "name": "#%% md\n"
    }
   }
  },
  {
   "cell_type": "code",
   "execution_count": 17,
   "outputs": [],
   "source": [
    "# 20개(n)의 표본 100번 추출\n",
    "n = 20\n",
    "nSample = 100\n",
    "\n",
    "sample_mean = np.array([np.random.choice(scores, n).mean() for _ in range(nSample)])"
   ],
   "metadata": {
    "collapsed": false,
    "pycharm": {
     "name": "#%%\n"
    }
   }
  },
  {
   "cell_type": "code",
   "execution_count": 18,
   "outputs": [
    {
     "data": {
      "text/plain": "array([62.1 , 64.7 , 60.65, 56.85, 55.7 , 57.3 , 64.5 , 62.4 , 62.45,\n       60.2 , 62.45, 65.  , 66.7 , 62.7 , 62.55, 61.5 , 70.3 , 52.95,\n       60.9 , 69.35, 57.9 , 65.1 , 65.85, 51.05, 65.75, 64.45, 61.15,\n       72.7 , 69.55, 59.75, 59.2 , 63.95, 60.9 , 61.85, 62.85, 57.35,\n       69.15, 60.7 , 60.25, 53.55, 60.7 , 56.4 , 56.35, 69.05, 62.7 ,\n       63.8 , 64.6 , 60.05, 66.75, 67.15, 64.  , 55.8 , 68.1 , 68.35,\n       63.1 , 60.  , 67.75, 68.1 , 62.35, 55.05, 51.15, 58.75, 67.8 ,\n       55.  , 60.55, 69.45, 65.05, 56.  , 61.1 , 62.5 , 59.65, 63.85,\n       67.25, 62.3 , 60.35, 69.95, 64.45, 59.4 , 57.55, 60.25, 72.1 ,\n       70.85, 57.8 , 59.55, 56.9 , 55.9 , 71.95, 63.35, 59.15, 61.1 ,\n       71.25, 59.55, 66.8 , 61.15, 59.7 , 56.65, 55.75, 59.75, 63.65,\n       66.1 ])"
     },
     "execution_count": 18,
     "metadata": {},
     "output_type": "execute_result"
    }
   ],
   "source": [
    "# 표본평균 분포 확인\n",
    "sample_mean"
   ],
   "metadata": {
    "collapsed": false,
    "pycharm": {
     "name": "#%%\n"
    }
   }
  },
  {
   "cell_type": "code",
   "execution_count": 26,
   "outputs": [
    {
     "name": "stdout",
     "output_type": "stream",
     "text": [
      "모평균 : 61.58\n",
      "표본평균의 평균 : 62.2575\n",
      "모분산/n : 23.09498\n",
      "표본평균의 분산 : 23.24816874999999\n",
      "표본평균의 편차 : 4.821635484978099\n",
      "표준오차 : 4.805723670790903\n"
     ]
    }
   ],
   "source": [
    "# 모평균\n",
    "print('모평균 :', scores.mean())\n",
    "\n",
    "# 표본평균의 평균  <= 모집단을 모를 경우 표본평균이 모수로 추정\n",
    "print('표본평균의 평균 :', sample_mean.mean())\n",
    "\n",
    "# 모분산/n\n",
    "print('모분산/n :', scores.var()/n)\n",
    "\n",
    "# 표본평균의 분산\n",
    "print('표본평균의 분산 :', sample_mean.var())\n",
    "\n",
    "# 표본평균의 편차\n",
    "print('표본평균의 편차 :', sample_mean.std())\n",
    "\n",
    "# 표준오차 : standard error of the mean\n",
    "print('표준오차 :', scores.std()/math.sqrt(n))"
   ],
   "metadata": {
    "collapsed": false,
    "pycharm": {
     "name": "#%%\n"
    }
   }
  },
  {
   "cell_type": "code",
   "execution_count": null,
   "outputs": [],
   "source": [],
   "metadata": {
    "collapsed": false,
    "pycharm": {
     "name": "#%%\n"
    }
   }
  }
 ],
 "metadata": {
  "kernelspec": {
   "display_name": "Python 3",
   "language": "python",
   "name": "python3"
  },
  "language_info": {
   "codemirror_mode": {
    "name": "ipython",
    "version": 2
   },
   "file_extension": ".py",
   "mimetype": "text/x-python",
   "name": "python",
   "nbconvert_exporter": "python",
   "pygments_lexer": "ipython2",
   "version": "2.7.6"
  }
 },
 "nbformat": 4,
 "nbformat_minor": 0
}