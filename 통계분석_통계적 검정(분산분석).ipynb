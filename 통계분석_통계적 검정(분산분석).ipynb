{
 "cells": [
  {
   "cell_type": "markdown",
   "source": [
    "# ◆ 통계적 검정 방법(분산분석) 실습"
   ],
   "metadata": {
    "collapsed": false,
    "pycharm": {
     "name": "#%% md\n"
    }
   }
  },
  {
   "cell_type": "code",
   "execution_count": 1,
   "outputs": [],
   "source": [
    "# 패키지 임포트\n",
    "import os\n",
    "import warnings\n",
    "warnings.simplefilter(action='ignore', category=FutureWarning) # FutureWarning 제거\n",
    "\n",
    "import pandas as pd # pandas package\n",
    "import numpy as np # numpy package\n",
    "import math\n",
    "from scipy import stats # Scipy Package\n",
    "\n",
    "# 시각화 패키지\n",
    "import matplotlib.pyplot as plt # matplotlib 시각화 패키지\n",
    "import seaborn as sns\n",
    "%matplotlib inline\n",
    "\n",
    "# os에 따른 Font 깨짐 제거를 위해 Font 지정\n",
    "import os\n",
    "if os.name == 'nt':\n",
    "    font_family = \"Malgun Gothic\"\n",
    "else:\n",
    "    font_family = \"AppleGothic\"\n",
    "\n",
    "# - 값이 깨지는 문제 해결을 위해 파라미터값 설정\n",
    "sns.set(font=font_family, rc={\"axes.unicode_minus\": False})"
   ],
   "metadata": {
    "collapsed": false,
    "pycharm": {
     "name": "#%%\n"
    }
   }
  },
  {
   "cell_type": "code",
   "execution_count": 3,
   "outputs": [
    {
     "name": "stdout",
     "output_type": "stream",
     "text": [
      "a 평균 :  79.0\n",
      "b 평균 :  65.375\n",
      "c 평균 :  67.125\n",
      "d 평균 :  69.5\n"
     ]
    }
   ],
   "source": [
    "# 데이터 셋\n",
    "a = [66,74,82,75,73,97,87,78]\n",
    "b = [72,51,59,62,74,64,78,63]\n",
    "c = [61,60,57,60,81,77,70,71]\n",
    "d = [63,61,76,84,58,65,69,80]\n",
    "print(\"a 평균 : \", np.mean(a))\n",
    "print(\"b 평균 : \", np.mean(b))\n",
    "print(\"c 평균 : \", np.mean(c))\n",
    "print(\"d 평균 : \", np.mean(d))"
   ],
   "metadata": {
    "collapsed": false,
    "pycharm": {
     "name": "#%%\n"
    }
   }
  },
  {
   "cell_type": "code",
   "execution_count": 4,
   "outputs": [
    {
     "data": {
      "text/plain": "<Figure size 432x288 with 1 Axes>",
      "image/png": "[encoded data removed]"
     },
     "metadata": {},
     "output_type": "display_data"
    }
   ],
   "source": [
    "# 이상값 확인\n",
    "plot_data = [a, b, c, d]\n",
    "plt.boxplot(plot_data)\n",
    "plt.xticks([1, 2, 3, 4], ['a', 'b', 'c', 'd'])\n",
    "plt.grid(True)\n",
    "plt.show()"
   ],
   "metadata": {
    "collapsed": false,
    "pycharm": {
     "name": "#%%\n"
    }
   }
  },
  {
   "cell_type": "code",
   "execution_count": 5,
   "outputs": [
    {
     "data": {
      "text/plain": "   점수 교육기관\n0  66    a\n1  74    a\n2  82    a\n3  75    a",
      "text/html": "<div>\n<style scoped>\n    .dataframe tbody tr th:only-of-type {\n        vertical-align: middle;\n    }\n\n    .dataframe tbody tr th {\n        vertical-align: top;\n    }\n\n    .dataframe thead th {\n        text-align: right;\n    }\n</style>\n<table border=\"1\" class=\"dataframe\">\n  <thead>\n    <tr style=\"text-align: right;\">\n      <th></th>\n      <th>점수</th>\n      <th>교육기관</th>\n    </tr>\n  </thead>\n  <tbody>\n    <tr>\n      <th>0</th>\n      <td>66</td>\n      <td>a</td>\n    </tr>\n    <tr>\n      <th>1</th>\n      <td>74</td>\n      <td>a</td>\n    </tr>\n    <tr>\n      <th>2</th>\n      <td>82</td>\n      <td>a</td>\n    </tr>\n    <tr>\n      <th>3</th>\n      <td>75</td>\n      <td>a</td>\n    </tr>\n  </tbody>\n</table>\n</div>"
     },
     "execution_count": 5,
     "metadata": {},
     "output_type": "execute_result"
    }
   ],
   "source": [
    "# 데이터프레임 변환\n",
    "check = ['a', 'b', 'c', 'd']\n",
    "check = [check[j] for j in range(4) for i in range(8)]\n",
    "data = pd.DataFrame({'점수':a+b+c+d, '교육기관':check})\n",
    "data.head(4)"
   ],
   "metadata": {
    "collapsed": false,
    "pycharm": {
     "name": "#%%\n"
    }
   }
  },
  {
   "cell_type": "code",
   "execution_count": 6,
   "outputs": [],
   "source": [
    "## 정규성 검정: 자료의 모집단 분포는 정규분포를 따름\n",
    "\n",
    "# print('정규성을 검정')\n",
    "# normal_a = shapiro(a)\n",
    "# normal_b = shapiro(b)\n",
    "# normal_c = shapiro(c)\n",
    "# normal_d = shapiro(d)"
   ],
   "metadata": {
    "collapsed": false,
    "pycharm": {
     "name": "#%%\n"
    }
   }
  },
  {
   "cell_type": "code",
   "execution_count": 8,
   "outputs": [
    {
     "name": "stdout",
     "output_type": "stream",
     "text": [
      "정규성을 검정\n",
      "KstestResult(statistic=0.625, pvalue=0.08702408702408701)\n",
      "KstestResult(statistic=0.625, pvalue=0.08702408702408701)\n",
      "KstestResult(statistic=0.5, pvalue=0.2826728826728826)\n",
      "KstestResult(statistic=0.25, pvalue=0.98010878010878)\n",
      "KstestResult(statistic=0.25, pvalue=0.98010878010878)\n",
      "KstestResult(statistic=0.25, pvalue=0.98010878010878)\n",
      "등분산성 검정\n",
      "LeveneResult(statistic=0.07560756075607561, pvalue=0.972627101462453)\n",
      "BartlettResult(statistic=0.07373983712569482, pvalue=0.9947906337756077)\n"
     ]
    }
   ],
   "source": [
    "# print(narmal_a)\n",
    "# print(narmal_b)\n",
    "# print(narmal_c)\n",
    "# print(narmal_d)\n",
    "\n",
    "print(\"정규성을 검정\")\n",
    "print(stats.ks_2samp(a, b), stats.ks_2samp(a, c), stats.ks_2samp(a, d),\n",
    "      stats.ks_2samp(b, c), stats.ks_2samp(b, d), stats.ks_2samp(c, d),\n",
    "      sep = \"\\n\")\n",
    "\n",
    "## 등분산성 검정: 모든 집단의 모분산은 동일함\n",
    "\n",
    "print('등분산성 검정')\n",
    "# levene 등분산성 검정\n",
    "from scipy.stats import levene\n",
    "print(levene(a,b,c,d))\n",
    "\n",
    "# bartlett 등분산성 검정\n",
    "from scipy.stats import bartlett\n",
    "print(bartlett(a,b,c,d))\n",
    "\n",
    "# 결과: p-value > 0.05, 등분산성 만족"
   ],
   "metadata": {
    "collapsed": false,
    "pycharm": {
     "name": "#%%\n"
    }
   }
  },
  {
   "cell_type": "code",
   "execution_count": 11,
   "outputs": [
    {
     "name": "stdout",
     "output_type": "stream",
     "text": [
      "F=3.5, p=0.029\n",
      "귀무가설 기각, 4개의 교육훈련 기법간이 차이가 있다.\n"
     ]
    }
   ],
   "source": [
    "## 통계량을 이용한 가설 검정\n",
    "# F통계량을 이용한 가설 검정\n",
    "f_statistic, pval = stats.f_oneway(a,b,c,d)\n",
    "\n",
    "print('F={0:.1f}, p={1:.3f}'.format(f_statistic, pval))\n",
    "\n",
    "if pval < 0.05:\n",
    "    print(\"귀무가설 기각, 4개의 교육훈련 기법간이 차이가 있다.\")\n",
    "else:\n",
    "    print(\"귀무가설 기각, 4개의 교육훈련 기법간이 차이가 없다.\")"
   ],
   "metadata": {
    "collapsed": false,
    "pycharm": {
     "name": "#%%\n"
    }
   }
  },
  {
   "cell_type": "markdown",
   "source": [
    "Statsmodel을 이용한 가설 검정\n",
    "- model = ols('종속변수~독립변수', data).fit(): model\n",
    "- sm.stats.anova_lm(model, type=2): #Type 2 Anova DataFrame"
   ],
   "metadata": {
    "collapsed": false,
    "pycharm": {
     "name": "#%% md\n"
    }
   }
  },
  {
   "cell_type": "code",
   "execution_count": 12,
   "outputs": [
    {
     "data": {
      "text/plain": "            df   sum_sq     mean_sq         F    PR(>F)\nC(교육기관)    3.0   885.25  295.083333  3.482176  0.028897\nResidual  28.0  2372.75   84.741071       NaN       NaN",
      "text/html": "<div>\n<style scoped>\n    .dataframe tbody tr th:only-of-type {\n        vertical-align: middle;\n    }\n\n    .dataframe tbody tr th {\n        vertical-align: top;\n    }\n\n    .dataframe thead th {\n        text-align: right;\n    }\n</style>\n<table border=\"1\" class=\"dataframe\">\n  <thead>\n    <tr style=\"text-align: right;\">\n      <th></th>\n      <th>df</th>\n      <th>sum_sq</th>\n      <th>mean_sq</th>\n      <th>F</th>\n      <th>PR(&gt;F)</th>\n    </tr>\n  </thead>\n  <tbody>\n    <tr>\n      <th>C(교육기관)</th>\n      <td>3.0</td>\n      <td>885.25</td>\n      <td>295.083333</td>\n      <td>3.482176</td>\n      <td>0.028897</td>\n    </tr>\n    <tr>\n      <th>Residual</th>\n      <td>28.0</td>\n      <td>2372.75</td>\n      <td>84.741071</td>\n      <td>NaN</td>\n      <td>NaN</td>\n    </tr>\n  </tbody>\n</table>\n</div>"
     },
     "execution_count": 12,
     "metadata": {},
     "output_type": "execute_result"
    }
   ],
   "source": [
    "# Statsmodel을 사용한 일원분산분석\n",
    "\n",
    "from statsmodels.formula.api import ols\n",
    "from statsmodels.stats.anova import anova_lm\n",
    "\n",
    "model_1A = ols('점수 ~ C(교육기관)', data).fit()\n",
    "anova_lm_result = anova_lm(model_1A)\n",
    "anova_lm_result\n",
    "\n",
    "# data.shape(32,2)\n",
    "# SSA k-1 = 4-1 = 4\n",
    "# SSE N-k = 32-4 = 28\n",
    "# SST N-1 = 32-1 = 31\n",
    "# MSA / MSW = 295.083333 / 84.741071 = 3.482176"
   ],
   "metadata": {
    "collapsed": false,
    "pycharm": {
     "name": "#%%\n"
    }
   }
  },
  {
   "cell_type": "code",
   "execution_count": 13,
   "outputs": [
    {
     "name": "stdout",
     "output_type": "stream",
     "text": [
      "귀무가설 기각, 4개의 교육훈련 기법간이 차이가 있다.\n"
     ]
    }
   ],
   "source": [
    "p_val = anova_lm_result['PR(>F)'][0]\n",
    "\n",
    "if pval < 0.05:\n",
    "    print(\"귀무가설 기각, 4개의 교육훈련 기법간이 차이가 있다.\")\n",
    "else:\n",
    "    print(\"귀무가설 채택, 4개의 교육훈련 기법간이 차이가 없다.\")"
   ],
   "metadata": {
    "collapsed": false,
    "pycharm": {
     "name": "#%%\n"
    }
   }
  },
  {
   "cell_type": "code",
   "execution_count": 14,
   "outputs": [
    {
     "data": {
      "text/plain": "<class 'statsmodels.iolib.table.SimpleTable'>",
      "text/html": "<table class=\"simpletable\">\n<caption>Multiple Comparison of Means - Tukey HSD, FWER=0.05</caption>\n<tr>\n  <th>group1</th> <th>group2</th> <th>meandiff</th>  <th>p-adj</th>   <th>lower</th>   <th>upper</th>  <th>reject</th>\n</tr>\n<tr>\n     <td>a</td>      <td>b</td>    <td>-13.625</td> <td>0.0298</td> <td>-26.1919</td> <td>-1.0581</td>  <td>True</td> \n</tr>\n<tr>\n     <td>a</td>      <td>c</td>    <td>-11.875</td> <td>0.0692</td> <td>-24.4419</td> <td>0.6919</td>   <td>False</td>\n</tr>\n<tr>\n     <td>a</td>      <td>d</td>     <td>-9.5</td>   <td>0.1896</td> <td>-22.0669</td> <td>3.0669</td>   <td>False</td>\n</tr>\n<tr>\n     <td>b</td>      <td>c</td>     <td>1.75</td>   <td>0.9809</td> <td>-10.8169</td> <td>14.3169</td>  <td>False</td>\n</tr>\n<tr>\n     <td>b</td>      <td>d</td>     <td>4.125</td>  <td>0.8068</td>  <td>-8.4419</td> <td>16.6919</td>  <td>False</td>\n</tr>\n<tr>\n     <td>c</td>      <td>d</td>     <td>2.375</td>  <td>0.9546</td> <td>-10.1919</td> <td>14.9419</td>  <td>False</td>\n</tr>\n</table>"
     },
     "execution_count": 14,
     "metadata": {},
     "output_type": "execute_result"
    }
   ],
   "source": [
    "## 사후 분석: ANOVA 검증 결과 유의미하다는 결론을 얻었을 때,\n",
    "##          구체적으로 어떤 수준(들)에서 평균 차이가 나는지를 검증\n",
    "from statsmodels.stats.multicomp import pairwise_tukeyhsd\n",
    "\n",
    "HSD = pairwise_tukeyhsd(data['점수'], data['교육기관'], alpha=0.05)\n",
    "HSD.summary()\n",
    "\n",
    "# a, b 차이, a, c 차이만 유의함"
   ],
   "metadata": {
    "collapsed": false,
    "pycharm": {
     "name": "#%%\n"
    }
   }
  },
  {
   "cell_type": "markdown",
   "source": [
    "결론\n",
    "- 교육기관에 따른 weight의 평균 차이는 유의미하였다(F(3, 28) = 4.221093, p<0.05)\n",
    "- Turkey의 HSD를 이용하여 사후 분석을 실시한 결과, a 조건과 b 조건에서 유의미한 평균 차이가 있었다. (p < 0.05)"
   ],
   "metadata": {
    "collapsed": false,
    "pycharm": {
     "name": "#%% md\n"
    }
   }
  },
  {
   "cell_type": "markdown",
   "source": [
    "## 2. 이원분산분석 (Two-way ANOVA)\n",
    "- 종속변수가 1개, 독립변수가 2개이면서 독립변수 각각이 factor(요인)로서 factor내에 level(수준)을 가지고 있을 때, 각 집단의 평균의 유의미한 차이가 있는지 유무를 확인\n",
    "\n",
    "증명하고자 하는 가설\n",
    "- 귀무가설: 강도에 대한 각 판유리와 온도 간에는 상호작용 효과가 없다.\n",
    "- 대립가설: 강도에 대한 각 판유리와 온도 간에는 상호작용 효과가 있다."
   ],
   "metadata": {
    "collapsed": false,
    "pycharm": {
     "name": "#%% md\n"
    }
   }
  },
  {
   "cell_type": "code",
   "execution_count": 15,
   "outputs": [],
   "source": [
    "# 종속변수: 강도, 독립변수: 판유리/온도\n",
    "\n",
    "dat=pd.DataFrame({'판유리':['유리1', '유리1', '유리1', '유리2', '유리2', '유리2', '유리3', '유리3',\n",
    "                         '유리3', '유리1', '유리1', '유리1', '유리2', '유리2', '유리2', '유리3',\n",
    "                         '유리3', '유리3', '유리1', '유리1', '유리1', '유리2', '유리2', '유리2',\n",
    "                         '유리3', '유리3', '유리3'],\n",
    "                  '온도':[100, 100, 100, 100, 100, 100, 100, 100, 100, 125, 125, 125, 125, 125,\n",
    "                        125, 125, 125, 125, 150, 150, 150, 150, 150, 150, 150, 150, 150],\n",
    "                  '강도':[580, 568, 570, 550, 530, 579, 546, 575, 599, 1090, 1087, 1085, 1070,\n",
    "                        1035, 1000, 1045, 1053, 1066, 1392, 1380, 1386, 1328, 1312, 1299, 867,\n",
    "                        904, 889]\n",
    "                  })"
   ],
   "metadata": {
    "collapsed": false,
    "pycharm": {
     "name": "#%%\n"
    }
   }
  },
  {
   "cell_type": "code",
   "execution_count": 16,
   "outputs": [
    {
     "data": {
      "text/plain": "   점수 교육기관\n0  66    a\n1  74    a\n2  82    a\n3  75    a\n4  73    a",
      "text/html": "<div>\n<style scoped>\n    .dataframe tbody tr th:only-of-type {\n        vertical-align: middle;\n    }\n\n    .dataframe tbody tr th {\n        vertical-align: top;\n    }\n\n    .dataframe thead th {\n        text-align: right;\n    }\n</style>\n<table border=\"1\" class=\"dataframe\">\n  <thead>\n    <tr style=\"text-align: right;\">\n      <th></th>\n      <th>점수</th>\n      <th>교육기관</th>\n    </tr>\n  </thead>\n  <tbody>\n    <tr>\n      <th>0</th>\n      <td>66</td>\n      <td>a</td>\n    </tr>\n    <tr>\n      <th>1</th>\n      <td>74</td>\n      <td>a</td>\n    </tr>\n    <tr>\n      <th>2</th>\n      <td>82</td>\n      <td>a</td>\n    </tr>\n    <tr>\n      <th>3</th>\n      <td>75</td>\n      <td>a</td>\n    </tr>\n    <tr>\n      <th>4</th>\n      <td>73</td>\n      <td>a</td>\n    </tr>\n  </tbody>\n</table>\n</div>"
     },
     "execution_count": 16,
     "metadata": {},
     "output_type": "execute_result"
    }
   ],
   "source": [
    "data.head()"
   ],
   "metadata": {
    "collapsed": false,
    "pycharm": {
     "name": "#%%\n"
    }
   }
  },
  {
   "cell_type": "code",
   "execution_count": 17,
   "outputs": [
    {
     "data": {
      "text/plain": "         강도\n판유리 온도     \n유리1 100   3\n    125   3\n    150   3\n유리2 100   3\n    125   3\n    150   3\n유리3 100   3\n    125   3\n    150   3",
      "text/html": "<div>\n<style scoped>\n    .dataframe tbody tr th:only-of-type {\n        vertical-align: middle;\n    }\n\n    .dataframe tbody tr th {\n        vertical-align: top;\n    }\n\n    .dataframe thead th {\n        text-align: right;\n    }\n</style>\n<table border=\"1\" class=\"dataframe\">\n  <thead>\n    <tr style=\"text-align: right;\">\n      <th></th>\n      <th></th>\n      <th>강도</th>\n    </tr>\n    <tr>\n      <th>판유리</th>\n      <th>온도</th>\n      <th></th>\n    </tr>\n  </thead>\n  <tbody>\n    <tr>\n      <th rowspan=\"3\" valign=\"top\">유리1</th>\n      <th>100</th>\n      <td>3</td>\n    </tr>\n    <tr>\n      <th>125</th>\n      <td>3</td>\n    </tr>\n    <tr>\n      <th>150</th>\n      <td>3</td>\n    </tr>\n    <tr>\n      <th rowspan=\"3\" valign=\"top\">유리2</th>\n      <th>100</th>\n      <td>3</td>\n    </tr>\n    <tr>\n      <th>125</th>\n      <td>3</td>\n    </tr>\n    <tr>\n      <th>150</th>\n      <td>3</td>\n    </tr>\n    <tr>\n      <th rowspan=\"3\" valign=\"top\">유리3</th>\n      <th>100</th>\n      <td>3</td>\n    </tr>\n    <tr>\n      <th>125</th>\n      <td>3</td>\n    </tr>\n    <tr>\n      <th>150</th>\n      <td>3</td>\n    </tr>\n  </tbody>\n</table>\n</div>"
     },
     "execution_count": 17,
     "metadata": {},
     "output_type": "execute_result"
    }
   ],
   "source": [
    "dat.groupby(['판유리', '온도']).agg(len)\n",
    "# 판유리 온도 요인으로 구분한 각 집단별 표본 수는 모두 3으로 동일"
   ],
   "metadata": {
    "collapsed": false,
    "pycharm": {
     "name": "#%%\n"
    }
   }
  },
  {
   "cell_type": "code",
   "execution_count": 18,
   "outputs": [],
   "source": [
    "# 이원분산분석\n",
    "\n",
    "from statsmodels.formula.api import ols\n",
    "from statsmodels.stats.anova import anova_lm\n",
    "\n",
    "model = ols('강도 ~ C(판유리) * C(온도)', dat).fit()\n",
    "anova_result = pd.DataFrame(anova_lm(model))"
   ],
   "metadata": {
    "collapsed": false,
    "pycharm": {
     "name": "#%%\n"
    }
   }
  },
  {
   "cell_type": "code",
   "execution_count": 19,
   "outputs": [
    {
     "data": {
      "text/plain": "                df        sum_sq        mean_sq            F        PR(>F)\nC(판유리)         2.0  1.508645e+05   75432.259259   206.370554  3.886026e-13\nC(온도)          2.0  1.970335e+06  985167.259259  2695.259499  5.008957e-23\nC(판유리):C(온도)   4.0  2.905517e+05   72637.925926   198.725707  1.254188e-14\nResidual      18.0  6.579333e+03     365.518519          NaN           NaN",
      "text/html": "<div>\n<style scoped>\n    .dataframe tbody tr th:only-of-type {\n        vertical-align: middle;\n    }\n\n    .dataframe tbody tr th {\n        vertical-align: top;\n    }\n\n    .dataframe thead th {\n        text-align: right;\n    }\n</style>\n<table border=\"1\" class=\"dataframe\">\n  <thead>\n    <tr style=\"text-align: right;\">\n      <th></th>\n      <th>df</th>\n      <th>sum_sq</th>\n      <th>mean_sq</th>\n      <th>F</th>\n      <th>PR(&gt;F)</th>\n    </tr>\n  </thead>\n  <tbody>\n    <tr>\n      <th>C(판유리)</th>\n      <td>2.0</td>\n      <td>1.508645e+05</td>\n      <td>75432.259259</td>\n      <td>206.370554</td>\n      <td>3.886026e-13</td>\n    </tr>\n    <tr>\n      <th>C(온도)</th>\n      <td>2.0</td>\n      <td>1.970335e+06</td>\n      <td>985167.259259</td>\n      <td>2695.259499</td>\n      <td>5.008957e-23</td>\n    </tr>\n    <tr>\n      <th>C(판유리):C(온도)</th>\n      <td>4.0</td>\n      <td>2.905517e+05</td>\n      <td>72637.925926</td>\n      <td>198.725707</td>\n      <td>1.254188e-14</td>\n    </tr>\n    <tr>\n      <th>Residual</th>\n      <td>18.0</td>\n      <td>6.579333e+03</td>\n      <td>365.518519</td>\n      <td>NaN</td>\n      <td>NaN</td>\n    </tr>\n  </tbody>\n</table>\n</div>"
     },
     "execution_count": 19,
     "metadata": {},
     "output_type": "execute_result"
    }
   ],
   "source": [
    "anova_result"
   ],
   "metadata": {
    "collapsed": false,
    "pycharm": {
     "name": "#%%\n"
    }
   }
  },
  {
   "cell_type": "markdown",
   "source": [
    "결과 해석\n",
    "- 판유리: F(2, 18) = 206.370554, p<0.05로 유의미. 판유리의 수준에 따라 평균에 차이가 난다고 볼 수 있음\n",
    "- 온도: F(2, 18) = 2695.259499, p<0.05로 유의미. 즉 온도의 수준에 따라 평균에 차이가 난다고 볼 수 있음\n",
    "- 판유리:온도 : F(4, 18) = 198.725707, p<0.05로 유의미. 상호작용 효과는 발견"
   ],
   "metadata": {
    "collapsed": false,
    "pycharm": {
     "name": "#%% md\n"
    }
   }
  },
  {
   "cell_type": "code",
   "execution_count": 20,
   "outputs": [
    {
     "name": "stdout",
     "output_type": "stream",
     "text": [
      "      Multiple Comparison of Means - Tukey HSD, FWER=0.05      \n",
      "===============================================================\n",
      "  group1    group2   meandiff p-adj    lower     upper   reject\n",
      "---------------------------------------------------------------\n",
      "유리1 / 100 유리1 / 125  514.6667    0.0  459.9706  569.3627   True\n",
      "유리1 / 100 유리1 / 150  813.3333    0.0  758.6373  868.0294   True\n",
      "유리1 / 100 유리2 / 100  -19.6667 0.9307  -74.3627   35.0294  False\n",
      "유리1 / 100 유리2 / 125  462.3333    0.0  407.6373  517.0294   True\n",
      "유리1 / 100 유리2 / 150  740.3333    0.0  685.6373  795.0294   True\n",
      "유리1 / 100 유리3 / 100    0.6667    1.0  -54.0294   55.3627  False\n",
      "유리1 / 100 유리3 / 125     482.0    0.0  427.3039  536.6961   True\n",
      "유리1 / 100 유리3 / 150     314.0    0.0  259.3039  368.6961   True\n",
      "유리1 / 125 유리1 / 150  298.6667    0.0  243.9706  353.3627   True\n",
      "유리1 / 125 유리2 / 100 -534.3333    0.0 -589.0294 -479.6373   True\n",
      "유리1 / 125 유리2 / 125  -52.3333  0.067 -107.0294    2.3627  False\n",
      "유리1 / 125 유리2 / 150  225.6667    0.0  170.9706  280.3627   True\n",
      "유리1 / 125 유리3 / 100    -514.0    0.0 -568.6961 -459.3039   True\n",
      "유리1 / 125 유리3 / 125  -32.6667 0.5066  -87.3627   22.0294  False\n",
      "유리1 / 125 유리3 / 150 -200.6667    0.0 -255.3627 -145.9706   True\n",
      "유리1 / 150 유리2 / 100    -833.0    0.0 -887.6961 -778.3039   True\n",
      "유리1 / 150 유리2 / 125    -351.0    0.0 -405.6961 -296.3039   True\n",
      "유리1 / 150 유리2 / 150     -73.0 0.0046 -127.6961  -18.3039   True\n",
      "유리1 / 150 유리3 / 100 -812.6667    0.0 -867.3627 -757.9706   True\n",
      "유리1 / 150 유리3 / 125 -331.3333    0.0 -386.0294 -276.6373   True\n",
      "유리1 / 150 유리3 / 150 -499.3333    0.0 -554.0294 -444.6373   True\n",
      "유리2 / 100 유리2 / 125     482.0    0.0  427.3039  536.6961   True\n",
      "유리2 / 100 유리2 / 150     760.0    0.0  705.3039  814.6961   True\n",
      "유리2 / 100 유리3 / 100   20.3333  0.918  -34.3627   75.0294  False\n",
      "유리2 / 100 유리3 / 125  501.6667    0.0  446.9706  556.3627   True\n",
      "유리2 / 100 유리3 / 150  333.6667    0.0  278.9706  388.3627   True\n",
      "유리2 / 125 유리2 / 150     278.0    0.0  223.3039  332.6961   True\n",
      "유리2 / 125 유리3 / 100 -461.6667    0.0 -516.3627 -406.9706   True\n",
      "유리2 / 125 유리3 / 125   19.6667 0.9307  -35.0294   74.3627  False\n",
      "유리2 / 125 유리3 / 150 -148.3333    0.0 -203.0294  -93.6373   True\n",
      "유리2 / 150 유리3 / 100 -739.6667    0.0 -794.3627 -684.9706   True\n",
      "유리2 / 150 유리3 / 125 -258.3333    0.0 -313.0294 -203.6373   True\n",
      "유리2 / 150 유리3 / 150 -426.3333    0.0 -481.0294 -371.6373   True\n",
      "유리3 / 100 유리3 / 125  481.3333    0.0  426.6373  536.0294   True\n",
      "유리3 / 100 유리3 / 150  313.3333    0.0  258.6373  368.0294   True\n",
      "유리3 / 125 유리3 / 150    -168.0    0.0 -222.6961 -113.3039   True\n",
      "---------------------------------------------------------------\n"
     ]
    }
   ],
   "source": [
    "## 사후분석\n",
    "dat['온도'] = dat['온도'].astype('str')\n",
    "dat['combi'] = dat.판유리 + \" / \" + dat.온도\n",
    "print(pairwise_tukeyhsd(dat['강도'], dat['combi']))"
   ],
   "metadata": {
    "collapsed": false,
    "pycharm": {
     "name": "#%%\n"
    }
   }
  }
 ],
 "metadata": {
  "kernelspec": {
   "display_name": "Python 3",
   "language": "python",
   "name": "python3"
  },
  "language_info": {
   "codemirror_mode": {
    "name": "ipython",
    "version": 2
   },
   "file_extension": ".py",
   "mimetype": "text/x-python",
   "name": "python",
   "nbconvert_exporter": "python",
   "pygments_lexer": "ipython2",
   "version": "2.7.6"
  }
 },
 "nbformat": 4,
 "nbformat_minor": 0
}