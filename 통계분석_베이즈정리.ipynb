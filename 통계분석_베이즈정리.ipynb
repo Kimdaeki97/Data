{
 "cells": [
  {
   "cell_type": "markdown",
   "source": [
    "# ◆베이즈 정리(Bayesian Thearem) 실습\n",
    "- 알고자 하는 것: 흡연자 중 30대일 확률? ==> P(30대|흡연)\n",
    "- 원인: 나이, 결과: 흡연자\n",
    "- 조건부 확률 P(흡연자|나이그룹)"
   ],
   "metadata": {
    "collapsed": false,
    "pycharm": {
     "name": "#%% md\n"
    }
   }
  },
  {
   "cell_type": "code",
   "execution_count": 1,
   "outputs": [],
   "source": [
    "import pandas as pd\n",
    "\n",
    "# 데이터셋 생성\n",
    "smoke_data = pd.DataFrame(\n",
    "    {\"나이그룹\":['10','10','10','10','10','10','10','10','10','10',\n",
    "             '20','20','20','20','20','20','20','20','20','20',\n",
    "             '30','30','30','30','30','30','30','30','30','30'],\n",
    "     \"흡연여부\":['유', '유', '무','무','무','무','무','무','무','무',\n",
    "             '유','유','유','유','유','무','무','무','무','무',\n",
    "             '유','유','유','유','유','유','유','무','무','무']\n",
    "     }\n",
    ")"
   ],
   "metadata": {
    "collapsed": false,
    "pycharm": {
     "name": "#%%\n"
    }
   }
  },
  {
   "cell_type": "code",
   "execution_count": 3,
   "outputs": [],
   "source": [
    "## 계산하기 위한 교차표\n",
    "data_crosstab = pd.crosstab(smoke_data['나이그룹'],\n",
    "                            smoke_data['흡연여부'], margins=False)"
   ],
   "metadata": {
    "collapsed": false,
    "pycharm": {
     "name": "#%%\n"
    }
   }
  },
  {
   "cell_type": "code",
   "execution_count": 4,
   "outputs": [
    {
     "data": {
      "text/plain": "흡연여부  무  유\n나이그룹      \n10    8  2\n20    5  5\n30    3  7",
      "text/html": "<div>\n<style scoped>\n    .dataframe tbody tr th:only-of-type {\n        vertical-align: middle;\n    }\n\n    .dataframe tbody tr th {\n        vertical-align: top;\n    }\n\n    .dataframe thead th {\n        text-align: right;\n    }\n</style>\n<table border=\"1\" class=\"dataframe\">\n  <thead>\n    <tr style=\"text-align: right;\">\n      <th>흡연여부</th>\n      <th>무</th>\n      <th>유</th>\n    </tr>\n    <tr>\n      <th>나이그룹</th>\n      <th></th>\n      <th></th>\n    </tr>\n  </thead>\n  <tbody>\n    <tr>\n      <th>10</th>\n      <td>8</td>\n      <td>2</td>\n    </tr>\n    <tr>\n      <th>20</th>\n      <td>5</td>\n      <td>5</td>\n    </tr>\n    <tr>\n      <th>30</th>\n      <td>3</td>\n      <td>7</td>\n    </tr>\n  </tbody>\n</table>\n</div>"
     },
     "execution_count": 4,
     "metadata": {},
     "output_type": "execute_result"
    }
   ],
   "source": [
    "data_crosstab"
   ],
   "metadata": {
    "collapsed": false,
    "pycharm": {
     "name": "#%%\n"
    }
   }
  },
  {
   "cell_type": "code",
   "execution_count": 7,
   "outputs": [
    {
     "name": "stdout",
     "output_type": "stream",
     "text": [
      "10대 확률: 3.3333333333333335\n",
      "20대 확률: 3.3333333333333335\n",
      "30대 확률: 3.3333333333333335\n",
      "전체 흡연 확률: 4.666666666666667\n",
      "전체 비흡연 확률: 5.333333333333333\n"
     ]
    }
   ],
   "source": [
    "## 확률 계산\n",
    "\n",
    "p_10 = data_crosstab.loc[\"10\"].sum()/data_crosstab.value_counts().sum()\n",
    "print(\"10대 확률:\", p_10)\n",
    "p_20 = data_crosstab.loc[\"10\"].sum()/data_crosstab.value_counts().sum()\n",
    "print(\"20대 확률:\", p_20)\n",
    "p_30 = data_crosstab.loc[\"10\"].sum()/data_crosstab.value_counts().sum()\n",
    "print(\"30대 확률:\", p_30)\n",
    "\n",
    "p_smok = data_crosstab[\"유\"].sum()/data_crosstab.value_counts().sum()\n",
    "print(\"전체 흡연 확률:\", p_smok)\n",
    "p_smok_non = data_crosstab[\"무\"].sum()/data_crosstab.value_counts().sum()\n",
    "print(\"전체 비흡연 확률:\", p_smok_non)"
   ],
   "metadata": {
    "collapsed": false,
    "pycharm": {
     "name": "#%%\n"
    }
   }
  },
  {
   "cell_type": "code",
   "execution_count": 11,
   "outputs": [
    {
     "name": "stdout",
     "output_type": "stream",
     "text": [
      "P(흡연|10대): 0.2\n",
      "P(흡연|20대): 0.5\n",
      "P(흡연|30대): 0.7\n"
     ]
    }
   ],
   "source": [
    "## 조건부 확률\n",
    "\n",
    "p_smok_given_10 = data_crosstab.loc[\"10\"][\"유\"]/data_crosstab.loc[\"10\"].sum()\n",
    "print(\"P(흡연|10대):\", p_smok_given_10)\n",
    "\n",
    "p_smok_given_20 = data_crosstab.loc[\"20\"][\"유\"]/data_crosstab.loc[\"20\"].sum()\n",
    "print(\"P(흡연|20대):\", p_smok_given_20)\n",
    "\n",
    "p_smok_given_30 = data_crosstab.loc[\"30\"][\"유\"]/data_crosstab.loc[\"30\"].sum()\n",
    "print(\"P(흡연|30대):\", p_smok_given_30)"
   ],
   "metadata": {
    "collapsed": false,
    "pycharm": {
     "name": "#%%\n"
    }
   }
  },
  {
   "cell_type": "code",
   "execution_count": 12,
   "outputs": [
    {
     "name": "stdout",
     "output_type": "stream",
     "text": [
      "전확률: 4.666666666666667\n",
      "P(30대) * P(흡연|30대): 2.3333333333333335\n"
     ]
    }
   ],
   "source": [
    "### 전확률\n",
    "total_p = (p_10 * p_smok_given_10) + (p_20 * p_smok_given_20) + (p_30 * p_smok_given_30)\n",
    "print(\"전확률:\", total_p)\n",
    "\n",
    "## P(30대) * P(흡연|30대)\n",
    "p_30_smoken_given_30 = (p_30 * p_smok_given_30)\n",
    "print(\"P(30대) * P(흡연|30대):\", p_30_smoken_given_30)"
   ],
   "metadata": {
    "collapsed": false,
    "pycharm": {
     "name": "#%%\n"
    }
   }
  },
  {
   "cell_type": "code",
   "execution_count": 16,
   "outputs": [
    {
     "name": "stdout",
     "output_type": "stream",
     "text": [
      "담배피는 사람일 때 30대일 확률:0.5\n"
     ]
    }
   ],
   "source": [
    "## 베이즈 확률 : P(30대|흡연), 흡연자 중 30대일 확률\n",
    "\n",
    "p_30_given_smok = p_30_smoken_given_30 / total_p\n",
    "\n",
    "print(\"담배피는 사람일 때 30대일 확률:{}\".format(round(p_30_given_smok, 3)))"
   ],
   "metadata": {
    "collapsed": false,
    "pycharm": {
     "name": "#%%\n"
    }
   }
  },
  {
   "cell_type": "code",
   "execution_count": 20,
   "outputs": [
    {
     "name": "stdout",
     "output_type": "stream",
     "text": [
      "[2 1 0 2 0 2 0 1 1 1 1 1 1 1 1 0 1 1 0 0 2 1 0 0 2 0 0 1 1 0 2 1 0 2 2 1 0\n",
      " 1 1 1 2 0 2 0 0 1 2 2 1 2 1 2 1 1 2 1 1 2 1 2 1 0 2 1 1 1 1 2 0 0 2 1 0 0\n",
      " 1]\n",
      "Number of mislabeled points out of a total 75 proints : 4\n"
     ]
    }
   ],
   "source": [
    "# [참조] sklearn 나이브 베이즈\n",
    "from sklearn.datasets import load_iris\n",
    "from sklearn.model_selection import train_test_split\n",
    "from sklearn.naive_bayes import GaussianNB\n",
    "\n",
    "# 아이리스 데이터셋업 : X(Feature)와 y(결과)의 값을 각각 세팅\n",
    "X, y = load_iris(return_X_y=True)\n",
    "\n",
    "# Feature 조합인 X의 값을 Train, test로 나누고, 결과 조합인 y의 값을 Train, test로 나눔\n",
    "X_train, X_test, y_train, y_test = train_test_split(X, y, test_size=0.5, random_state=0)\n",
    "\n",
    "# 나이브 베이즈는 가우시안 나이브 베이즈\n",
    "nb = GaussianNB()\n",
    "\n",
    "# train 데이터로 학습을 진행하며, X_test 데이터로 결과를 예측하여 y_pred에 입력\n",
    "y_pred = nb.fit(X_train, y_train).predict(X_test)\n",
    "print(y_pred)\n",
    "\n",
    "# 실제값과 y의 예측값을 비교하여 틀린 개수를 출력\n",
    "print(\"Number of mislabeled points out of a total %d proints : %d\"\n",
    "      % (X_test.shape[0], (y_test != y_pred).sum()))"
   ],
   "metadata": {
    "collapsed": false,
    "pycharm": {
     "name": "#%%\n"
    }
   }
  },
  {
   "cell_type": "code",
   "execution_count": null,
   "outputs": [],
   "source": [],
   "metadata": {
    "collapsed": false,
    "pycharm": {
     "name": "#%%\n"
    }
   }
  }
 ],
 "metadata": {
  "kernelspec": {
   "display_name": "Python 3",
   "language": "python",
   "name": "python3"
  },
  "language_info": {
   "codemirror_mode": {
    "name": "ipython",
    "version": 2
   },
   "file_extension": ".py",
   "mimetype": "text/x-python",
   "name": "python",
   "nbconvert_exporter": "python",
   "pygments_lexer": "ipython2",
   "version": "2.7.6"
  }
 },
 "nbformat": 4,
 "nbformat_minor": 0
}