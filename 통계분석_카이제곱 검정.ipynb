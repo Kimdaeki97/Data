{
 "cells": [
  {
   "cell_type": "markdown",
   "source": [
    "# ◆ 카이제곱 검정 실습\n",
    "## 1) 적합도 검정(Goodness of Fit)\n",
    "- k개의 범주(혹은 계급)을 가지는 한 개의 요인(factor)에 대해서 어떤 이론적 분포를 따르고 있는지를 검정하는 방법\n",
    "\n",
    "stats.chisquare()\n",
    "- 귀무가설: 실제 분포와 이론적 분포 간에는 차이가 없다.(두 분포가 일치한다.)\n",
    "- 대립가설: 실제 분포와 이론적 분포 간에는 차이가 있다.(두 분포가 일치하지 않는다.)"
   ],
   "metadata": {
    "collapsed": false,
    "pycharm": {
     "name": "#%% md\n"
    }
   }
  },
  {
   "cell_type": "code",
   "execution_count": 3,
   "outputs": [],
   "source": [
    "# 패키지 임포트\n",
    "import os\n",
    "import warnings\n",
    "warnings.simplefilter(action='ignore', category=FutureWarning) # FutureWarning 제거\n",
    "\n",
    "import pandas as pd # pandas package\n",
    "import numpy as np # numpy package\n",
    "import math\n",
    "from scipy import stats # Scipy Package\n",
    "\n",
    "# 시각화 패키지\n",
    "import matplotlib.pyplot as plt # matplotlib 시각화 패키지\n",
    "import seaborn as sns\n",
    "%matplotlib inline\n",
    "\n",
    "# os에 따른 Font 깨짐 제거를 위해 Font 지정\n",
    "import os\n",
    "if os.name == 'nt':\n",
    "    font_family = \"Malgun Gothic\"\n",
    "else:\n",
    "    font_family = \"AppleGothic\"\n",
    "\n",
    "# - 값이 깨지는 문제 해결을 위해 파라미터값 설정\n",
    "sns.set(font=font_family, rc={\"axes.unicode_minus\": False})"
   ],
   "metadata": {
    "collapsed": false,
    "pycharm": {
     "name": "#%%\n"
    }
   }
  },
  {
   "cell_type": "code",
   "execution_count": 7,
   "outputs": [],
   "source": [
    "#### 적합도 검정 ####\n",
    "## 데이터 생성\n",
    "# 4교대 근무, 1일 불량 수 조사, 각조의 불량 수 차이 여부 검정\n",
    "import pandas as pd\n",
    "\n",
    "observed_, expected_ = [15, 35, 24, 26], [25, 25, 25, 25]\n",
    "ct_1 = pd.DataFrame([observed_, expected_], columns=[\"A조\", \"B조\", \"C조\", \"D조\"],\n",
    "                    index=['관측빈도', '기대빈도'])\n",
    "ct_1\n",
    "\n",
    "## 카이제곱 검정 통계량 계산\n",
    "observed = ct_1.loc[\"관측빈도\"]\n",
    "expected = ct_1.loc[\"기대빈도\"]\n",
    "\n",
    "chi_squared_test = (observed - expected).pow(2) / expected"
   ],
   "metadata": {
    "collapsed": false,
    "pycharm": {
     "name": "#%%\n"
    }
   }
  },
  {
   "cell_type": "code",
   "execution_count": 10,
   "outputs": [
    {
     "name": "stdout",
     "output_type": "stream",
     "text": [
      "카이제곱 통계량 8.079999999999998\n",
      "기각역: 7.814727903251179\n",
      "귀무가설 기각, 4개조의 불량수는 차이가 있다.\n",
      "p-value:  0.04438695936738335\n",
      "귀무가설 기각, 4개조의 불량수는 차이가 있다.\n"
     ]
    },
    {
     "data": {
      "text/plain": "Power_divergenceResult(statistic=8.079999999999998, pvalue=0.044386959367383315)"
     },
     "execution_count": 10,
     "metadata": {},
     "output_type": "execute_result"
    }
   ],
   "source": [
    "chi_squared_statistic = chi_squared_test.sum()\n",
    "print('카이제곱 통계량', chi_squared_statistic)\n",
    "\n",
    "## 카이제곱 검정 수행(적합도 검정)\n",
    "dof = (4-1)*(2-1)\n",
    "chi_ = stats.chi2(dof)\n",
    "chi_05 = chi_.ppf(0.95)\n",
    "print('기각역:', chi_05)\n",
    "\n",
    "# 카이제곱 통계량 기반 검정\n",
    "if chi_05 >= chi_squared_statistic:\n",
    "    print(\"귀무가설 채택, 4개조의 불량수는 차이가 없다.\")\n",
    "else:\n",
    "    print(\"귀무가설 기각, 4개조의 불량수는 차이가 있다.\")\n",
    "\n",
    "p_val = 1-chi_.cdf(chi_squared_statistic)\n",
    "\n",
    "print('p-value: ', p_val)\n",
    "\n",
    "# 유의수준 기반 검정\n",
    "if p_val >= 0.05:\n",
    "    print(\"귀무가설 채택, 4개조의 불량수는 차이가 없다.\")\n",
    "else:\n",
    "    print(\"귀무가설 기각, 4개조의 불량수는 차이가 있다.\")\n",
    "\n",
    "## chisquare: 모집단의 분포를 알고 있고, 이에 대해 검증할 때, 활용 package\n",
    "stats.chisquare(ct_1.loc[\"관측빈도\"].values, f_exp= ct_1.loc[\"기대빈도\"].values)"
   ],
   "metadata": {
    "collapsed": false,
    "pycharm": {
     "name": "#%%\n"
    }
   }
  },
  {
   "cell_type": "markdown",
   "source": [
    "## 2) 독립성 검정 (Test of Independence)\n",
    "- 모집단을 범주화하는 기준이 되는 두 변수 A,B가 서로 독립적으로 관측값에 영향을 미치는지의 여부를 검정하는 것\n",
    "\n",
    "crosstab(): 교차표 생성 함수\n",
    "\n",
    "scipy 모듈의 chi2_contingency(): 2개의 범주형 변수에 대한 카이제곱 통계량 계산\n",
    "\n",
    "- 귀무가설: 두 변수 사이에는 연관이 없다.(독립이다)\n",
    "- 대립가설: 두 변수 사이에는 연관이 있다.(종속이다)"
   ],
   "metadata": {
    "collapsed": false,
    "pycharm": {
     "name": "#%% md\n"
    }
   }
  },
  {
   "cell_type": "code",
   "execution_count": 11,
   "outputs": [
    {
     "data": {
      "text/plain": "  영양제 감기여부\n0  복용    유\n1  복용    유\n2  복용    유\n3  복용    유\n4  복용    유",
      "text/html": "<div>\n<style scoped>\n    .dataframe tbody tr th:only-of-type {\n        vertical-align: middle;\n    }\n\n    .dataframe tbody tr th {\n        vertical-align: top;\n    }\n\n    .dataframe thead th {\n        text-align: right;\n    }\n</style>\n<table border=\"1\" class=\"dataframe\">\n  <thead>\n    <tr style=\"text-align: right;\">\n      <th></th>\n      <th>영양제</th>\n      <th>감기여부</th>\n    </tr>\n  </thead>\n  <tbody>\n    <tr>\n      <th>0</th>\n      <td>복용</td>\n      <td>유</td>\n    </tr>\n    <tr>\n      <th>1</th>\n      <td>복용</td>\n      <td>유</td>\n    </tr>\n    <tr>\n      <th>2</th>\n      <td>복용</td>\n      <td>유</td>\n    </tr>\n    <tr>\n      <th>3</th>\n      <td>복용</td>\n      <td>유</td>\n    </tr>\n    <tr>\n      <th>4</th>\n      <td>복용</td>\n      <td>유</td>\n    </tr>\n  </tbody>\n</table>\n</div>"
     },
     "execution_count": 11,
     "metadata": {},
     "output_type": "execute_result"
    }
   ],
   "source": [
    "#교차분석 하기 위한 범주형 데이터 정의\n",
    "cross_data = pd.DataFrame(\n",
    "    {\"영양제\":['복용','복용','복용','복용','복용','복용','복용','복용',\n",
    "            '복용','복용','복용','복용','복용','복용','복용','복용',\n",
    "            '복용','복용','복용','복용',\n",
    "            '미복용','미복용','미복용','미복용','미복용','미복용','미복용','미복용',\n",
    "            '미복용','미복용','미복용','미복용','미복용','미복용','미복용','미복용',\n",
    "            '미복용','미복용','미복용','미복용'],\n",
    "\n",
    "     \"감기여부\":['유','유','유','유','유','무','무','무','무','무',\n",
    "             '무','무','무','무','무','무','무','무','무','무',\n",
    "             '유','유','유','유','유','유','유','유','유','유',\n",
    "             '유','유','무','무','무','무','무','무','무','무']\n",
    "     }\n",
    ")\n",
    "\n",
    "cross_data.head()"
   ],
   "metadata": {
    "collapsed": false,
    "pycharm": {
     "name": "#%%\n"
    }
   }
  },
  {
   "cell_type": "code",
   "execution_count": 12,
   "outputs": [
    {
     "name": "stdout",
     "output_type": "stream",
     "text": [
      "감기여부   무   유  All\n",
      "영양제              \n",
      "미복용    8  12   20\n",
      "복용    15   5   20\n",
      "All   23  17   40\n"
     ]
    }
   ],
   "source": [
    "# 교차분석표 생성\n",
    "## summary 행렬 포함한 교차표\n",
    "print(pd.crosstab(cross_data['영양제'], cross_data['감기여부'], margins=True))\n",
    "\n",
    "## 계산하기 위한 교차표\n",
    "data_crosstab = pd.crosstab(cross_data['영양제'], cross_data['감기여부'], margins=False)"
   ],
   "metadata": {
    "collapsed": false,
    "pycharm": {
     "name": "#%%\n"
    }
   }
  },
  {
   "cell_type": "code",
   "execution_count": 13,
   "outputs": [
    {
     "data": {
      "text/plain": "감기여부   무   유\n영양제         \n미복용    8  12\n복용    15   5",
      "text/html": "<div>\n<style scoped>\n    .dataframe tbody tr th:only-of-type {\n        vertical-align: middle;\n    }\n\n    .dataframe tbody tr th {\n        vertical-align: top;\n    }\n\n    .dataframe thead th {\n        text-align: right;\n    }\n</style>\n<table border=\"1\" class=\"dataframe\">\n  <thead>\n    <tr style=\"text-align: right;\">\n      <th>감기여부</th>\n      <th>무</th>\n      <th>유</th>\n    </tr>\n    <tr>\n      <th>영양제</th>\n      <th></th>\n      <th></th>\n    </tr>\n  </thead>\n  <tbody>\n    <tr>\n      <th>미복용</th>\n      <td>8</td>\n      <td>12</td>\n    </tr>\n    <tr>\n      <th>복용</th>\n      <td>15</td>\n      <td>5</td>\n    </tr>\n  </tbody>\n</table>\n</div>"
     },
     "execution_count": 13,
     "metadata": {},
     "output_type": "execute_result"
    }
   ],
   "source": [
    "data_crosstab"
   ],
   "metadata": {
    "collapsed": false,
    "pycharm": {
     "name": "#%%\n"
    }
   }
  },
  {
   "cell_type": "code",
   "execution_count": 17,
   "outputs": [
    {
     "name": "stdout",
     "output_type": "stream",
     "text": [
      "1. 카이제곱 통계량:  5.012787723785166\n",
      "2. p-value:  0.025160759200408785\n",
      "3. df:  1\n",
      "4. 기대값 행렬:\n",
      "         유    무\n",
      "복용   11.5  8.5\n",
      "미복용  11.5  8.5\n",
      "귀무가설 기각, 감기약 복용과 감기 유무는 차이가 있다.\n"
     ]
    }
   ],
   "source": [
    "# 교차표분석: 카이제곱 통계량 산출\n",
    "from scipy.stats import chi2_contingency\n",
    "\n",
    "# correction=True를 적용하면 Yates' correction이 적용되어 검정 통계량이 보수적으로 더 낮게 나옴\n",
    "result = chi2_contingency(observed=data_crosstab, correction=False)\n",
    "print(\"1. 카이제곱 통계량: \", result[0])\n",
    "print(\"2. p-value: \", result[1])\n",
    "print(\"3. df: \", result[2])      # (행의개수-1)*(열의개수-1)\n",
    "print(\"4. 기대값 행렬:\\n\", pd.DataFrame(result[3]).rename(index={0:'복용', 1:'미복용'}, columns={0:'유', 1:'무'}))\n",
    "\n",
    "if 0.05 >= result[1]: # p-value\n",
    "    print(\"귀무가설 기각, 감기약 복용과 감기 유무는 차이가 있다.\")\n",
    "else:\n",
    "    print(\"귀무가설 채택, 감기약 복용과 감기 유무는 차이가 없다.\")"
   ],
   "metadata": {
    "collapsed": false,
    "pycharm": {
     "name": "#%%\n"
    }
   }
  }
 ],
 "metadata": {
  "kernelspec": {
   "display_name": "Python 3",
   "language": "python",
   "name": "python3"
  },
  "language_info": {
   "codemirror_mode": {
    "name": "ipython",
    "version": 2
   },
   "file_extension": ".py",
   "mimetype": "text/x-python",
   "name": "python",
   "nbconvert_exporter": "python",
   "pygments_lexer": "ipython2",
   "version": "2.7.6"
  }
 },
 "nbformat": 4,
 "nbformat_minor": 0
}