{
 "cells": [
  {
   "cell_type": "code",
   "execution_count": 1,
   "outputs": [],
   "source": [
    "# ElementTree 모듈을 로드\n",
    "from xml.etree import ElementTree"
   ],
   "metadata": {
    "collapsed": false,
    "pycharm": {
     "name": "#%%\n"
    }
   }
  },
  {
   "cell_type": "code",
   "execution_count": 3,
   "outputs": [],
   "source": [
    "# parse() 함수로 파일을 읽고 ElementTree 객체를 생성\n",
    "tree = ElementTree.parse('rss.xml')"
   ],
   "metadata": {
    "collapsed": false,
    "pycharm": {
     "name": "#%%\n"
    }
   }
  },
  {
   "cell_type": "code",
   "execution_count": 4,
   "outputs": [],
   "source": [
    "# getroot() 메서드로 XML의 루트 element를 추출\n",
    "root = tree.getroot()"
   ],
   "metadata": {
    "collapsed": false,
    "pycharm": {
     "name": "#%%\n"
    }
   }
  },
  {
   "cell_type": "code",
   "execution_count": 5,
   "outputs": [],
   "source": [
    "import pandas as pd"
   ],
   "metadata": {
    "collapsed": false,
    "pycharm": {
     "name": "#%%\n"
    }
   }
  },
  {
   "cell_type": "code",
   "execution_count": 7,
   "outputs": [
    {
     "data": {
      "text/plain": "                  일시 최저기온 최고기온     날씨\n0   2020-06-25 00:00   21   26  흐리고 비\n0   2020-06-25 12:00   21   26  흐리고 비\n0   2020-06-26 00:00   21   29  흐리고 비\n0   2020-06-26 12:00   21   29   구름많음\n0   2020-06-27 00:00   22   29   구름많음\n..               ...  ...  ...    ...\n0   2020-06-29 00:00   23   26  흐리고 비\n0   2020-06-29 12:00   23   26  흐리고 비\n0   2020-06-30 00:00   22   26  흐리고 비\n0   2020-07-01 00:00   22   26  흐리고 비\n0   2020-07-02 00:00   22   27     흐림\n\n[533 rows x 4 columns]",
      "text/html": "<div>\n<style scoped>\n    .dataframe tbody tr th:only-of-type {\n        vertical-align: middle;\n    }\n\n    .dataframe tbody tr th {\n        vertical-align: top;\n    }\n\n    .dataframe thead th {\n        text-align: right;\n    }\n</style>\n<table border=\"1\" class=\"dataframe\">\n  <thead>\n    <tr style=\"text-align: right;\">\n      <th></th>\n      <th>일시</th>\n      <th>최저기온</th>\n      <th>최고기온</th>\n      <th>날씨</th>\n    </tr>\n  </thead>\n  <tbody>\n    <tr>\n      <th>0</th>\n      <td>2020-06-25 00:00</td>\n      <td>21</td>\n      <td>26</td>\n      <td>흐리고 비</td>\n    </tr>\n    <tr>\n      <th>0</th>\n      <td>2020-06-25 12:00</td>\n      <td>21</td>\n      <td>26</td>\n      <td>흐리고 비</td>\n    </tr>\n    <tr>\n      <th>0</th>\n      <td>2020-06-26 00:00</td>\n      <td>21</td>\n      <td>29</td>\n      <td>흐리고 비</td>\n    </tr>\n    <tr>\n      <th>0</th>\n      <td>2020-06-26 12:00</td>\n      <td>21</td>\n      <td>29</td>\n      <td>구름많음</td>\n    </tr>\n    <tr>\n      <th>0</th>\n      <td>2020-06-27 00:00</td>\n      <td>22</td>\n      <td>29</td>\n      <td>구름많음</td>\n    </tr>\n    <tr>\n      <th>...</th>\n      <td>...</td>\n      <td>...</td>\n      <td>...</td>\n      <td>...</td>\n    </tr>\n    <tr>\n      <th>0</th>\n      <td>2020-06-29 00:00</td>\n      <td>23</td>\n      <td>26</td>\n      <td>흐리고 비</td>\n    </tr>\n    <tr>\n      <th>0</th>\n      <td>2020-06-29 12:00</td>\n      <td>23</td>\n      <td>26</td>\n      <td>흐리고 비</td>\n    </tr>\n    <tr>\n      <th>0</th>\n      <td>2020-06-30 00:00</td>\n      <td>22</td>\n      <td>26</td>\n      <td>흐리고 비</td>\n    </tr>\n    <tr>\n      <th>0</th>\n      <td>2020-07-01 00:00</td>\n      <td>22</td>\n      <td>26</td>\n      <td>흐리고 비</td>\n    </tr>\n    <tr>\n      <th>0</th>\n      <td>2020-07-02 00:00</td>\n      <td>22</td>\n      <td>27</td>\n      <td>흐림</td>\n    </tr>\n  </tbody>\n</table>\n<p>533 rows × 4 columns</p>\n</div>"
     },
     "execution_count": 7,
     "metadata": {},
     "output_type": "execute_result"
    }
   ],
   "source": [
    "데이터프레임_리스트 = []\n",
    "for item in root.findall('channel/item/description/body/location/data'):\n",
    "    # find() 메서드로 element 탐색, text 속성으로 값을 추출\n",
    "    tm_ef = item.find('tmEf').text\n",
    "    tmn = item.find('tmn').text\n",
    "    tmx = item.find('tmx').text\n",
    "    wf = item.find('wf').text\n",
    "    데이터프레임 = pd.DataFrame({\n",
    "        '일시':[tm_ef],\n",
    "        '최저기온':[tmn],\n",
    "        '최고기온':[tmx],\n",
    "        '날씨':[wf],\n",
    "    })\n",
    "    데이터프레임_리스트.append(데이터프레임)\n",
    "날씨정보 = pd.concat(데이터프레임_리스트)\n",
    "날씨정보"
   ],
   "metadata": {
    "collapsed": false,
    "pycharm": {
     "name": "#%%\n"
    }
   }
  },
  {
   "cell_type": "code",
   "execution_count": null,
   "outputs": [],
   "source": [],
   "metadata": {
    "collapsed": false,
    "pycharm": {
     "name": "#%%\n"
    }
   }
  }
 ],
 "metadata": {
  "kernelspec": {
   "display_name": "Python 3",
   "language": "python",
   "name": "python3"
  },
  "language_info": {
   "codemirror_mode": {
    "name": "ipython",
    "version": 2
   },
   "file_extension": ".py",
   "mimetype": "text/x-python",
   "name": "python",
   "nbconvert_exporter": "python",
   "pygments_lexer": "ipython2",
   "version": "2.7.6"
  }
 },
 "nbformat": 4,
 "nbformat_minor": 0
}