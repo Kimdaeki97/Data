{
 "cells": [
  {
   "cell_type": "markdown",
   "source": [
    "## 목록 페이지에서 퍼머 링크 목록 추출"
   ],
   "metadata": {
    "collapsed": false,
    "pycharm": {
     "name": "#%% md\n"
    }
   }
  },
  {
   "cell_type": "markdown",
   "source": [
    "### - 목록 페이지에서 상세 페이지로의 링크 목록을 추출"
   ],
   "metadata": {
    "collapsed": false,
    "pycharm": {
     "name": "#%% md\n"
    }
   }
  },
  {
   "cell_type": "code",
   "execution_count": 2,
   "outputs": [
    {
     "name": "stdout",
     "output_type": "stream",
     "text": [
      "Requirement already satisfied: cssselect in c:\\users\\user\\anaconda3\\lib\\site-packages (1.1.0)\n"
     ]
    }
   ],
   "source": [
    "import requests\n",
    "import lxml.html\n",
    "!pip install cssselect"
   ],
   "metadata": {
    "collapsed": false,
    "pycharm": {
     "name": "#%%\n"
    }
   }
  },
  {
   "cell_type": "code",
   "execution_count": 3,
   "outputs": [
    {
     "name": "stdout",
     "output_type": "stream",
     "text": [
      "/store/books/look.php?p_code=B3178834938\n",
      "javascript:;\n",
      "/store/books/look.php?p_code=B3178834938\n",
      "/store/books/look.php?p_code=B6084607806\n",
      "javascript:;\n",
      "/store/books/look.php?p_code=B6084607806\n",
      "/store/books/look.php?p_code=B8948111854\n",
      "javascript:;\n",
      "/store/books/look.php?p_code=B8948111854\n",
      "/store/books/look.php?p_code=B8661740335\n",
      "javascript:;\n",
      "/store/books/look.php?p_code=B8661740335\n",
      "/store/books/look.php?p_code=B1382037871\n",
      "javascript:;\n",
      "/store/books/look.php?p_code=B1382037871\n",
      "/store/books/look.php?p_code=B2847674054\n",
      "javascript:;\n",
      "/store/books/look.php?p_code=B2847674054\n",
      "/store/books/look.php?p_code=B4162156367\n",
      "/store/books/look.php?p_code=B4162156367\n",
      "/store/books/look.php?p_code=B5156679966\n",
      "/store/books/look.php?p_code=B5156679966\n",
      "/store/books/look.php?p_code=B6189263297\n",
      "/store/books/look.php?p_code=B6189263297\n",
      "/store/books/look.php?p_code=B4813114979\n",
      "javascript:;\n",
      "/store/books/look.php?p_code=B4813114979\n",
      "/store/books/look.php?p_code=B8806843023\n",
      "javascript:;\n",
      "/store/books/look.php?p_code=B8806843023\n",
      "/store/books/look.php?p_code=B2859439220\n",
      "/store/books/look.php?p_code=B2859439220\n",
      "/store/books/look.php?p_code=B1996635146\n",
      "javascript:;\n",
      "/store/books/look.php?p_code=B1996635146\n",
      "/store/books/look.php?p_code=B9063949643\n",
      "/store/books/look.php?p_code=B9063949643\n",
      "/store/books/look.php?p_code=B7400451696\n",
      "/store/books/look.php?p_code=B7400451696\n",
      "/store/books/look.php?p_code=B6129400746\n",
      "/store/books/look.php?p_code=B6129400746\n",
      "/store/books/look.php?p_code=B7738896383\n",
      "/store/books/look.php?p_code=B7738896383\n",
      "/store/books/look.php?p_code=B4354575770\n",
      "javascript:;\n",
      "/store/books/look.php?p_code=B4354575770\n",
      "/store/books/look.php?p_code=B1959656080\n",
      "/store/books/look.php?p_code=B1959656080\n",
      "/store/books/look.php?p_code=B5171715268\n",
      "/store/books/look.php?p_code=B5171715268\n"
     ]
    }
   ],
   "source": [
    "response = requests.get('http://www.hanbit.co.kr/store/books/new_book_list.html')\n",
    "root = lxml.html.fromstring(response.content)\n",
    "for a in root.cssselect('.view_box a'):\n",
    "    url = a.get('href')\n",
    "    print(url)"
   ],
   "metadata": {
    "collapsed": false,
    "pycharm": {
     "name": "#%%\n"
    }
   }
  },
  {
   "cell_type": "code",
   "execution_count": 6,
   "outputs": [
    {
     "name": "stdout",
     "output_type": "stream",
     "text": [
      "https://www.hanbit.co.kr/store/books/look.php?p_code=B3178834938\n",
      "https://www.hanbit.co.kr/store/books/look.php?p_code=B6084607806\n",
      "https://www.hanbit.co.kr/store/books/look.php?p_code=B8948111854\n",
      "https://www.hanbit.co.kr/store/books/look.php?p_code=B8661740335\n",
      "https://www.hanbit.co.kr/store/books/look.php?p_code=B1382037871\n",
      "https://www.hanbit.co.kr/store/books/look.php?p_code=B2847674054\n",
      "https://www.hanbit.co.kr/store/books/look.php?p_code=B4162156367\n",
      "https://www.hanbit.co.kr/store/books/look.php?p_code=B5156679966\n",
      "https://www.hanbit.co.kr/store/books/look.php?p_code=B6189263297\n",
      "https://www.hanbit.co.kr/store/books/look.php?p_code=B4813114979\n",
      "https://www.hanbit.co.kr/store/books/look.php?p_code=B8806843023\n",
      "https://www.hanbit.co.kr/store/books/look.php?p_code=B2859439220\n",
      "https://www.hanbit.co.kr/store/books/look.php?p_code=B1996635146\n",
      "https://www.hanbit.co.kr/store/books/look.php?p_code=B9063949643\n",
      "https://www.hanbit.co.kr/store/books/look.php?p_code=B7400451696\n",
      "https://www.hanbit.co.kr/store/books/look.php?p_code=B6129400746\n",
      "https://www.hanbit.co.kr/store/books/look.php?p_code=B7738896383\n",
      "https://www.hanbit.co.kr/store/books/look.php?p_code=B4354575770\n",
      "https://www.hanbit.co.kr/store/books/look.php?p_code=B1959656080\n",
      "https://www.hanbit.co.kr/store/books/look.php?p_code=B5171715268\n"
     ]
    }
   ],
   "source": [
    "# 모든 링크를 절대 URL로 변환\n",
    "root.make_links_absolute(response.url)\n",
    "\n",
    "# 목록에서 javascript 제거\n",
    "for a in root.cssselect('.view_box .book_tit a'):\n",
    "    url = a.get('href')\n",
    "    print(url)"
   ],
   "metadata": {
    "collapsed": false,
    "pycharm": {
     "name": "#%%\n"
    }
   }
  }
 ],
 "metadata": {
  "kernelspec": {
   "display_name": "Python 3",
   "language": "python",
   "name": "python3"
  },
  "language_info": {
   "codemirror_mode": {
    "name": "ipython",
    "version": 2
   },
   "file_extension": ".py",
   "mimetype": "text/x-python",
   "name": "python",
   "nbconvert_exporter": "python",
   "pygments_lexer": "ipython2",
   "version": "2.7.6"
  }
 },
 "nbformat": 4,
 "nbformat_minor": 0
}