{
 "cells": [
  {
   "cell_type": "code",
   "execution_count": 4,
   "metadata": {
    "collapsed": true,
    "pycharm": {
     "name": "#%%\n"
    }
   },
   "outputs": [],
   "source": [
    "# !pip install selenium"
   ]
  },
  {
   "cell_type": "code",
   "execution_count": 5,
   "outputs": [],
   "source": [
    "from selenium.webdriver import Chrome\n",
    "import time\n",
    "import sqlite3\n",
    "from pandas.io import sql\n",
    "import os\n",
    "import pandas as pd"
   ],
   "metadata": {
    "collapsed": false,
    "pycharm": {
     "name": "#%%\n"
    }
   }
  },
  {
   "cell_type": "code",
   "execution_count": 6,
   "outputs": [
    {
     "name": "stderr",
     "output_type": "stream",
     "text": [
      "C:\\Users\\user\\AppData\\Local\\Temp\\ipykernel_13324\\2030889984.py:8: DeprecationWarning: executable_path has been deprecated, please pass in a Service object\n",
      "  browser = webdriver.Chrome('data/chromedriver', options=options)\n"
     ]
    }
   ],
   "source": [
    "from selenium import webdriver\n",
    "\n",
    "options = webdriver.ChromeOptions()\n",
    "options.add_argument('--headless')\n",
    "options.add_argument('--disable-gpu')\n",
    "options.add_argument('--window-size=1280x1024')\n",
    "\n",
    "browser = webdriver.Chrome('data/chromedriver', options=options)"
   ],
   "metadata": {
    "collapsed": false,
    "pycharm": {
     "name": "#%%\n"
    }
   }
  },
  {
   "cell_type": "code",
   "execution_count": 7,
   "outputs": [],
   "source": [
    "browser.get('https://www.data.go.kr/')\n",
    "browser.implicitly_wait(5)"
   ],
   "metadata": {
    "collapsed": false,
    "pycharm": {
     "name": "#%%\n"
    }
   }
  },
  {
   "cell_type": "code",
   "execution_count": 8,
   "outputs": [],
   "source": [
    "browser.find_element(\"xpath\",'//*[@id=\"header\"]/div/div/div/div[2]/div/a[1]').click()\n",
    "browser.implicitly_wait(5)"
   ],
   "metadata": {
    "collapsed": false,
    "pycharm": {
     "name": "#%%\n"
    }
   }
  },
  {
   "cell_type": "code",
   "execution_count": 9,
   "outputs": [],
   "source": [
    "browser.find_element(\"xpath\",'//*[@id=\"mberId\"]').send_keys('ID')"
   ],
   "metadata": {
    "collapsed": false,
    "pycharm": {
     "name": "#%%\n"
    }
   }
  },
  {
   "cell_type": "code",
   "execution_count": 10,
   "outputs": [],
   "source": [
    "browser.find_element(\"xpath\",'//*[@id=\"pswrd\"]').send_keys('PASSWORD')"
   ],
   "metadata": {
    "collapsed": false,
    "pycharm": {
     "name": "#%%\n"
    }
   }
  },
  {
   "cell_type": "code",
   "execution_count": 11,
   "outputs": [],
   "source": [
    "browser.find_element(\"xpath\",'//*[@id=\"loginVo\"]/div[2]/div[2]/div[2]/div/div[1]/button').click()\n",
    "browser.implicitly_wait(5)"
   ],
   "metadata": {
    "collapsed": false,
    "pycharm": {
     "name": "#%%\n"
    }
   }
  },
  {
   "cell_type": "code",
   "execution_count": 13,
   "outputs": [],
   "source": [
    "browser.find_element(\"xpath\",'//*[@id=\"M000400_pc\"]/a').click()"
   ],
   "metadata": {
    "collapsed": false,
    "pycharm": {
     "name": "#%%\n"
    }
   }
  },
  {
   "cell_type": "code",
   "execution_count": null,
   "outputs": [],
   "source": [
    "browser.find_element(\"xpath\",'//*[@id=\"M000402_pc\"]/a').click()"
   ],
   "metadata": {
    "collapsed": false,
    "pycharm": {
     "name": "#%%\n"
    }
   }
  },
  {
   "cell_type": "code",
   "execution_count": null,
   "outputs": [],
   "source": [
    "def db_save(ARTICLE_LIST):\n",
    "    with sqlite3.connect(os.path.join('.','sqliteDB')) as con: # sqlite DB 파일이 존재하지 않는 경우 파일생성\n",
    "        try:\n",
    "            ARTICLE_LIST.to_sql(name = 'ARTICLE_LIST', con = con, index = False, if_exists='append')\n",
    "            #if_exists : {'fail', 'replace', 'append'} default : fail\n",
    "        except Exception as e:\n",
    "            print(str(e))\n",
    "        print(len(ARTICLE_LIST), '건 저장완료..')"
   ],
   "metadata": {
    "collapsed": false,
    "pycharm": {
     "name": "#%%\n"
    }
   }
  },
  {
   "cell_type": "code",
   "execution_count": null,
   "outputs": [],
   "source": [
    "trs = browser.find_elements(\"xpath\",'//*[@id=\"searchVO\"]/div[5]/table/tbody/tr')\n",
    "df_list = []\n",
    "for tr in trs:\n",
    "    df = pd.DataFrame({\n",
    "        'NO': [tr.find_element(\"xpath\",'td[1]').text],\n",
    "        'TITLE': [tr.find_element(\"xpath\",'td[2]').text],\n",
    "        'IQRY': [tr.find_element(\"xpath\",'td[3]').text],\n",
    "        'REGDT': [tr.find_element(\"xpath\",'td[4]').text],\n",
    "        'CHGDT': [tr.find_element(\"xpath\",'td[5]').text],\n",
    "    })\n",
    "    df_list.append(df)\n",
    "\n",
    "ARTICLE_LIST = pd.concat(df_list)\n",
    "db_save(ARTICLE_LIST)"
   ],
   "metadata": {
    "collapsed": false,
    "pycharm": {
     "name": "#%%\n"
    }
   }
  },
  {
   "cell_type": "code",
   "execution_count": null,
   "outputs": [],
   "source": [
    "browser.find_element(\"xpath\",'//*[@id=\"searchVO\"]/div[5]/table/tbody/tr[1]/td[2]/a').click()\n",
    "browser.implicitly_wait(3)"
   ],
   "metadata": {
    "collapsed": false,
    "pycharm": {
     "name": "#%%\n"
    }
   }
  },
  {
   "cell_type": "code",
   "execution_count": null,
   "outputs": [],
   "source": [
    "browser.find_element(\"xpath\",'//*[@id=\"recsroomDetail\"]/div[2]/div[4]/div/a').click()\n",
    "time.sleep(10)"
   ],
   "metadata": {
    "collapsed": false,
    "pycharm": {
     "name": "#%%\n"
    }
   }
  },
  {
   "cell_type": "code",
   "execution_count": null,
   "outputs": [],
   "source": [
    "# 상세보기 화면에서 데이터 크롤링 로직 추가"
   ],
   "metadata": {
    "collapsed": false,
    "pycharm": {
     "name": "#%%\n"
    }
   }
  },
  {
   "cell_type": "code",
   "execution_count": null,
   "outputs": [],
   "source": [
    "browser.quit()"
   ],
   "metadata": {
    "collapsed": false,
    "pycharm": {
     "name": "#%%\n"
    }
   }
  }
 ],
 "metadata": {
  "kernelspec": {
   "display_name": "Python 3",
   "language": "python",
   "name": "python3"
  },
  "language_info": {
   "codemirror_mode": {
    "name": "ipython",
    "version": 2
   },
   "file_extension": ".py",
   "mimetype": "text/x-python",
   "name": "python",
   "nbconvert_exporter": "python",
   "pygments_lexer": "ipython2",
   "version": "2.7.6"
  }
 },
 "nbformat": 4,
 "nbformat_minor": 0
}