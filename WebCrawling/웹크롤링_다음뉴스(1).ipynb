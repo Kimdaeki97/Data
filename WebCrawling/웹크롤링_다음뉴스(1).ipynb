{
 "cells": [
  {
   "cell_type": "code",
   "execution_count": 1,
   "outputs": [],
   "source": [
    "import requests\n",
    "import lxml.html\n",
    "import pandas as pd\n",
    "import sqlite3\n",
    "from pandas.io import sql\n",
    "import os"
   ],
   "metadata": {
    "collapsed": false,
    "pycharm": {
     "name": "#%%\n"
    }
   }
  },
  {
   "cell_type": "code",
   "execution_count": 2,
   "outputs": [],
   "source": [
    "REG_DATE = '20200819'"
   ],
   "metadata": {
    "collapsed": false,
    "pycharm": {
     "name": "#%%\n"
    }
   }
  },
  {
   "cell_type": "code",
   "execution_count": 4,
   "outputs": [
    {
     "name": "stdout",
     "output_type": "stream",
     "text": [
      "https://v.daum.net/v/20200819230943259 RUSSIA SPACE DOGS BELKA AND STRELKA\n",
      "https://v.daum.net/v/20200819230922257 트럼프 \"오라클은 대단한 회사\"..틱톡 인수 지지\n",
      "https://v.daum.net/v/20200819230858252 RUSSIA SPACE DOGS BELKA AND STRELKA\n",
      "https://v.daum.net/v/20200819230757249 RUSSIA SPACE DOGS BELKA AND STRELKA\n",
      "https://v.daum.net/v/20200819230752248 RUSSIA SPACE DOGS BELKA AND STRELKA\n",
      "https://v.daum.net/v/20200819230732247 RUSSIA SPACE DOGS BELKA AND STRELKA\n",
      "https://v.daum.net/v/20200819230639242 한국심리학회 연차학술대회 20~22일 열려\n",
      "https://v.daum.net/v/20200819230626241 RUSSIA SPACE DOGS BELKA AND STRELKA\n",
      "https://v.daum.net/v/20200819230623240 RUSSIA SPACE DOGS BELKA AND STRELKA\n",
      "https://v.daum.net/v/20200819230557231 RUSSIA SPACE DOGS BELKA AND STRELKA\n",
      "https://v.daum.net/v/20200819230516226 RUSSIA SPACE DOGS BELKA AND STRELKA\n",
      "https://v.daum.net/v/20200819230512224 RUSSIA SPACE DOGS BELKA AND STRELKA\n",
      "https://v.daum.net/v/20200819230448221 RUSSIA SPACE DOGS BELKA AND STRELKA\n",
      "https://v.daum.net/v/20200819225027087 글로벌창업사관학교 개교..글로벌 AI기업 육성 주력\n",
      "https://v.daum.net/v/20200819225004085 배틀그라운드, 신규 무기 'MG3'·'교란 수류탄' 추가\n"
     ]
    }
   ],
   "source": [
    "response = requests.get('https://news.daum.net/breakingnews/digital?regDate={}'.format(REG_DATE))\n",
    "\n",
    "# xpath를 사용해 상세 목록에 접근\n",
    "root = lxml.html.fromstring(response.content)\n",
    "for li in root.xpath('//*[@id=\"mArticle\"]/div[3]/ul/li'):\n",
    "    a = li.xpath('div/strong/a')[0]\n",
    "    url = a.get('href')\n",
    "    print(url, a.text)"
   ],
   "metadata": {
    "collapsed": false,
    "pycharm": {
     "name": "#%%\n"
    }
   }
  }
 ],
 "metadata": {
  "kernelspec": {
   "display_name": "Python 3",
   "language": "python",
   "name": "python3"
  },
  "language_info": {
   "codemirror_mode": {
    "name": "ipython",
    "version": 2
   },
   "file_extension": ".py",
   "mimetype": "text/x-python",
   "name": "python",
   "nbconvert_exporter": "python",
   "pygments_lexer": "ipython2",
   "version": "2.7.6"
  }
 },
 "nbformat": 4,
 "nbformat_minor": 0
}