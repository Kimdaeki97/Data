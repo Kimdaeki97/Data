{
 "cells": [
  {
   "cell_type": "code",
   "execution_count": 1,
   "outputs": [],
   "source": [
    "import requests\n",
    "import lxml.html\n",
    "import pandas as pd\n",
    "import sqlite3\n",
    "from pandas.io import sql\n",
    "import os"
   ],
   "metadata": {
    "collapsed": false,
    "pycharm": {
     "name": "#%%\n"
    }
   }
  },
  {
   "cell_type": "code",
   "execution_count": 4,
   "outputs": [
    {
     "data": {
      "text/plain": "'LG전자 스마트TV 리모컨 클릭 한 번에 왓챠플레이가 연결된다 왓챠와 LG전자는 LG 2019년형 스마트TV부터 스마트TV 리모컨에서 영화 버튼을 클릭하면 왓챠플레이 서비스가 바로 연동되도록 지원한다 왓챠플레이를 구독하는 고객 편의성을 강화했다 LG 신형 스마트TV를 보유한 왓챠플레이 고객은 편리하게 서비스를 이용할 수 있게 됐다 기존에도 삼성전자LG전자 스마트TV 메뉴와 유료방송 셋톱박스 등을 통해 왓챠플레이를 시청할 수 있었다 왓챠플레이 애플리케이션앱을 찾아야 하는 번거로움이 있었다 박태훈 왓챠 대표는 국내외 제조사는 물론 통신사 방송사와 서비스 협업을 논의 중이라며 왓챠플레이를 더 쉽게 접할 수 있도록 계속 협력해나갈 것이라고 말했다 왓챠플레이뿐만 아니라 웨이브 넷플릭스 디즈니플러스디즈니 등 대다수 온라인동영상서비스OTT가 스마트TV유료방송과 고객 접점을 확대하는 추세다 스마트폰태블릿PC 등 모바일은 물론 TV와 PC 등 다양한 디바이스에서 클릭 한 번에 서비스를 이용하도록 지원 접근성을 강화했다 고객 접점을 확대해 가입 유인을 늘리기 위한 전략이다 넷플릭스는 LG유플러스와 LG헬로비전 딜라이브 등 IPTV케이블TV와 서비스를 연동 쉽게 볼 수 있도록 지원한다 삼성LG 스마트TV 앱 또는 리모컨에서 넷플릭스NETFLIX 버튼 클릭 한 번에 서비스를 이용할 수 있도록 지원한다 웨이브와 CJ ENM 티빙TVING 등 국산 OTT는 물론 미국유럽 등 해외에서 서비스를 제공 중인 디즈니 역시 삼성LG전자 스마트TV에서 서비스를 제공한다 유료방송 플랫폼 차원에서 OTT와 제휴도 적극적이다 KT스카이라이프는 통합 OTT 서비스 토핑 출시 1주년을 맞아 국내 최대 애니메이션 스트리밍 플랫폼 라프텔 서비스를 추가했다 이달 초부터 라프텔을 통해 진격의 거인 소드 아트 온라인 도쿄 구울 나루토 원피스 등 인기 애니메이션을 회차별 결제 없이 월 9900원에 볼 수 있다 제공 OTT를 지속 확대할 계획이다 왓챠플레이와 웨이브는 토핑에서 유료 가입시청할 수 있다 유튜브는 무료로 서비스한다 토핑에서 고객은 원하는 OTT를 직접 선택 이용 가능하다 SK텔레콤과 KT 등 국내 통신사와 유료방송 플랫폼은 내년 국내 서비스를 준비 중인 것으로 알려진 디즈니와 서비스 제휴를 타진하고 있다 유료방송 관계자는 플랫폼 경쟁력은 콘텐츠가 좌우하고 OTT는 더 많은 고객과 접점을 필요로 한다며 현재로선 유료방송 플랫폼과 OTT가 대체재가 아닌 보완재 성격이 짙은 만큼 더 많은 협업이 이뤄질 것이라고 전망했다 박종진기자 truth@etnewscom'"
     },
     "execution_count": 4,
     "metadata": {},
     "output_type": "execute_result"
    }
   ],
   "source": [
    "import re\n",
    "import string\n",
    "\n",
    "def get_detail(url):\n",
    "    body= []\n",
    "    punc = '[!\"#$%&\\'()*+,-./:;<=>?[\\]^_`{|}~“”·]'\n",
    "    response = requests.get(url)\n",
    "    root = lxml.html.fromstring(response.content)\n",
    "    for p in root.xpath('//*[@id=\"harmonyContainer\"]/section/p'):\n",
    "        if p.text: # 체크\n",
    "            body.append(re.sub(punc, '', p.text)) # 특주문자 제거\n",
    "    full_body = ' '.join(body)\n",
    "\n",
    "    return full_body\n",
    "\n",
    "get_detail('https://news.v.daum.net/v/20200505000102404')"
   ],
   "metadata": {
    "collapsed": false,
    "pycharm": {
     "name": "#%%\n"
    }
   }
  },
  {
   "cell_type": "code",
   "execution_count": 5,
   "outputs": [],
   "source": [
    "page = 1\n",
    "max_page = 0\n",
    "REG_DATE = '20200819'"
   ],
   "metadata": {
    "collapsed": false,
    "pycharm": {
     "name": "#%%\n"
    }
   }
  },
  {
   "cell_type": "code",
   "execution_count": 7,
   "outputs": [
    {
     "name": "stdout",
     "output_type": "stream",
     "text": [
      "URL : https://v.daum.net/v/20200819230943259\n",
      "TITLE : RUSSIA SPACE DOGS BELKA AND STRELKA\n",
      "ARTICLE : epa08612780 Visitors look at stuffed dogs Belka L and Strelka R at the Museum of Cosmonautics in Moscow Russia 19 August 2020 Russia celebrates the 60th anniversary of KorablSputnik 2 on 19 August The two female dogs Strelka and Belka among other animals the first creatures to return alive from space EPAYURI KOCHETKOV\n",
      "----------------------------------------------------------------------------------------------------\n",
      "URL : https://v.daum.net/v/20200819230922257\n",
      "TITLE : 트럼프 \"오라클은 대단한 회사\"..틱톡 인수 지지\n",
      "ARTICLE : 지디넷코리아김익현 미디어연구소장 도널드 트럼프 미국 대통령이 오라클의 틱톡 인수에 강한 지지 의사를 드러냈다 CNBC를 비롯한 주요 외신들에 따르면 트럼프는 19일현지시간 미국 애리조나주 유마 유세 현장에서 오라클이 틱톡을 인수하기에 좋은 기업이냐는 질문을 받고 오라클은 대단한 회사라고 답변했다 트럼프는 오라클이 틱톡 인수에 관심을 갖고 있다는 보도가 나온 직후  이 같은 발언을 했다 트럼프의 예사롭지 않은 발언에 관심이 쏠리는 건 엘리슨의 이런 정치적 성향 때문이다 보도에 따르면 트럼프는 오라클은 대단한 회사이며 오라클 소유주는 엄청난tremendous 사람이라고 생각한다면서 오라클은 틱톡을 잘 다룰 수 있을 것이다고 말했다 트럼프 대통령은 바이트댄스 측에 90일 이내에 틱톡 미국 사업을 떼어내라고 통보했다 이 통보에 따라 중국 기업 바이트댄스는 틱톡 미국 사업부문 등에 대한 매각 작업에 공식 착수했다 그 동안 틱톡 인수 경쟁에선 마이크로소프트MS가 한 발 앞서 있다는 전망이 지배적이었다 하지만 오라클이 틱톡 지분을 갖고 있는 미국 벤처캐피털업체들과 공동으로 인수 경쟁에 뛰어들었다는 보도가 나오면서 새로운 국면에 접어들었다 CNBC는 오라클이 틱톡 인수를 위해 얼마나 준비하고 있는지는 알려지지 않았다고 전했다 바이트댄스 투자자들은 틱톡의 전체 가치를 500억 달러 수준으로 평가하고 있다 김익현 미디어연구소장sini@zdnetcokr\n",
      "----------------------------------------------------------------------------------------------------\n",
      "URL : https://v.daum.net/v/20200819230858252\n",
      "TITLE : RUSSIA SPACE DOGS BELKA AND STRELKA\n",
      "ARTICLE : epa08612779 Belka L and Strelka R at the Museum of Cosmonautics in Moscow Russia 19 August 2020 Russia celebrates the 60th anniversary of KorablSputnik 2 on 19 August The two female dogs Strelka and Belka among other animals the first creatures to return alive from space EPAYURI KOCHETKOV\n",
      "----------------------------------------------------------------------------------------------------\n",
      "URL : https://v.daum.net/v/20200819230757249\n",
      "TITLE : RUSSIA SPACE DOGS BELKA AND STRELKA\n",
      "ARTICLE : epa08612776 Visitor looks at stuffed dogs Belka L and Strelka R at the Museum of Cosmonautics in Moscow Russia 19 August 2020 Russia celebrates the 60th anniversary of KorablSputnik 2 on 19 August The two female dogs Strelka and Belka among other animals the first creatures to return alive from space EPAYURI KOCHETKOV\n",
      "----------------------------------------------------------------------------------------------------\n",
      "URL : https://v.daum.net/v/20200819230752248\n",
      "TITLE : RUSSIA SPACE DOGS BELKA AND STRELKA\n",
      "ARTICLE : epa08612777 A boy looks at stuffed dog Strelka at the Museum of Cosmonautics in Moscow Russia 19 August 2020 Russia celebrates the 60th anniversary of KorablSputnik 2 on 19 August The two female dogs Strelka and Belka among other animals the first creatures to return alive from space EPAYURI KOCHETKOV\n",
      "----------------------------------------------------------------------------------------------------\n",
      "URL : https://v.daum.net/v/20200819230732247\n",
      "TITLE : RUSSIA SPACE DOGS BELKA AND STRELKA\n",
      "ARTICLE : epa08612775 A visitor looks at stuffed dog Belka at the Museum of Cosmonautics in Moscow Russia 19 August 2020 Russia celebrates the 60th anniversary of KorablSputnik 2 on 19 August The two female dogs Strelka and Belka among other animals the first creatures to return alive from space EPAYURI KOCHETKOV\n",
      "----------------------------------------------------------------------------------------------------\n",
      "URL : https://v.daum.net/v/20200819230639242\n",
      "TITLE : 한국심리학회 연차학술대회 20~22일 열려\n",
      "ARTICLE : 지디넷코리아방은주 기자한국심리학회회장 조현섭 총신대학교 교수는 2020 제74차 한국심리학회 연차학술대회를 2022일 사흘간 온라인으로 개최한다고 19일 밝혔다 이번 학술대회는 1개 프리세션과 대외 심포지엄 6개 세션 특별 심포지엄 11개 세션 분과 심포지엄 6개 세션 분과 워크숍 청소년 심리학교실 한중일 심포지엄 등 총 111편의 포스터 발표가 온라인으로 열린다 1500명 이상이 참가할 예정이다 주최 측은 참가 인원수 제한에도 200명이 넘는 중고등학생이 청소년심리학교실에 참가 신청을 했다고 밝혔다 1일차20일에 개최할 프리세션은 ‘국민을 위한 심리서비스 법제화의 현실적 필요성과 실현 방안’이라는 주제로 국내 심리서비스 운영의 문제점을 진단하고 개선 방향을 제안한다 이후 대외심포지엄에서 ‘위기의 지구 재난 심리학에서 길을 찾다’는 주제로 최근 발생한 코로나19 대유행을 중심으로 재난이 우리의 삶과 심리에 미치는 부정적 영향을 이해하고 이에 대한 대응 방안을 모색하는 자리를 마련했다 특히 심리학을 기반으로 의학 보건학 의료사회학 등 다양한 인접 학문 관점에서 재난의 피해를 해결하는데 도움이 되는 연구 성과를 논의할 예정이다 또한 미국심리학회를 대표해 산드라 L 슐먼Sandra L Shullman 회장이 발표자로 참여한다 2일차21일에는 심포지엄과 워크숍을 통해 우리 사회의 다양한 문제를 다룬다 한국형 심리방역체계 구축 중독 자살 심리적 외상 디지털 성범죄 재범 방지 등과 같은 우리 사회가 직면한 현안들을 심리학적으로 진단하고 그 해결책을 모색한다 특히 정서장애의 근거 기반치료 게슈탈트 치료 코칭 프로그램 등과 같이 우리가 현대사회를 살아가면서 다양한 맥락에서 직면하는 심리적 문제들을 이해하고 치료하는데 실용적인 도움을 주는 프로그램들도 다수 준비되었다 마지막 3일차22일에는 청소년심리학교실과 한중일 심포지엄이 진행된다 특히 청소년심리학교실에서는 청소년들에게 심리학이 응용될 수 있는 다양한 영역중독 행복 AI 등을 소개하는 특강이 열린다 방은주 기자ejbang@zdnetcokr\n",
      "----------------------------------------------------------------------------------------------------\n",
      "URL : https://v.daum.net/v/20200819230626241\n",
      "TITLE : RUSSIA SPACE DOGS BELKA AND STRELKA\n",
      "ARTICLE : epa08612774 A boy looks at stuffed dog Strelka at the Museum of Cosmonautics in Moscow Russia 19 August 2020 Russia celebrates the 60th anniversary of KorablSputnik 2 on 19 August The two female dogs Strelka and Belka among other animals the first creatures to return alive from space EPAYURI KOCHETKOV\n",
      "----------------------------------------------------------------------------------------------------\n",
      "URL : https://v.daum.net/v/20200819230623240\n",
      "TITLE : RUSSIA SPACE DOGS BELKA AND STRELKA\n",
      "ARTICLE : epa08612771 The dog Strelka at the Museum of Cosmonautics in Moscow Russia 19 August 2020 Russia celebrates the 60th anniversary of KorablSputnik 2 on 19 August The two female dogs Strelka and Belka among other animals the first creatures to return alive from space EPAYURI KOCHETKOV\n",
      "----------------------------------------------------------------------------------------------------\n",
      "URL : https://v.daum.net/v/20200819230557231\n",
      "TITLE : RUSSIA SPACE DOGS BELKA AND STRELKA\n",
      "ARTICLE : epa08612770 The dogs Belka R and Strelka L at the Museum of Cosmonautics in Moscow Russia 19 August 2020 Russia celebrates the 60th anniversary of KorablSputnik 2 on 19 August on 19 August The two female dogs Strelka and Belka among other animals the first creatures to return alive from space EPAYURI KOCHETKOV\n",
      "----------------------------------------------------------------------------------------------------\n",
      "URL : https://v.daum.net/v/20200819230516226\n",
      "TITLE : RUSSIA SPACE DOGS BELKA AND STRELKA\n",
      "ARTICLE : epa08612773 A visitor looks at stuffed dog Belka at the Museum of Cosmonautics in Moscow Russia 19 August 2020 Russia celebrates the 60th anniversary of KorablSputnik 2 on 19 August The two female dogs Strelka and Belka among other animals the first creatures to return alive from space EPAYURI KOCHETKOV\n",
      "----------------------------------------------------------------------------------------------------\n",
      "URL : https://v.daum.net/v/20200819230512224\n",
      "TITLE : RUSSIA SPACE DOGS BELKA AND STRELKA\n",
      "ARTICLE : epa08612769 Visitors look at stuffed dogs Belka R and Strelka L at the Museum of Cosmonautics in Moscow Russia 19 August 2020 Russia celebrates the 60th anniversary of KorablSputnik 2 on 19 August The two female dogs Strelka and Belka among other animals the first creatures to return alive from space EPAYURI KOCHETKOV\n",
      "----------------------------------------------------------------------------------------------------\n",
      "URL : https://v.daum.net/v/20200819230448221\n",
      "TITLE : RUSSIA SPACE DOGS BELKA AND STRELKA\n",
      "ARTICLE : epa08612772 Visitor looks at stuffed dogs Belka L and Strelka R at the Museum of Cosmonautics in Moscow Russia 19 August 2020 Russia celebrates the 60th anniversary of KorablSputnik 2 on 19 August The two female dogs Strelka and Belka among other animals the first creatures to return alive from space EPAYURI KOCHETKOV\n",
      "----------------------------------------------------------------------------------------------------\n",
      "URL : https://v.daum.net/v/20200819225027087\n",
      "TITLE : 글로벌창업사관학교 개교..글로벌 AI기업 육성 주력\n",
      "ARTICLE : 지디넷코리아방은주 기자글로벌 기업과 글로벌 액셀러레이터가 국내에 상주하며 글로벌 수준의 인공지능AI 교육과 보육 서비스를 제공하는 글로벌창업사관학교’가 19일 강남 본교스파크플러스 강남 2호점 20층에서 개교식을 갖고 본격 운영에 들어갔다 글로벌창업사관학교는 내년 2월까지 이 곳에 있다가 내년초 구로 G스퀘어가 완공이 되면 구로로 이전할 예정이다  중소벤처기업부중기부는 이날 박영선 장관이 참석한 가운데 글로벌창업사관학교 시작을 알리는 개교식을 열었다 글로벌창업사관학교는 올해 신설된 글로벌 인공지능AI 스타트업 집중 육성 프로그램이다 특히 엔비디아 MS AWS 인텔 등 글로벌 기업 4곳과 글로벌 액셀러레이터500Startups 플러그플레이 SOSV Startupbootcamp 4곳이 교육과 보육에 참여한다 중기부는 서면 및 발표 평가를 거쳐 지난 7월 16일 글로벌 창업사관학교에 입교할 60개팀을 최종 선정한 바 있다 글로벌창업사관학교가 운영하는 프로그램은 크게 교육 보육 네트워킹 사업화 지원이다 교육은 글로벌 기업이 자사의 내부 교육과정을 활용하는 등 기업별 특색을 살린 기술 교육과정을 운영한다 4개 글로벌 기업이 8월부터 11월까지 기간을 나눠 교육과정을 순차로 운영한다 교육과정 운영 시점은 MS 8월을 비롯해 9월 AWS 10월 인텔 11월 엔비디아 순이다 글로벌 빅데이터 솔루션 플랫폼인 캐글Kaggle 등을 활용한 프로젝트도 중점 추진해 입교팀의 실전 사업화 역량도 강화한다 또 글로벌 일류 액셀러레이터 보육 전문가 각 2인이 글로벌창업사관학교에 상주하며 창업팀을 밀착 보육한다 창업팀은 여러 글로벌 창업기획자액셀러레이터를 경험하며 최적의 해외진출 국가를 정하고 그에 맞는 진출 전략을 세운다 국제기구 등을 통한 해외 스타트업과의 교류 등을 통해 창업팀의 글로벌 네트워크도 형성한다 해외 네트워킹 프로그램은 코로나 19 상황에 따라 변동 여부가 있다 입교팀에게는 최대 5000만원의 사업화 자금을 지원하고 글로벌창업사관학교 내에 사업장 공간도 제공한다 이날 개교식은 코로나19 상황을 감안해 비대면 형식으로 진행됐다 현장에는 글로벌 기업 및 글로벌 액셀러레이터 한국지사 대표와 정송 KAIST 인공지능AI 대학원장 등이 참석했다 박영선 중기부 장관은 올해 코로나19를 극복해 가면서 세계적으로 인공지능AI를 포함한 비대면 분야 시장의 잠재력이 커지고 있다며 앞으로 스마트 대한민국을 이끌어갈 디지털 경제 시대의 글로벌 인공지능AI 기업을 글로벌창업사관학교에서 육성해 나가겠다고 말했다  이어 K유니콘 프로젝트 스마트대한민국 펀드 등을 통해 추가적으로 인공지능AI 등 비대면 스타트업의 글로벌화를 적극 지원해 나가겠다고 덧붙였다 방은주 기자ejbang@zdnetcokr\n",
      "----------------------------------------------------------------------------------------------------\n",
      "URL : https://v.daum.net/v/20200819225004085\n",
      "TITLE : 배틀그라운드, 신규 무기 'MG3'·'교란 수류탄' 추가\n",
      "ARTICLE : ‘배틀그라운드’가 업데이트를 통해 다양한 신규 무기를 선보인다 두 가지 연사 모드가 가능한 최신 경기관총 ‘MG3’와 신규 투척 무기 ‘교란 수류탄’이 추가됐다 펍지주식회사가 플레이어언노운스 배틀그라운드 82 업데이트를 19일 진행한다 올해 세 번째 배틀그라운드 글로벌 이스포츠 대회인 펍지 콘티넨털 시리즈PUBG Continental Series PCS 2 개막을 앞두고 이스포츠 탭을 업데이트해 다양한 소식과 이벤트를 선보인다 PCS2의 승자를 예측하는 Pick’Em 챌린지 이벤트는 업데이트 이후부터 9월 23일까지 진행된다 Pick’Em 챌린지는 경기 시청 또는 인게임 아이템 구매로 투표권을 획득해 우승팀을 예측하고 성공 시 보상을 받는 이벤트다 PCS2 특별 아이템 구매 및 우승팀 투표는 9월 8일 오후 5시까지 가능하다 예측 성공 시 보상은 이스포츠 탭이 비활성화되는 9월 23일까지 획득할 수 있다 해당 아이템 판매 수익의 25는 4개 권역에 동일하게 배분해 참가팀과 공유된다 이스포츠 탭을 통해 PCS2에 출전한 권역별 최고의 선수 3인 팀별 순위 등도 확인할 수 있다 한편 이번 업데이트로 배틀그라운드에서 다양한 신규 무기를 만나볼 수 있다 보급상자를 통해서만 얻을 수 있는 최신 경기관총 ‘MG3’는 다른 총기와 달리 660rpm분당 발사 수 및 990rpm의 두 가지 연사 모드가 가능하다 MG3에는 양각대가 부착돼 엎드릴 경우 보다 안정적인 사격이 가능하다 또한 다섯 번째 탄환과 총알을 다 소진하기 직전 10발은 예광탄으로 발사되고 차량 사격 시 125배의 대미지를 입힐 수 있는 특징을 갖는다 총기 격발 사운드를 모방하는 신규 투척 무기 ‘교란 수류탄’도 추가됐다 다양한 전술적 도구로 활용이 가능한 교란 수류탄은 사녹에만 소량 스폰된다 투척 후 10초간 가짜 사격음을 만들어 유저의 위치를 숨기거나 적을 혼란에 빠뜨리며 전술적 활용이 가능하다 이 밖에도 M416 SKS Kar98k에는 총기 모델링 및 사운드 퀄리티 개선 등이 이루어진다 뿐만 아니라 에란겔에 새로운 선착장 지역 두 곳이 추가되고 기존 선착장의 구조물은 확장된다\n",
      "----------------------------------------------------------------------------------------------------\n"
     ]
    }
   ],
   "source": [
    "response = requests.get('http://news.daum.net/breakingnews/digital?page={}&regDate={}'\\\n",
    "                        .format(page, REG_DATE))\n",
    "root = lxml.html.fromstring(response.content)\n",
    "for li in root.xpath('//*[@id=\"mArticle\"]/div[3]/ul/li'):\n",
    "    a = li.xpath('div/strong/a')[0]\n",
    "    url = a.get('href')\n",
    "    article = get_detail(url)\n",
    "    print(f'URL : {url}')\n",
    "    print(f'TITLE : {a.text}')\n",
    "    print(f'ARTICLE : {article}')\n",
    "    print('-'*100)"
   ],
   "metadata": {
    "collapsed": false,
    "pycharm": {
     "name": "#%%\n"
    }
   }
  },
  {
   "cell_type": "code",
   "execution_count": null,
   "outputs": [],
   "source": [],
   "metadata": {
    "collapsed": false,
    "pycharm": {
     "name": "#%%\n"
    }
   }
  }
 ],
 "metadata": {
  "kernelspec": {
   "display_name": "Python 3",
   "language": "python",
   "name": "python3"
  },
  "language_info": {
   "codemirror_mode": {
    "name": "ipython",
    "version": 2
   },
   "file_extension": ".py",
   "mimetype": "text/x-python",
   "name": "python",
   "nbconvert_exporter": "python",
   "pygments_lexer": "ipython2",
   "version": "2.7.6"
  }
 },
 "nbformat": 4,
 "nbformat_minor": 0
}