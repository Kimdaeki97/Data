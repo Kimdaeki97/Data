{
 "cells": [
  {
   "cell_type": "markdown",
   "source": [
    "## Python scraper"
   ],
   "metadata": {
    "collapsed": false,
    "pycharm": {
     "name": "#%% md\n"
    }
   }
  },
  {
   "cell_type": "code",
   "execution_count": 1,
   "outputs": [],
   "source": [
    "import re\n",
    "import sqlite3\n",
    "from urllib.request import urlopen\n",
    "from html import unescape"
   ],
   "metadata": {
    "collapsed": false,
    "pycharm": {
     "name": "#%%\n"
    }
   }
  },
  {
   "cell_type": "code",
   "execution_count": 3,
   "outputs": [],
   "source": [
    "def main():\n",
    "    \"\"\"\n",
    "    메인 처리\n",
    "    fetch(), scrape(), save() 함수를 호출\n",
    "    \"\"\"\n",
    "    html = fetch('http://www.hanbit.co.kr/store/books/full_book_list.html')\n",
    "    books = scrape(html)\n",
    "    save('books.db', books)\n",
    "\n",
    "    with open('full_book_list.htm', 'w') as fw:\n",
    "        fw.write(html)"
   ],
   "metadata": {
    "collapsed": false,
    "pycharm": {
     "name": "#%%\n"
    }
   }
  },
  {
   "cell_type": "code",
   "execution_count": 4,
   "outputs": [],
   "source": [
    "def fetch(url):\n",
    "    \"\"\"\n",
    "    매개변수로 전달받을 url을 기반으로 웹 페이지를 추출\n",
    "    웹 페이지의 Content-Type 헤더를 통해 인코딩 형식 확인\n",
    "    반환값: str 자료형의 HTML\n",
    "    \"\"\"\n",
    "\n",
    "    f = urlopen(url)\n",
    "    # HTTP 헤더를 기반으로 인코딩 형식 추출\n",
    "    encoding = f.info().get_content_charset(failobj=\"utf-8\")\n",
    "    # 추출한 인코딩 형식을 기반으로 문자열 디코딩\n",
    "    html = f.read().decode(encoding)\n",
    "    return html"
   ],
   "metadata": {
    "collapsed": false,
    "pycharm": {
     "name": "#%%\n"
    }
   }
  },
  {
   "cell_type": "code",
   "execution_count": 6,
   "outputs": [],
   "source": [
    "def scrape(html):\n",
    "    \"\"\"\n",
    "    매개변수 html로 받은 HTML을 기반으로 정규 표현식을 사용해 도서 정보를 추출.\n",
    "    반환값: 도서(dict) 리스트\n",
    "    \"\"\"\n",
    "    books = []\n",
    "    # re.findall()을 사용해 도서 하나에 해당하는 HTML을 추출\n",
    "    for partial_html in re.findall(r'<td class=\"left\"><a.*?</td>', html, re.DOTALL):\n",
    "        # 도서의 URL을 추출\n",
    "        url = re.search(r'<a href=\"(.*?)\">', partial_html).group(1)\n",
    "        url = 'http://www.hanbit.co.kr' + url\n",
    "        # 태그를 제거해서 도서의 제목 추출\n",
    "        title = re.sub(r'<.*?>', '', partial_html)\n",
    "        title = unescape(title)\n",
    "        books.append({'url': url, 'title': title})\n",
    "\n",
    "    return books"
   ],
   "metadata": {
    "collapsed": false,
    "pycharm": {
     "name": "#%%\n"
    }
   }
  },
  {
   "cell_type": "code",
   "execution_count": 9,
   "outputs": [],
   "source": [
    "def save(db_path, books):\n",
    "    \"\"\"\n",
    "    매개변수 books로 전달된 도서 목록을 SQLite 데이터베이스에 저장\n",
    "    데이터베이스의 경로는 매개변수 dq_path로 지정\n",
    "    반환값: None(없음)\n",
    "    \"\"\"\n",
    "    # DB Connection\n",
    "    conn = sqlite3.connect(db_path)\n",
    "    # 커서 추출\n",
    "    c = conn.cursor()\n",
    "    # execute() 메서드로 SQL을 실행\n",
    "    # 스크립트를 여러 번 실행할 수 있으므르 기존의 books 테이블을 제거\n",
    "    c.execute('DROP TABLE IF EXISTS books')\n",
    "    # books 테이블을 생성\n",
    "    c.execute('''\n",
    "        CREATE TABLE books (\n",
    "            title text,\n",
    "            url text\n",
    "        )\n",
    "    ''')\n",
    "    # executemany() 메서드를 사용하면 매개변수로 리스트를 지정\n",
    "    c.executemany('INSERT INTO books VALUES (:title, :url)', books)\n",
    "    # 변경사항을 커밋\n",
    "    conn.commit()\n",
    "    # DB Connection 종료\n",
    "    conn.close()"
   ],
   "metadata": {
    "collapsed": false,
    "pycharm": {
     "name": "#%%\n"
    }
   }
  },
  {
   "cell_type": "code",
   "execution_count": 10,
   "outputs": [],
   "source": [
    "# python 명령어로 실행한 경우 main() 함수를 호출\n",
    "# 모듈로써 다른 파일에서 읽어 들였을 때 main() 함수가 호출되지 않도록 함\n",
    "# 파이썬 프로그램의 일반적인 작성 방식\n",
    "if __name__ == '__main__':\n",
    "    main()"
   ],
   "metadata": {
    "collapsed": false,
    "pycharm": {
     "name": "#%%\n"
    }
   }
  },
  {
   "cell_type": "code",
   "execution_count": 11,
   "outputs": [
    {
     "name": "stdout",
     "output_type": "stream",
     "text": [
      "('받침 없는 한글 동화 : 무시무시 마녀가 이사 와!', 'http://www.hanbit.co.kr/store/books/look.php?p_code=B8661740335')\n",
      "('받침 없는 한글 동화 : 도, 도, 도깨비다!', 'http://www.hanbit.co.kr/store/books/look.php?p_code=B6084607806')\n",
      "('받침 없는 한글 동화 : 바쁘다 바빠 너구리 바빠', 'http://www.hanbit.co.kr/store/books/look.php?p_code=B1382037871')\n",
      "('받침 없는 한글 동화 : 도깨비 파자마 파티', 'http://www.hanbit.co.kr/store/books/look.php?p_code=B8948111854')\n",
      "('받침 없는 한글 동화 : 4권 세트', 'http://www.hanbit.co.kr/store/books/look.php?p_code=B3178834938')\n",
      "('오늘도 시작하지 못하는 당신을 위해', 'http://www.hanbit.co.kr/store/books/look.php?p_code=B4162156367')\n",
      "('리얼 몽골 [2022~2023 최신판]', 'http://www.hanbit.co.kr/store/books/look.php?p_code=B2847674054')\n",
      "('IT CookBook, 원리로 이해하는 전력전자공학(2판)', 'http://www.hanbit.co.kr/store/books/look.php?p_code=B5156679966')\n",
      "('트러스트', 'http://www.hanbit.co.kr/store/books/look.php?p_code=B6189263297')\n",
      "('리얼 싱가포르 [2022~2023 최신판]', 'http://www.hanbit.co.kr/store/books/look.php?p_code=B8806843023')\n",
      "('구글 앱스 스크립트 완벽 가이드', 'http://www.hanbit.co.kr/store/books/look.php?p_code=B4813114979')\n",
      "('원소 이야기', 'http://www.hanbit.co.kr/store/books/look.php?p_code=B2859439220')\n",
      "('핸즈온 데이터 시각화', 'http://www.hanbit.co.kr/store/books/look.php?p_code=B1996635146')\n",
      "('생각하는 힘이 붙는 첫 숨은그림찾기', 'http://www.hanbit.co.kr/store/books/look.php?p_code=B4354575770')\n",
      "('IT CookBook, TCP/IP 소켓 프로그래밍(2판)', 'http://www.hanbit.co.kr/store/books/look.php?p_code=B9063949643')\n",
      "('파이썬을 활용한 베이지안 통계(2판)', 'http://www.hanbit.co.kr/store/books/look.php?p_code=B7798657798')\n",
      "('인피니티', 'http://www.hanbit.co.kr/store/books/look.php?p_code=B5171715268')\n",
      "('IT CookBook, 쉽게 배우는 데이터 통신과 컴퓨터 네트워크(3판)', 'http://www.hanbit.co.kr/store/books/look.php?p_code=B7400451696')\n",
      "('IT CookBook, 우분투 리눅스(3판)', 'http://www.hanbit.co.kr/store/books/look.php?p_code=B6129400746')\n",
      "('실용적 접근 방식의 경영학원론(10판)', 'http://www.hanbit.co.kr/store/books/look.php?p_code=B1959656080')\n",
      "('거시경제학(3판)', 'http://www.hanbit.co.kr/store/books/look.php?p_code=B7738896383')\n",
      "('비즈니스 데이터 과학', 'http://www.hanbit.co.kr/store/books/look.php?p_code=B6001875802')\n",
      "('혼자 해도 프로 작가처럼 잘 그리는 아이패드 드로잉 with 프로크리에이트', 'http://www.hanbit.co.kr/store/books/look.php?p_code=B6361762764')\n",
      "('IT CookBook, C로 시작하는 컴퓨터 프로그래밍(4판)', 'http://www.hanbit.co.kr/store/books/look.php?p_code=B4947312430')\n",
      "('IT CookBook, 인터넷 해킹과 보안(4판)', 'http://www.hanbit.co.kr/store/books/look.php?p_code=B1393628384')\n",
      "('리얼 뉴질랜드 [2022~2023 최신판]', 'http://www.hanbit.co.kr/store/books/look.php?p_code=B7718726335')\n",
      "('IT CookBook, 파이썬 데이터 분석 for Beginner', 'http://www.hanbit.co.kr/store/books/look.php?p_code=B9597680767')\n",
      "('IT CookBook, 엑셀 2019', 'http://www.hanbit.co.kr/store/books/look.php?p_code=B7792763682')\n",
      "('쉽게 따라하는 NFT 마스터 가이드', 'http://www.hanbit.co.kr/store/books/look.php?p_code=B8676970090')\n",
      "('오늘부터 팀장입니다', 'http://www.hanbit.co.kr/store/books/look.php?p_code=B2119731751')\n",
      "('IT CookBook, 소프트웨어 공학 이론과 실제', 'http://www.hanbit.co.kr/store/books/look.php?p_code=B5067324775')\n",
      "('회사에서 바로 통하는 파워포인트 FOR STARTERS(개정판)', 'http://www.hanbit.co.kr/store/books/look.php?p_code=B9071173699')\n",
      "('회사에서 바로 통하는 엑셀 FOR STARTERS(개정판)', 'http://www.hanbit.co.kr/store/books/look.php?p_code=B3501358503')\n",
      "('초등 공부 습관 바이블: 똑같이 하는데 탁월한 결과를 내는 아이는 무엇이 다를까?', 'http://www.hanbit.co.kr/store/books/look.php?p_code=B2835837863')\n",
      "('이그노벨상 읽어드립니다', 'http://www.hanbit.co.kr/store/books/look.php?p_code=B9503831552')\n",
      "('공학도라면 반드시 알아야 할 최소한의 수학(8판)', 'http://www.hanbit.co.kr/store/books/look.php?p_code=B2247981475')\n",
      "('기업의 성공을 이끄는 Developer Relations', 'http://www.hanbit.co.kr/store/books/look.php?p_code=B9102351881')\n",
      "('사례 분석으로 배우는 데이터 시각화', 'http://www.hanbit.co.kr/store/books/look.php?p_code=B5825921855')\n",
      "('클라우드 네이티브 애플리케이션 디자인 패턴', 'http://www.hanbit.co.kr/store/books/look.php?p_code=B3886303135')\n",
      "('변화하는 세계 질서', 'http://www.hanbit.co.kr/store/books/look.php?p_code=B7422209817')\n",
      "('혼자 공부하는파이썬(개정판)', 'http://www.hanbit.co.kr/store/books/look.php?p_code=B1681646737')\n",
      "('아이주도이유식 레시피북(개정판)', 'http://www.hanbit.co.kr/store/books/look.php?p_code=B1355665429')\n",
      "('소문난 명강의 : 소플의 처음 만난 리액트', 'http://www.hanbit.co.kr/store/books/look.php?p_code=B9365371874')\n",
      "('적정 소프트웨어 아키텍처', 'http://www.hanbit.co.kr/store/books/look.php?p_code=B6059097161')\n",
      "('리얼 호주 [2022~2023 최신판]', 'http://www.hanbit.co.kr/store/books/look.php?p_code=B6562895528')\n",
      "('회사에서 바로 통하는 실무 엑셀+파워포인트+워드&한글(모든 버전 사용 가능, 개정판)', 'http://www.hanbit.co.kr/store/books/look.php?p_code=B5594567896')\n",
      "('혼자 공부하는 얄팍한 코딩 지식', 'http://www.hanbit.co.kr/store/books/look.php?p_code=B2317469552')\n",
      "('똑똑한 코드 작성을 위한 실전 알고리즘', 'http://www.hanbit.co.kr/store/books/look.php?p_code=B3563253053')\n",
      "('IT CookBook, UI/UX 디자인 이론과 실무 with 어도비 XD', 'http://www.hanbit.co.kr/store/books/look.php?p_code=B4622884510')\n",
      "('때려치우기의 기술', 'http://www.hanbit.co.kr/store/books/look.php?p_code=B7975223427')\n"
     ]
    }
   ],
   "source": [
    "# 저장된 내용 확인\n",
    "with sqlite3.connect('books.db') as conn:\n",
    "    c = conn.cursor()\n",
    "    c.execute('SELECT * FROM books')\n",
    "    for row in c.fetchall():\n",
    "        print(row)"
   ],
   "metadata": {
    "collapsed": false,
    "pycharm": {
     "name": "#%%\n"
    }
   }
  },
  {
   "cell_type": "markdown",
   "source": [
    "## Scrape by lxml"
   ],
   "metadata": {
    "collapsed": false,
    "pycharm": {
     "name": "#%% md\n"
    }
   }
  },
  {
   "cell_type": "code",
   "execution_count": 12,
   "outputs": [],
   "source": [
    "# !pip install lxml\n",
    "# !pip install cssselect"
   ],
   "metadata": {
    "collapsed": false,
    "pycharm": {
     "name": "#%%\n"
    }
   }
  },
  {
   "cell_type": "code",
   "execution_count": 13,
   "outputs": [],
   "source": [
    "import lxml.html"
   ],
   "metadata": {
    "collapsed": false,
    "pycharm": {
     "name": "#%%\n"
    }
   }
  },
  {
   "cell_type": "code",
   "execution_count": 17,
   "outputs": [],
   "source": [
    "# HTML 파일을 읽어 들이고, getroot() 메서드로 HtmlElement 객체 생성\n",
    "tree = lxml.html.parse('full_book_list.htm')\n",
    "html = tree.getroot()"
   ],
   "metadata": {
    "collapsed": false,
    "pycharm": {
     "name": "#%%\n"
    }
   }
  },
  {
   "cell_type": "code",
   "execution_count": 18,
   "outputs": [
    {
     "name": "stdout",
     "output_type": "stream",
     "text": [
      "#gnb None\n",
      "#top_search None\n",
      "#container None\n",
      "https://www.hanbit.co.kr/index.html None\n",
      "https://www.hanbit.co.kr/media/ ÇÑºû¹Ìµð¾î\n",
      "https://www.hanbit.co.kr/academy/ ÇÑºû¾ÆÄ«µ¥¹Ì\n",
      "https://www.hanbit.co.kr/biz/ ÇÑºûºñÁî\n",
      "https://www.hanbit.co.kr/life/ ÇÑºû¶óÀÌÇÁ\n",
      "https://www.hanbit.co.kr/edu/ ÇÑºû¿¡µà\n",
      "https://www.hanbit.co.kr/realtime/ ¸®¾óÅ¸ÀÓ\n",
      "https://www.hanbit.co.kr/textbook/ ÇÑºûÁ¤º¸±³°ú¼­\n",
      "https://www.hanbit.co.kr/rent/ ÇÑºû´ë°ü¼­ºñ½º\n",
      "https://www.hanbit.co.kr/member/login.html ·Î±×ÀÎ\n",
      "https://www.hanbit.co.kr/member/member_agree.html È¸¿ø°¡ÀÔ\n",
      "https://www.hanbit.co.kr/myhanbit/myhanbit.html ¸¶ÀÌÇÑºû\n",
      "https://www.hanbit.co.kr/myhanbit/cart.html Àå¹Ù±¸´Ï\n",
      "https://www.hanbit.co.kr/publisher/foreignrights.html?lang=e ENGLISH\n",
      "https://www.hanbit.co.kr/index.html ÇÑºûÃâÆÇ³×Æ®¿öÅ©\n",
      "https://www.hanbit.co.kr/brand/brand_submain.html BRAND\n",
      "https://www.hanbit.co.kr/channel/channel_submain.html Channel.H\n",
      "https://www.hanbit.co.kr/store/store_submain.html STORE\n",
      "https://www.hanbit.co.kr/support/help_info.html SUPPORT\n",
      "https://www.hanbit.co.kr/event/current/current_event_list.html EVENT\n",
      "https://www.hanbit.co.kr/publisher/foreignrights.html?lang=e RIGHTS\n",
      "javascript:; None\n",
      "# Ä«Å×°í¸®\n",
      "/store/books/category_list.html?cate_cd=001 IT/¸ð¹ÙÀÏ\n",
      "/store/books/category_list.html?cate_cd=001001 ÇÁ·Î±×·¡¹Ö\n",
      "/store/books/category_list.html?cate_cd=001002 À¥\n",
      "/store/books/category_list.html?cate_cd=001003 ¸ð¹ÙÀÏ/½º¸¶Æ®±â±â\n",
      "/store/books/category_list.html?cate_cd=001013 µ¥ÀÌÅÍº£ÀÌ½º\n",
      "/store/books/category_list.html?cate_cd=001005 ¿î¿µÃ¼Á¦\n",
      "/store/books/category_list.html?cate_cd=001014 ÇÏµå¿þ¾î\n",
      "/store/books/category_list.html?cate_cd=001015 ½Ã½ºÅÛ/³×Æ®¿öÅ©\n",
      "/store/books/category_list.html?cate_cd=001016 º¸¾È\n",
      "/store/books/category_list.html?cate_cd=001009 ºñÁî´Ï½º/¹®È­\n",
      "/store/books/category_list.html?cate_cd=001010 °ÔÀÓ\n",
      "/store/books/category_list.html?cate_cd=001017 IT¿¡¼¼ÀÌ\n",
      "/store/books/category_list.html?cate_cd=001012 ÀÚ°ÝÁõ\n",
      "/store/books/category_list.html?cate_cd=001018 ÀÎ°øÁö´É/µ¥ÀÌÅÍ°úÇÐ\n",
      "/store/books/category_list.html?cate_cd=002 MAKE\n",
      "/store/books/category_list.html?cate_cd=002002 Make ÇÁ·ÎÁ§Æ® ºÏ\n",
      "/store/books/category_list.html?cate_cd=003 ITÈ°¿ë\n",
      "/store/books/category_list.html?cate_cd=003001 ¿ÀÇÇ½º/OA\n",
      "/store/books/category_list.html?cate_cd=003002 ±×·¡ÇÈ/¸ÖÆ¼¹Ìµð¾î\n",
      "/store/books/category_list.html?cate_cd=003003 »çÁø/¿¹¼ú\n",
      "/store/books/category_list.html?cate_cd=003004 ÄÄÇ»ÅÍÀÔ¹®/IT±³¾ç\n",
      "/store/books/category_list.html?cate_cd=004 ´ëÇÐ±³Àç\n",
      "/store/books/category_list.html?cate_cd=004003 ¼öÇÐ/Åë°è\n",
      "/store/books/category_list.html?cate_cd=004010 °úÇÐ/°øÇÐÀÏ¹Ý\n",
      "/store/books/category_list.html?cate_cd=004007 ÄÄÇ»ÅÍ°øÇÐ\n",
      "/store/books/category_list.html?cate_cd=004004 ÇÁ·Î±×·¡¹Ö\n",
      "/store/books/category_list.html?cate_cd=004011 µ¥ÀÌÅÍ°úÇÐ/ÀÎ°øÁö´É\n",
      "/store/books/category_list.html?cate_cd=004008 Àü±â/ÀüÀÚ\n",
      "/store/books/category_list.html?cate_cd=004009 ±â°è/ÀÚµ¿Â÷\n",
      "/store/books/category_list.html?cate_cd=004006 OA/±×·¡ÇÈ\n",
      "/store/books/category_list.html?cate_cd=004012 °æ¿µ/°æÁ¦\n",
      "/store/books/category_list.html?cate_cd=004005 ³í¹®\n",
      "/store/books/category_list.html?cate_cd=006 ½Ç¿ë¼­\n",
      "/store/books/category_list.html?cate_cd=006001 Ãë¹Ì/½Ç¿ë\n",
      "/store/books/category_list.html?cate_cd=006002 ¿©Çà\n",
      "/store/books/category_list.html?cate_cd=006003 °Ç°­\n",
      "/store/books/category_list.html?cate_cd=006004 À¯¾Æ/À°¾Æ\n",
      "/store/books/category_list.html?cate_cd=007 °æÁ¦/°æ¿µ/ÀÎ¹®\n",
      "/store/books/category_list.html?cate_cd=007001 °æÁ¦/°æ¿µ\n",
      "/store/books/category_list.html?cate_cd=007002 ÀÚ±â°è¹ß\n",
      "/store/books/category_list.html?cate_cd=007003 ÀÎ¹®/±³¾ç\n",
      "/store/books/category_list.html?cate_cd=007004 ¸¶ÄÉÆÃ\n",
      "/store/books/category_list.html?cate_cd=007005 ¿¡¼¼ÀÌ\n",
      "/store/books/category_list.html?cate_cd=008 À¯¾Æ/¾î¸°ÀÌ/ÃÊµî\n",
      "/store/books/category_list.html?cate_cd=008001 4~6¼¼\n",
      "/store/books/category_list.html?cate_cd=008002 5~7¼¼\n",
      "/store/books/category_list.html?cate_cd=008003 ¿¹ºñÃÊµî\n",
      "/store/books/category_list.html?cate_cd=008004 ÃÊµî±³°ú¿¬°è 1~12¿µ¿ª\n",
      "/store/books/category_list.html?cate_cd=008005 ÃÊµî ÀüÇÐ³â\n",
      "https://www.hanbit.co.kr/store/books/new_book_list.html »õ·Î³ª¿ÂÃ¥\n",
      "https://www.hanbit.co.kr/store/books/reservations_list.html ¿¹¾àµµ¼­\n",
      "https://www.hanbit.co.kr/store/books/bestseller_list.html º£½ºÆ®¼¿·¯\n",
      "https://www.hanbit.co.kr/store/books/full_book_list.html ÀüÃ¼µµ¼­¸ñ·Ï\n",
      "https://www.hanbit.co.kr/store/books/series_list.html ½Ã¸®Áî\n",
      "https://www.hanbit.co.kr/store/item/item_list.html None\n",
      "None \r\n",
      "                  {{ keyword.number }} {{ keyword.bookName }}\r\n",
      "              \n",
      "None \r\n",
      "                  {{ keyword.number }} {{ keyword.bookName }}\r\n",
      "              \n",
      "None None\n",
      "None \r\n",
      "                  \n",
      "None None\n",
      "None None\n",
      "javascript:; ´Ý±â\n",
      "/store/books/full_book_list.html \r\n",
      "                    \t                    \n",
      "/store/books/full_book_list.html?brand=HM \r\n",
      "                                        \t\n",
      "/store/books/full_book_list.html?brand=HA \r\n",
      "                                        \t\n",
      "/store/books/full_book_list.html?brand=HB \r\n",
      "                                        \t\n",
      "/store/books/full_book_list.html?brand=HL \r\n",
      "                                        \t\n",
      "/store/books/full_book_list.html?brand=HE \r\n",
      "                                        \t\n",
      "/store/books/full_book_list.html?srt=p_pub_date&brand= Ãâ°£ÀÏ ¼ø\n",
      "/store/books/full_book_list.html?srt=p_title&brand= µµ¼­¸í ¼ø\n",
      "javascript:document.frm.submit(); ÀüÃ¼ ¸ñ·Ï ´Ù¿î·Îµå\n",
      "/store/books/look.php?p_code=B8661740335 ¹ÞÄ§ ¾ø´Â ÇÑ±Û µ¿È­ : ¹«½Ã¹«½Ã ¸¶³à°¡ ÀÌ»ç ¿Í!\n",
      "/store/books/look.php?p_code=B6084607806 ¹ÞÄ§ ¾ø´Â ÇÑ±Û µ¿È­ : µµ, µµ, µµ±úºñ´Ù!\n",
      "/store/books/look.php?p_code=B1382037871 ¹ÞÄ§ ¾ø´Â ÇÑ±Û µ¿È­ : ¹Ù»Ú´Ù ¹Ùºü ³Ê±¸¸® ¹Ùºü\n",
      "/store/books/look.php?p_code=B8948111854 ¹ÞÄ§ ¾ø´Â ÇÑ±Û µ¿È­ : µµ±úºñ ÆÄÀÚ¸¶ ÆÄÆ¼\n",
      "/store/books/look.php?p_code=B3178834938 ¹ÞÄ§ ¾ø´Â ÇÑ±Û µ¿È­ : 4±Ç ¼¼Æ®\n",
      "/store/books/look.php?p_code=B4162156367 ¿À´Ãµµ ½ÃÀÛÇÏÁö ¸øÇÏ´Â ´ç½ÅÀ» À§ÇØ\n",
      "/store/books/look.php?p_code=B2847674054 ¸®¾ó ¸ù°ñ [2022~2023 ÃÖ½ÅÆÇ]\n",
      "/store/books/look.php?p_code=B5156679966 IT CookBook, ¿ø¸®·Î ÀÌÇØÇÏ´Â Àü·ÂÀüÀÚ°øÇÐ(2ÆÇ)\n",
      "/store/books/look.php?p_code=B6189263297 Æ®·¯½ºÆ®\n",
      "/store/books/look.php?p_code=B8806843023 ¸®¾ó ½Ì°¡Æ÷¸£ [2022~2023 ÃÖ½ÅÆÇ]\n",
      "/store/books/look.php?p_code=B4813114979 ±¸±Û ¾Û½º ½ºÅ©¸³Æ® ¿Ïº® °¡ÀÌµå\n",
      "/store/books/look.php?p_code=B2859439220 ¿ø¼Ò ÀÌ¾ß±â\n",
      "/store/books/look.php?p_code=B1996635146 ÇÚÁî¿Â µ¥ÀÌÅÍ ½Ã°¢È­\n",
      "/store/books/look.php?p_code=B4354575770 »ý°¢ÇÏ´Â ÈûÀÌ ºÙ´Â Ã¹ ¼ûÀº±×¸²Ã£±â\n",
      "/store/books/look.php?p_code=B9063949643 IT CookBook, TCP/IP ¼ÒÄÏ ÇÁ·Î±×·¡¹Ö(2ÆÇ)\n",
      "/store/books/look.php?p_code=B7798657798 ÆÄÀÌ½ãÀ» È°¿ëÇÑ º£ÀÌÁö¾È Åë°è(2ÆÇ)\n",
      "/store/books/look.php?p_code=B5171715268 ÀÎÇÇ´ÏÆ¼\n",
      "/store/books/look.php?p_code=B7400451696 IT CookBook, ½±°Ô ¹è¿ì´Â µ¥ÀÌÅÍ Åë½Å°ú ÄÄÇ»ÅÍ ³×Æ®¿öÅ©(3ÆÇ)\n",
      "/store/books/look.php?p_code=B6129400746 IT CookBook, ¿ìºÐÅõ ¸®´ª½º(3ÆÇ)\n",
      "/store/books/look.php?p_code=B1959656080 ½Ç¿ëÀû Á¢±Ù ¹æ½ÄÀÇ °æ¿µÇÐ¿ø·Ð(10ÆÇ)\n",
      "/store/books/look.php?p_code=B7738896383 °Å½Ã°æÁ¦ÇÐ(3ÆÇ)\n",
      "/store/books/look.php?p_code=B6001875802 ºñÁî´Ï½º µ¥ÀÌÅÍ °úÇÐ\n",
      "/store/books/look.php?p_code=B6361762764 È¥ÀÚ ÇØµµ ÇÁ·Î ÀÛ°¡Ã³·³ Àß ±×¸®´Â ¾ÆÀÌÆÐµå µå·ÎÀ× with ÇÁ·ÎÅ©¸®¿¡ÀÌÆ®\n",
      "/store/books/look.php?p_code=B4947312430 IT CookBook, C·Î ½ÃÀÛÇÏ´Â ÄÄÇ»ÅÍ ÇÁ·Î±×·¡¹Ö(4ÆÇ)\n",
      "/store/books/look.php?p_code=B1393628384 IT CookBook, ÀÎÅÍ³Ý ÇØÅ·°ú º¸¾È(4ÆÇ)\n",
      "/store/books/look.php?p_code=B7718726335 ¸®¾ó ´ºÁú·£µå [2022~2023 ÃÖ½ÅÆÇ]\n",
      "/store/books/look.php?p_code=B9597680767 IT CookBook, ÆÄÀÌ½ã µ¥ÀÌÅÍ ºÐ¼® for Beginner\n",
      "/store/books/look.php?p_code=B7792763682 IT CookBook, ¿¢¼¿ 2019\n",
      "/store/books/look.php?p_code=B8676970090 ½±°Ô µû¶óÇÏ´Â NFT ¸¶½ºÅÍ °¡ÀÌµå\n",
      "/store/books/look.php?p_code=B2119731751 ¿À´ÃºÎÅÍ ÆÀÀåÀÔ´Ï´Ù\n",
      "/store/books/look.php?p_code=B5067324775 IT CookBook, ¼ÒÇÁÆ®¿þ¾î °øÇÐ ÀÌ·Ð°ú ½ÇÁ¦\n",
      "/store/books/look.php?p_code=B9071173699 È¸»ç¿¡¼­ ¹Ù·Î ÅëÇÏ´Â ÆÄ¿öÆ÷ÀÎÆ® FOR STARTERS(°³Á¤ÆÇ)\n",
      "/store/books/look.php?p_code=B3501358503 È¸»ç¿¡¼­ ¹Ù·Î ÅëÇÏ´Â ¿¢¼¿ FOR STARTERS(°³Á¤ÆÇ)\n",
      "/store/books/look.php?p_code=B2835837863 ÃÊµî °øºÎ ½À°ü ¹ÙÀÌºí: ¶È°°ÀÌ ÇÏ´Âµ¥ Å¹¿ùÇÑ °á°ú¸¦ ³»´Â ¾ÆÀÌ´Â ¹«¾ùÀÌ ´Ù¸¦±î?\n",
      "/store/books/look.php?p_code=B9503831552 ÀÌ±×³ëº§»ó ÀÐ¾îµå¸³´Ï´Ù\n",
      "/store/books/look.php?p_code=B2247981475 °øÇÐµµ¶ó¸é ¹Ýµå½Ã ¾Ë¾Æ¾ß ÇÒ ÃÖ¼ÒÇÑÀÇ ¼öÇÐ(8ÆÇ)\n",
      "/store/books/look.php?p_code=B9102351881 ±â¾÷ÀÇ ¼º°øÀ» ÀÌ²ô´Â Developer Relations\n",
      "/store/books/look.php?p_code=B5825921855 »ç·Ê ºÐ¼®À¸·Î ¹è¿ì´Â µ¥ÀÌÅÍ ½Ã°¢È­\n",
      "/store/books/look.php?p_code=B3886303135 Å¬¶ó¿ìµå ³×ÀÌÆ¼ºê ¾ÖÇÃ¸®ÄÉÀÌ¼Ç µðÀÚÀÎ ÆÐÅÏ\n",
      "/store/books/look.php?p_code=B7422209817 º¯È­ÇÏ´Â ¼¼°è Áú¼­\n",
      "/store/books/look.php?p_code=B1681646737 È¥ÀÚ °øºÎÇÏ´ÂÆÄÀÌ½ã(°³Á¤ÆÇ)\n",
      "/store/books/look.php?p_code=B1355665429 ¾ÆÀÌÁÖµµÀÌÀ¯½Ä ·¹½ÃÇÇºÏ(°³Á¤ÆÇ)\n",
      "/store/books/look.php?p_code=B9365371874 ¼Ò¹®³­ ¸í°­ÀÇ : ¼ÒÇÃÀÇ Ã³À½ ¸¸³­ ¸®¾×Æ®\n",
      "/store/books/look.php?p_code=B6059097161 ÀûÁ¤ ¼ÒÇÁÆ®¿þ¾î ¾ÆÅ°ÅØÃ³\n",
      "/store/books/look.php?p_code=B6562895528 ¸®¾ó È£ÁÖ [2022~2023 ÃÖ½ÅÆÇ]\n",
      "/store/books/look.php?p_code=B5594567896 È¸»ç¿¡¼­ ¹Ù·Î ÅëÇÏ´Â ½Ç¹« ¿¢¼¿+ÆÄ¿öÆ÷ÀÎÆ®+¿öµå&ÇÑ±Û(¸ðµç ¹öÀü »ç¿ë °¡´É, °³Á¤ÆÇ)\n",
      "/store/books/look.php?p_code=B2317469552 È¥ÀÚ °øºÎÇÏ´Â ¾âÆÅÇÑ ÄÚµù Áö½Ä\n",
      "/store/books/look.php?p_code=B3563253053 ¶È¶ÈÇÑ ÄÚµå ÀÛ¼ºÀ» À§ÇÑ ½ÇÀü ¾Ë°í¸®Áò\n",
      "/store/books/look.php?p_code=B4622884510 IT CookBook, UI/UX µðÀÚÀÎ ÀÌ·Ð°ú ½Ç¹« with ¾îµµºñ XD\n",
      "/store/books/look.php?p_code=B7975223427 ¶§·ÁÄ¡¿ì±âÀÇ ±â¼ú\n",
      "/store/books/full_book_list.html?page=2&srt=p_pub_date&brand= 2\n",
      "/store/books/full_book_list.html?page=3&srt=p_pub_date&brand= 3\n",
      "/store/books/full_book_list.html?page=4&srt=p_pub_date&brand= 4\n",
      "/store/books/full_book_list.html?page=5&srt=p_pub_date&brand= 5\n",
      "/store/books/full_book_list.html?page=6&srt=p_pub_date&brand= 6\n",
      "/store/books/full_book_list.html?page=7&srt=p_pub_date&brand= 7\n",
      "/store/books/full_book_list.html?page=8&srt=p_pub_date&brand= 8\n",
      "/store/books/full_book_list.html?page=9&srt=p_pub_date&brand= 9\n",
      "/store/books/full_book_list.html?page=10&srt=p_pub_date&brand= 10\n",
      "/store/books/full_book_list.html?page=11&srt=p_pub_date&brand= None\n",
      "javascript:document.frm.submit(); ÀüÃ¼ ¸ñ·Ï ´Ù¿î·Îµå\n",
      "https://www.hanbit.co.kr/publisher/index.html È¸»ç¼Ò°³\n",
      "https://www.hanbit.co.kr/publisher/index.html KOR\n",
      "https://www.hanbit.co.kr/publisher/index.html?lang=e ENG\n",
      "https://www.hanbit.co.kr/publisher/contact.html?lang=k ¾àµµ\n",
      "https://www.hanbit.co.kr/publisher/write.html ±âÈ¹ ¹× ¿ø°í ¸ðÁý\n",
      "https://www.hanbit.co.kr/publisher/career.html Ã¤¿ë\n",
      "mailto:jobs@hanbit.co.kr jobs@hanbit.co.kr\n",
      "https://www.hanbit.co.kr/publisher/foreignrights.html FOREIGN RIGHTS\n",
      "https://www.hanbit.co.kr/member/use_agreement.html ÀÌ¿ë¾à°ü\n",
      "https://www.hanbit.co.kr/member/privacy_policy.html None\n",
      "https://www.hanbit.co.kr/sitemap/sitemap.html »çÀÌÆ®¸Ê\n",
      "/devletter/ None\n",
      "https://www.facebook.com/hanbitmedia None\n",
      "https://www.youtube.com/ÇÑºûTV None\n",
      "http://blog.hanbit.co.kr/ None\n",
      "https://m.post.naver.com/hanbitstory None\n",
      "http://www.ftc.go.kr/bizCommPop.do?wrkr_no=2208105665 [È®ÀÎ]\n",
      "https://www.hanbit.co.kr/support/supplement_list.html ÀÚ·á½Ç\n"
     ]
    }
   ],
   "source": [
    "# cssselct() 메서드로 a 요소의 리스트를 추출 및 반복 수행\n",
    "for a in html.cssselect('a'):\n",
    "    # href 속성과 글자를 추출\n",
    "    print(a.get('href'), a.text)"
   ],
   "metadata": {
    "collapsed": false,
    "pycharm": {
     "name": "#%%\n"
    }
   }
  },
  {
   "cell_type": "markdown",
   "source": [
    "## scrape by bs4"
   ],
   "metadata": {
    "collapsed": false,
    "pycharm": {
     "name": "#%% md\n"
    }
   }
  },
  {
   "cell_type": "code",
   "execution_count": 19,
   "outputs": [],
   "source": [
    "# !pip install beautifulsoup4"
   ],
   "metadata": {
    "collapsed": false,
    "pycharm": {
     "name": "#%%\n"
    }
   }
  },
  {
   "cell_type": "code",
   "execution_count": 20,
   "outputs": [],
   "source": [
    "from bs4 import BeautifulSoup"
   ],
   "metadata": {
    "collapsed": false,
    "pycharm": {
     "name": "#%%\n"
    }
   }
  },
  {
   "cell_type": "code",
   "execution_count": 21,
   "outputs": [],
   "source": [
    "# HTML 파일을 읽어 들이고 BeautifulSoup 객체를 생성\n",
    "with open('full_book_list.htm') as f:\n",
    "    soup = BeautifulSoup(f, 'html.parser')"
   ],
   "metadata": {
    "collapsed": false,
    "pycharm": {
     "name": "#%%\n"
    }
   }
  },
  {
   "cell_type": "code",
   "execution_count": 22,
   "outputs": [
    {
     "name": "stdout",
     "output_type": "stream",
     "text": [
      "#gnb 메뉴 바로가기\n",
      "#top_search 검색 및 카테고리 바로가기\n",
      "#container 본문 바로가기\n",
      "https://www.hanbit.co.kr/index.html HOME\n",
      "https://www.hanbit.co.kr/media/ 한빛미디어\n",
      "https://www.hanbit.co.kr/academy/ 한빛아카데미\n",
      "https://www.hanbit.co.kr/biz/ 한빛비즈\n",
      "https://www.hanbit.co.kr/life/ 한빛라이프\n",
      "https://www.hanbit.co.kr/edu/ 한빛에듀\n",
      "https://www.hanbit.co.kr/realtime/ 리얼타임\n",
      "https://www.hanbit.co.kr/textbook/ 한빛정보교과서\n",
      "https://www.hanbit.co.kr/rent/ 한빛대관서비스\n",
      "https://www.hanbit.co.kr/member/login.html 로그인\n",
      "https://www.hanbit.co.kr/member/member_agree.html 회원가입\n",
      "https://www.hanbit.co.kr/myhanbit/myhanbit.html 마이한빛\n",
      "https://www.hanbit.co.kr/myhanbit/cart.html 장바구니\n",
      "https://www.hanbit.co.kr/publisher/foreignrights.html?lang=e ENGLISH\n",
      "https://www.hanbit.co.kr/index.html 한빛출판네트워크\n",
      "https://www.hanbit.co.kr/brand/brand_submain.html BRAND\n",
      "https://www.hanbit.co.kr/channel/channel_submain.html Channel.H\n",
      "https://www.hanbit.co.kr/store/store_submain.html STORE\n",
      "https://www.hanbit.co.kr/support/help_info.html SUPPORT\n",
      "https://www.hanbit.co.kr/event/current/current_event_list.html EVENT\n",
      "https://www.hanbit.co.kr/publisher/foreignrights.html?lang=e RIGHTS\n",
      "javascript:; SEARCH\n",
      "# 카테고리\n",
      "/store/books/category_list.html?cate_cd=001 IT/모바일\n",
      "/store/books/category_list.html?cate_cd=001001 프로그래밍\n",
      "/store/books/category_list.html?cate_cd=001002 웹\n",
      "/store/books/category_list.html?cate_cd=001003 모바일/스마트기기\n",
      "/store/books/category_list.html?cate_cd=001013 데이터베이스\n",
      "/store/books/category_list.html?cate_cd=001005 운영체제\n",
      "/store/books/category_list.html?cate_cd=001014 하드웨어\n",
      "/store/books/category_list.html?cate_cd=001015 시스템/네트워크\n",
      "/store/books/category_list.html?cate_cd=001016 보안\n",
      "/store/books/category_list.html?cate_cd=001009 비즈니스/문화\n",
      "/store/books/category_list.html?cate_cd=001010 게임\n",
      "/store/books/category_list.html?cate_cd=001017 IT에세이\n",
      "/store/books/category_list.html?cate_cd=001012 자격증\n",
      "/store/books/category_list.html?cate_cd=001018 인공지능/데이터과학\n",
      "/store/books/category_list.html?cate_cd=002 MAKE\n",
      "/store/books/category_list.html?cate_cd=002002 Make 프로젝트 북\n",
      "/store/books/category_list.html?cate_cd=003 IT활용\n",
      "/store/books/category_list.html?cate_cd=003001 오피스/OA\n",
      "/store/books/category_list.html?cate_cd=003002 그래픽/멀티미디어\n",
      "/store/books/category_list.html?cate_cd=003003 사진/예술\n",
      "/store/books/category_list.html?cate_cd=003004 컴퓨터입문/IT교양\n",
      "/store/books/category_list.html?cate_cd=004 대학교재\n",
      "/store/books/category_list.html?cate_cd=004003 수학/통계\n",
      "/store/books/category_list.html?cate_cd=004010 과학/공학일반\n",
      "/store/books/category_list.html?cate_cd=004007 컴퓨터공학\n",
      "/store/books/category_list.html?cate_cd=004004 프로그래밍\n",
      "/store/books/category_list.html?cate_cd=004011 데이터과학/인공지능\n",
      "/store/books/category_list.html?cate_cd=004008 전기/전자\n",
      "/store/books/category_list.html?cate_cd=004009 기계/자동차\n",
      "/store/books/category_list.html?cate_cd=004006 OA/그래픽\n",
      "/store/books/category_list.html?cate_cd=004012 경영/경제\n",
      "/store/books/category_list.html?cate_cd=004005 논문\n",
      "/store/books/category_list.html?cate_cd=006 실용서\n",
      "/store/books/category_list.html?cate_cd=006001 취미/실용\n",
      "/store/books/category_list.html?cate_cd=006002 여행\n",
      "/store/books/category_list.html?cate_cd=006003 건강\n",
      "/store/books/category_list.html?cate_cd=006004 유아/육아\n",
      "/store/books/category_list.html?cate_cd=007 경제/경영/인문\n",
      "/store/books/category_list.html?cate_cd=007001 경제/경영\n",
      "/store/books/category_list.html?cate_cd=007002 자기계발\n",
      "/store/books/category_list.html?cate_cd=007003 인문/교양\n",
      "/store/books/category_list.html?cate_cd=007004 마케팅\n",
      "/store/books/category_list.html?cate_cd=007005 에세이\n",
      "/store/books/category_list.html?cate_cd=008 유아/어린이/초등\n",
      "/store/books/category_list.html?cate_cd=008001 4~6세\n",
      "/store/books/category_list.html?cate_cd=008002 5~7세\n",
      "/store/books/category_list.html?cate_cd=008003 예비초등\n",
      "/store/books/category_list.html?cate_cd=008004 초등교과연계 1~12영역\n",
      "/store/books/category_list.html?cate_cd=008005 초등 전학년\n",
      "https://www.hanbit.co.kr/store/books/new_book_list.html 새로나온책\n",
      "https://www.hanbit.co.kr/store/books/reservations_list.html 예약도서\n",
      "https://www.hanbit.co.kr/store/books/bestseller_list.html 베스트셀러\n",
      "https://www.hanbit.co.kr/store/books/full_book_list.html 전체도서목록\n",
      "https://www.hanbit.co.kr/store/books/series_list.html 시리즈\n",
      "https://www.hanbit.co.kr/store/item/item_list.html 오라일리 굿즈\n",
      "None \n",
      "                  {{ keyword.number }} {{ keyword.bookName }}\n",
      "              \n",
      "None \n",
      "                  {{ keyword.number }} {{ keyword.bookName }}\n",
      "              \n",
      "None \n",
      "None \n",
      "\n",
      "\n",
      "None \n",
      "None \n",
      "javascript:; 닫기\n",
      "/store/books/full_book_list.html \n",
      "전체\n",
      "\n",
      "/store/books/full_book_list.html?brand=HM \n",
      "M\n",
      "\n",
      "/store/books/full_book_list.html?brand=HA \n",
      "A\n",
      "\n",
      "/store/books/full_book_list.html?brand=HB \n",
      "B\n",
      "\n",
      "/store/books/full_book_list.html?brand=HL \n",
      "L\n",
      "\n",
      "/store/books/full_book_list.html?brand=HE \n",
      "E\n",
      "\n",
      "/store/books/full_book_list.html?srt=p_pub_date&brand= 출간일 순\n",
      "/store/books/full_book_list.html?srt=p_title&brand= 도서명 순\n",
      "javascript:document.frm.submit(); 전체 목록 다운로드\n",
      "/store/books/look.php?p_code=B8661740335 받침 없는 한글 동화 : 무시무시 마녀가 이사 와!\n",
      "/store/books/look.php?p_code=B6084607806 받침 없는 한글 동화 : 도, 도, 도깨비다!\n",
      "/store/books/look.php?p_code=B1382037871 받침 없는 한글 동화 : 바쁘다 바빠 너구리 바빠\n",
      "/store/books/look.php?p_code=B8948111854 받침 없는 한글 동화 : 도깨비 파자마 파티\n",
      "/store/books/look.php?p_code=B3178834938 받침 없는 한글 동화 : 4권 세트\n",
      "/store/books/look.php?p_code=B4162156367 오늘도 시작하지 못하는 당신을 위해\n",
      "/store/books/look.php?p_code=B2847674054 리얼 몽골 [2022~2023 최신판]\n",
      "/store/books/look.php?p_code=B5156679966 IT CookBook, 원리로 이해하는 전력전자공학(2판)\n",
      "/store/books/look.php?p_code=B6189263297 트러스트\n",
      "/store/books/look.php?p_code=B8806843023 리얼 싱가포르 [2022~2023 최신판]\n",
      "/store/books/look.php?p_code=B4813114979 구글 앱스 스크립트 완벽 가이드\n",
      "/store/books/look.php?p_code=B2859439220 원소 이야기\n",
      "/store/books/look.php?p_code=B1996635146 핸즈온 데이터 시각화\n",
      "/store/books/look.php?p_code=B4354575770 생각하는 힘이 붙는 첫 숨은그림찾기\n",
      "/store/books/look.php?p_code=B9063949643 IT CookBook, TCP/IP 소켓 프로그래밍(2판)\n",
      "/store/books/look.php?p_code=B7798657798 파이썬을 활용한 베이지안 통계(2판)\n",
      "/store/books/look.php?p_code=B5171715268 인피니티\n",
      "/store/books/look.php?p_code=B7400451696 IT CookBook, 쉽게 배우는 데이터 통신과 컴퓨터 네트워크(3판)\n",
      "/store/books/look.php?p_code=B6129400746 IT CookBook, 우분투 리눅스(3판)\n",
      "/store/books/look.php?p_code=B1959656080 실용적 접근 방식의 경영학원론(10판)\n",
      "/store/books/look.php?p_code=B7738896383 거시경제학(3판)\n",
      "/store/books/look.php?p_code=B6001875802 비즈니스 데이터 과학\n",
      "/store/books/look.php?p_code=B6361762764 혼자 해도 프로 작가처럼 잘 그리는 아이패드 드로잉 with 프로크리에이트\n",
      "/store/books/look.php?p_code=B4947312430 IT CookBook, C로 시작하는 컴퓨터 프로그래밍(4판)\n",
      "/store/books/look.php?p_code=B1393628384 IT CookBook, 인터넷 해킹과 보안(4판)\n",
      "/store/books/look.php?p_code=B7718726335 리얼 뉴질랜드 [2022~2023 최신판]\n",
      "/store/books/look.php?p_code=B9597680767 IT CookBook, 파이썬 데이터 분석 for Beginner\n",
      "/store/books/look.php?p_code=B7792763682 IT CookBook, 엑셀 2019\n",
      "/store/books/look.php?p_code=B8676970090 쉽게 따라하는 NFT 마스터 가이드\n",
      "/store/books/look.php?p_code=B2119731751 오늘부터 팀장입니다\n",
      "/store/books/look.php?p_code=B5067324775 IT CookBook, 소프트웨어 공학 이론과 실제\n",
      "/store/books/look.php?p_code=B9071173699 회사에서 바로 통하는 파워포인트 FOR STARTERS(개정판)\n",
      "/store/books/look.php?p_code=B3501358503 회사에서 바로 통하는 엑셀 FOR STARTERS(개정판)\n",
      "/store/books/look.php?p_code=B2835837863 초등 공부 습관 바이블: 똑같이 하는데 탁월한 결과를 내는 아이는 무엇이 다를까?\n",
      "/store/books/look.php?p_code=B9503831552 이그노벨상 읽어드립니다\n",
      "/store/books/look.php?p_code=B2247981475 공학도라면 반드시 알아야 할 최소한의 수학(8판)\n",
      "/store/books/look.php?p_code=B9102351881 기업의 성공을 이끄는 Developer Relations\n",
      "/store/books/look.php?p_code=B5825921855 사례 분석으로 배우는 데이터 시각화\n",
      "/store/books/look.php?p_code=B3886303135 클라우드 네이티브 애플리케이션 디자인 패턴\n",
      "/store/books/look.php?p_code=B7422209817 변화하는 세계 질서\n",
      "/store/books/look.php?p_code=B1681646737 혼자 공부하는파이썬(개정판)\n",
      "/store/books/look.php?p_code=B1355665429 아이주도이유식 레시피북(개정판)\n",
      "/store/books/look.php?p_code=B9365371874 소문난 명강의 : 소플의 처음 만난 리액트\n",
      "/store/books/look.php?p_code=B6059097161 적정 소프트웨어 아키텍처\n",
      "/store/books/look.php?p_code=B6562895528 리얼 호주 [2022~2023 최신판]\n",
      "/store/books/look.php?p_code=B5594567896 회사에서 바로 통하는 실무 엑셀+파워포인트+워드&한글(모든 버전 사용 가능, 개정판)\n",
      "/store/books/look.php?p_code=B2317469552 혼자 공부하는 얄팍한 코딩 지식\n",
      "/store/books/look.php?p_code=B3563253053 똑똑한 코드 작성을 위한 실전 알고리즘\n",
      "/store/books/look.php?p_code=B4622884510 IT CookBook, UI/UX 디자인 이론과 실무 with 어도비 XD\n",
      "/store/books/look.php?p_code=B7975223427 때려치우기의 기술\n",
      "/store/books/full_book_list.html?page=2&srt=p_pub_date&brand= 2\n",
      "/store/books/full_book_list.html?page=3&srt=p_pub_date&brand= 3\n",
      "/store/books/full_book_list.html?page=4&srt=p_pub_date&brand= 4\n",
      "/store/books/full_book_list.html?page=5&srt=p_pub_date&brand= 5\n",
      "/store/books/full_book_list.html?page=6&srt=p_pub_date&brand= 6\n",
      "/store/books/full_book_list.html?page=7&srt=p_pub_date&brand= 7\n",
      "/store/books/full_book_list.html?page=8&srt=p_pub_date&brand= 8\n",
      "/store/books/full_book_list.html?page=9&srt=p_pub_date&brand= 9\n",
      "/store/books/full_book_list.html?page=10&srt=p_pub_date&brand= 10\n",
      "/store/books/full_book_list.html?page=11&srt=p_pub_date&brand= >\n",
      "javascript:document.frm.submit(); 전체 목록 다운로드\n",
      "https://www.hanbit.co.kr/publisher/index.html 회사소개\n",
      "https://www.hanbit.co.kr/publisher/index.html KOR\n",
      "https://www.hanbit.co.kr/publisher/index.html?lang=e ENG\n",
      "https://www.hanbit.co.kr/publisher/contact.html?lang=k 약도\n",
      "https://www.hanbit.co.kr/publisher/write.html 기획 및 원고 모집\n",
      "https://www.hanbit.co.kr/publisher/career.html 채용\n",
      "mailto:jobs@hanbit.co.kr jobs@hanbit.co.kr\n",
      "https://www.hanbit.co.kr/publisher/foreignrights.html FOREIGN RIGHTS\n",
      "https://www.hanbit.co.kr/member/use_agreement.html 이용약관\n",
      "https://www.hanbit.co.kr/member/privacy_policy.html 개인정보처리방침\n",
      "https://www.hanbit.co.kr/sitemap/sitemap.html 사이트맵\n",
      "/devletter/ 데브레터 보러가기\n",
      "https://www.facebook.com/hanbitmedia 페이스북\n",
      "https://www.youtube.com/한빛TV 유튜브\n",
      "http://blog.hanbit.co.kr/ 블로그\n",
      "https://m.post.naver.com/hanbitstory 네이버포스트\n",
      "http://www.ftc.go.kr/bizCommPop.do?wrkr_no=2208105665 [확인]\n",
      "https://www.hanbit.co.kr/support/supplement_list.html 자료실\n"
     ]
    }
   ],
   "source": [
    "# find_all() 메서드로 a 요소를 추출 및 반복 수행\n",
    "for a in soup.find_all('a'):\n",
    "    # href 속성과 글자를 추출합니다.\n",
    "    print(a.get('href'), a.text)"
   ],
   "metadata": {
    "collapsed": false,
    "pycharm": {
     "name": "#%%\n"
    }
   }
  },
  {
   "cell_type": "code",
   "execution_count": null,
   "outputs": [],
   "source": [],
   "metadata": {
    "collapsed": false,
    "pycharm": {
     "name": "#%%\n"
    }
   }
  }
 ],
 "metadata": {
  "kernelspec": {
   "display_name": "Python 3",
   "language": "python",
   "name": "python3"
  },
  "language_info": {
   "codemirror_mode": {
    "name": "ipython",
    "version": 2
   },
   "file_extension": ".py",
   "mimetype": "text/x-python",
   "name": "python",
   "nbconvert_exporter": "python",
   "pygments_lexer": "ipython2",
   "version": "2.7.6"
  }
 },
 "nbformat": 4,
 "nbformat_minor": 0
}